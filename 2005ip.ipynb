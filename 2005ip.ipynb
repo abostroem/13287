{
 "metadata": {
  "name": "",
  "signature": "sha256:4cf8dc65cc2a8dbce5c44127c504736a9f6e55816e95182b77e412acb6196520"
 },
 "nbformat": 3,
 "nbformat_minor": 0,
 "worksheets": [
  {
   "cells": [
    {
     "cell_type": "markdown",
     "metadata": {},
     "source": [
      "#Quicklook at the default spectra"
     ]
    },
    {
     "cell_type": "code",
     "collapsed": false,
     "input": [
      "import glob\n",
      "from astropy.io import fits\n",
      "from matplotlib import pyplot\n",
      "from astropy.convolution import convolve, Box1DKernel"
     ],
     "language": "python",
     "metadata": {},
     "outputs": [
      {
       "output_type": "stream",
       "stream": "stderr",
       "text": [
        "WARNING: AstropyDeprecationWarning: Config parameter 'auto_colname' in section [table.column] of the file '/Users/abostroem/.astropy/config/astropy.cfg' is deprecated. Use 'auto_colname' in section [column] instead. [astropy.config.configuration]\n",
        "WARNING:astropy:AstropyDeprecationWarning: Config parameter 'auto_colname' in section [table.column] of the file '/Users/abostroem/.astropy/config/astropy.cfg' is deprecated. Use 'auto_colname' in section [column] instead.\n"
       ]
      }
     ],
     "prompt_number": 7
    },
    {
     "cell_type": "code",
     "collapsed": false,
     "input": [
      "flist = glob.glob('otfr_data2/ocdd02*x1d.fits')\n",
      "for ifile in flist:\n",
      "    tbdata = fits.getdata(ifile, 1)\n",
      "    pyplot.plot(tbdata['wavelength'][tbdata['dq'] == 0], tbdata['flux'][tbdata['dq'] == 0])"
     ],
     "language": "python",
     "metadata": {},
     "outputs": [
      {
       "ename": "ValueError",
       "evalue": "sequence too large; must be smaller than 32",
       "output_type": "pyerr",
       "traceback": [
        "\u001b[0;31m---------------------------------------------------------------------------\u001b[0m\n\u001b[0;31mValueError\u001b[0m                                Traceback (most recent call last)",
        "\u001b[0;32m<ipython-input-9-7d55fc176ea2>\u001b[0m in \u001b[0;36m<module>\u001b[0;34m()\u001b[0m\n\u001b[1;32m      2\u001b[0m \u001b[0;32mfor\u001b[0m \u001b[0mifile\u001b[0m \u001b[0;32min\u001b[0m \u001b[0mflist\u001b[0m\u001b[0;34m:\u001b[0m\u001b[0;34m\u001b[0m\u001b[0m\n\u001b[1;32m      3\u001b[0m     \u001b[0mtbdata\u001b[0m \u001b[0;34m=\u001b[0m \u001b[0mfits\u001b[0m\u001b[0;34m.\u001b[0m\u001b[0mgetdata\u001b[0m\u001b[0;34m(\u001b[0m\u001b[0mifile\u001b[0m\u001b[0;34m,\u001b[0m \u001b[0;36m1\u001b[0m\u001b[0;34m)\u001b[0m\u001b[0;34m\u001b[0m\u001b[0m\n\u001b[0;32m----> 4\u001b[0;31m     \u001b[0mpyplot\u001b[0m\u001b[0;34m.\u001b[0m\u001b[0mplot\u001b[0m\u001b[0;34m(\u001b[0m\u001b[0mtbdata\u001b[0m\u001b[0;34m[\u001b[0m\u001b[0;34m'wavelength'\u001b[0m\u001b[0;34m]\u001b[0m\u001b[0;34m[\u001b[0m\u001b[0mtbdata\u001b[0m\u001b[0;34m[\u001b[0m\u001b[0;34m'dq'\u001b[0m\u001b[0;34m]\u001b[0m \u001b[0;34m==\u001b[0m \u001b[0;36m0\u001b[0m\u001b[0;34m]\u001b[0m\u001b[0;34m,\u001b[0m \u001b[0mboxcar\u001b[0m\u001b[0;34m(\u001b[0m\u001b[0mtbdata\u001b[0m\u001b[0;34m[\u001b[0m\u001b[0;34m'flux'\u001b[0m\u001b[0;34m]\u001b[0m\u001b[0;34m[\u001b[0m\u001b[0mtbdata\u001b[0m\u001b[0;34m[\u001b[0m\u001b[0;34m'dq'\u001b[0m\u001b[0;34m]\u001b[0m \u001b[0;34m==\u001b[0m \u001b[0;36m0\u001b[0m\u001b[0;34m]\u001b[0m\u001b[0;34m,\u001b[0m \u001b[0;34m(\u001b[0m\u001b[0;36m5\u001b[0m\u001b[0;34m,\u001b[0m\u001b[0;34m)\u001b[0m\u001b[0;34m)\u001b[0m\u001b[0;34m)\u001b[0m\u001b[0;34m\u001b[0m\u001b[0m\n\u001b[0m",
        "\u001b[0;32m/Users/abostroem/anaconda/lib/python2.7/site-packages/scipy/signal/windows.pyc\u001b[0m in \u001b[0;36mboxcar\u001b[0;34m(M, sym)\u001b[0m\n\u001b[1;32m     55\u001b[0m \u001b[0;34m\u001b[0m\u001b[0m\n\u001b[1;32m     56\u001b[0m     \"\"\"\n\u001b[0;32m---> 57\u001b[0;31m     \u001b[0;32mreturn\u001b[0m \u001b[0mnp\u001b[0m\u001b[0;34m.\u001b[0m\u001b[0mones\u001b[0m\u001b[0;34m(\u001b[0m\u001b[0mM\u001b[0m\u001b[0;34m,\u001b[0m \u001b[0mfloat\u001b[0m\u001b[0;34m)\u001b[0m\u001b[0;34m\u001b[0m\u001b[0m\n\u001b[0m\u001b[1;32m     58\u001b[0m \u001b[0;34m\u001b[0m\u001b[0m\n\u001b[1;32m     59\u001b[0m \u001b[0;34m\u001b[0m\u001b[0m\n",
        "\u001b[0;32m/Users/abostroem/anaconda/lib/python2.7/site-packages/numpy/core/numeric.pyc\u001b[0m in \u001b[0;36mones\u001b[0;34m(shape, dtype, order)\u001b[0m\n\u001b[1;32m    176\u001b[0m \u001b[0;34m\u001b[0m\u001b[0m\n\u001b[1;32m    177\u001b[0m     \"\"\"\n\u001b[0;32m--> 178\u001b[0;31m     \u001b[0ma\u001b[0m \u001b[0;34m=\u001b[0m \u001b[0mempty\u001b[0m\u001b[0;34m(\u001b[0m\u001b[0mshape\u001b[0m\u001b[0;34m,\u001b[0m \u001b[0mdtype\u001b[0m\u001b[0;34m,\u001b[0m \u001b[0morder\u001b[0m\u001b[0;34m)\u001b[0m\u001b[0;34m\u001b[0m\u001b[0m\n\u001b[0m\u001b[1;32m    179\u001b[0m     \u001b[0mmultiarray\u001b[0m\u001b[0;34m.\u001b[0m\u001b[0mcopyto\u001b[0m\u001b[0;34m(\u001b[0m\u001b[0ma\u001b[0m\u001b[0;34m,\u001b[0m \u001b[0;36m1\u001b[0m\u001b[0;34m,\u001b[0m \u001b[0mcasting\u001b[0m\u001b[0;34m=\u001b[0m\u001b[0;34m'unsafe'\u001b[0m\u001b[0;34m)\u001b[0m\u001b[0;34m\u001b[0m\u001b[0m\n\u001b[1;32m    180\u001b[0m     \u001b[0;32mreturn\u001b[0m \u001b[0ma\u001b[0m\u001b[0;34m\u001b[0m\u001b[0m\n",
        "\u001b[0;31mValueError\u001b[0m: sequence too large; must be smaller than 32"
       ]
      }
     ],
     "prompt_number": 9
    },
    {
     "cell_type": "code",
     "collapsed": false,
     "input": [
      "\n",
      "flist = glob.glob('otfr_data2/ocdd02*x1d.fits')\n",
      "for ifile in flist:\n",
      "    tbdata = fits.getdata(ifile, 1)\n",
      "    smoothed_signal = convolve(tbdata['flux'][tbdata['dq'] == 0], Box1DKernel(5))\n",
      "    pyplot.plot(tbdata['wavelength'][tbdata['dq'] == 0],smoothed_signal)"
     ],
     "language": "python",
     "metadata": {},
     "outputs": [],
     "prompt_number": 14
    },
    {
     "cell_type": "code",
     "collapsed": false,
     "input": [
      "scipy.__version__"
     ],
     "language": "python",
     "metadata": {},
     "outputs": [
      {
       "metadata": {},
       "output_type": "pyout",
       "prompt_number": 12,
       "text": [
        "'0.14.0'"
       ]
      }
     ],
     "prompt_number": 12
    },
    {
     "cell_type": "code",
     "collapsed": false,
     "input": [
      "d = 30 #mpc\n",
      "#z = (lambda/lambda_0) - 1\n",
      "#lambda_0 = lambda/(z + 1)\n"
     ],
     "language": "python",
     "metadata": {},
     "outputs": []
    },
    {
     "cell_type": "markdown",
     "metadata": {},
     "source": [
      "##Deredshift"
     ]
    },
    {
     "cell_type": "code",
     "collapsed": false,
     "input": [
      "flist = glob.glob('otfr_data2/ocdd02*x1d.fits')\n",
      "fig = pyplot.figure(figsize = [40, 10])\n",
      "for ifile in flist:\n",
      "    tbdata = fits.getdata(ifile, 1)\n",
      "    deredshift_wl = tbdata['wavelength'][tbdata['dq'] == 0]/(0.0072 + 1.0)\n",
      "    smoothed_signal = convolve(tbdata['flux'][tbdata['dq'] == 0], Box1DKernel(5))\n",
      "    pyplot.plot(deredshift_wl,smoothed_signal, 'k')"
     ],
     "language": "python",
     "metadata": {},
     "outputs": [],
     "prompt_number": 18
    },
    {
     "cell_type": "code",
     "collapsed": false,
     "input": [
      "line_list = {'Mg':[2796, 2802], 'SiIII/CIII':[1883, 1892, 1906, 1909], \n",
      "             'NIII':[1747, 1753], 'OIII':[1661, 1666], 'CIV':[1549, 1551], \n",
      "             'NIV':[1483, 1488], 'HeII':[1640], 'NeIII':[1815], 'NV':[1240], \n",
      "             'SiIV':[1394, 1403], 'CII':[2322, 2329]}\n",
      "\n",
      "colors = ['r', 'orange', 'gold', 'g', 'c', 'purple', 'lime', 'pink', 'brown', 'grey', 'm']\n",
      "for color_indx, elem in enumerate(line_list.keys()):\n",
      "    for iline in line_list[elem]:\n",
      "        pyplot.axvline(iline, color = colors[color_indx])\n",
      "    pyplot.axvline(iline, color = colors[color_indx], label = elem)\n",
      "    pyplot.legend()"
     ],
     "language": "python",
     "metadata": {},
     "outputs": [],
     "prompt_number": 19
    },
    {
     "cell_type": "code",
     "collapsed": false,
     "input": [
      "pyplot.xlabel('Deredshifted Wavelength')\n",
      "pyplot.ylabel('Flux')\n",
      "pyplot.title('2005ip OTFR Spectrum FUV and NUV')"
     ],
     "language": "python",
     "metadata": {},
     "outputs": [
      {
       "metadata": {},
       "output_type": "pyout",
       "prompt_number": 21,
       "text": [
        "<matplotlib.text.Text at 0x112638390>"
       ]
      }
     ],
     "prompt_number": 21
    },
    {
     "cell_type": "code",
     "collapsed": false,
     "input": [
      "pyplot.savefig('2005ip_otfr_quicklook.pdf')"
     ],
     "language": "python",
     "metadata": {},
     "outputs": [],
     "prompt_number": 22
    },
    {
     "cell_type": "code",
     "collapsed": false,
     "input": [],
     "language": "python",
     "metadata": {},
     "outputs": []
    }
   ],
   "metadata": {}
  }
 ]
}