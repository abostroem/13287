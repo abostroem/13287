{
 "metadata": {
  "name": "",
  "signature": "sha256:9232d4ad9b83789c2e27a067f7f91a2aa2f0748fdefc0b27a7bd84678871d046"
 },
 "nbformat": 3,
 "nbformat_minor": 0,
 "worksheets": [
  {
   "cells": [
    {
     "cell_type": "code",
     "collapsed": false,
     "input": [
      "from astropy.io import fits\n",
      "%matplotlib\n",
      "from matplotlib import pyplot"
     ],
     "language": "python",
     "metadata": {},
     "outputs": [
      {
       "output_type": "stream",
       "stream": "stdout",
       "text": [
        "Using matplotlib backend: Qt4Agg\n"
       ]
      }
     ],
     "prompt_number": 1
    },
    {
     "cell_type": "code",
     "collapsed": false,
     "input": [
      "import numpy as np\n",
      "import os\n",
      "os.chdir('2006gy')"
     ],
     "language": "python",
     "metadata": {},
     "outputs": [],
     "prompt_number": 2
    },
    {
     "cell_type": "heading",
     "level": 3,
     "metadata": {},
     "source": [
      "We are \n",
      "looking for the line located in pixel y = 511 around x = 302"
     ]
    },
    {
     "cell_type": "markdown",
     "metadata": {},
     "source": [
      "Ori asked me to extract a line that is visible around (302, 511), we needed to take into account the tilt of the spectral trace so we weren't sure where to set A2CENTER. When we tried the extraction we weren't seeing a strong emission line at 302 and were worried something was wrong with the extraction.\n",
      "\n",
      "Conclusion:\n",
      "I extracted a number of spectra from ocdd04010_crj.fits from y = 505 to y = 520 incrementing by 1 pixel each using an extraction box of 2 pixels (the feature is very narrow) and set maxsrch to 0. I then plotted up the spectra (in rainbow order) and I boxcar smoothed the spectrum by with a kernel of 5 (the feature is about 25 pixels long). It appears we see the feature. "
     ]
    },
    {
     "cell_type": "heading",
     "level": 4,
     "metadata": {},
     "source": [
      "Try to find the spectrum in the crj image"
     ]
    },
    {
     "cell_type": "code",
     "collapsed": false,
     "input": [
      "img_raw = fits.getdata('ocdd04010_raw.fits', 1)\n",
      "img_crj = fits.getdata('ocdd04010_crj.fits', 1)"
     ],
     "language": "python",
     "metadata": {},
     "outputs": [],
     "prompt_number": 3
    },
    {
     "cell_type": "code",
     "collapsed": false,
     "input": [
      "#pyplot.plot(img_raw[511, :])\n",
      "pyplot.figure()\n",
      "for y in range(505, 515):\n",
      "    pyplot.plot(img_crj[y, :])"
     ],
     "language": "python",
     "metadata": {},
     "outputs": [],
     "prompt_number": 11
    },
    {
     "cell_type": "code",
     "collapsed": false,
     "input": [
      "im = pyplot.imshow(img_crj, interpolation = 'nearest', cmap = 'bone', vmin = 0)"
     ],
     "language": "python",
     "metadata": {},
     "outputs": [],
     "prompt_number": 8
    },
    {
     "cell_type": "heading",
     "level": 4,
     "metadata": {},
     "source": [
      "Try to find the feature by just extracting a row - this didn't work"
     ]
    },
    {
     "cell_type": "code",
     "collapsed": false,
     "input": [
      "pyplot.figure()\n",
      "pyplot.plot(img_crj[:, 100])\n",
      "pyplot.plot(img_crj[:, 200])\n",
      "pyplot.plot(img_crj[:, 302])\n",
      "pyplot.plot(img_crj[:, 400])\n",
      "pyplot.plot(img_crj[:, 500])"
     ],
     "language": "python",
     "metadata": {},
     "outputs": [
      {
       "metadata": {},
       "output_type": "pyout",
       "prompt_number": 32,
       "text": [
        "[<matplotlib.lines.Line2D at 0x103a9c950>]"
       ]
      }
     ],
     "prompt_number": 32
    },
    {
     "cell_type": "code",
     "collapsed": false,
     "input": [
      "im.set_clim(0,500)"
     ],
     "language": "python",
     "metadata": {},
     "outputs": [],
     "prompt_number": 33
    },
    {
     "cell_type": "heading",
     "level": 4,
     "metadata": {},
     "source": [
      "Check out how steep the slope of the trace is "
     ]
    },
    {
     "cell_type": "code",
     "collapsed": false,
     "input": [
      "tbdata = fits.getdata('ocdd04010_crj_loc511.fits', 1)"
     ],
     "language": "python",
     "metadata": {},
     "outputs": [],
     "prompt_number": 35
    },
    {
     "cell_type": "code",
     "collapsed": false,
     "input": [
      "tbdata['extrlocy']"
     ],
     "language": "python",
     "metadata": {},
     "outputs": [
      {
       "metadata": {},
       "output_type": "pyout",
       "prompt_number": 36,
       "text": [
        "array([[ 511.30288696,  511.30194092,  511.30105591, ...,  510.65350342,\n",
        "         510.65264893,  510.65188599]], dtype=float32)"
       ]
      }
     ],
     "prompt_number": 36
    },
    {
     "cell_type": "heading",
     "level": 4,
     "metadata": {},
     "source": [
      "I might see a feature, but the feature appears offset in x, could it be shifta1?"
     ]
    },
    {
     "cell_type": "code",
     "collapsed": false,
     "input": [
      "pyplot.figure()\n",
      "pyplot.plot(np.arange(1024)+hdr['shifta1'], tbdata['gross'][0])\n",
      "pyplot.plot(np.arange(1024)+hdr['shifta1'], tbdata['net'][0])"
     ],
     "language": "python",
     "metadata": {},
     "outputs": [
      {
       "metadata": {},
       "output_type": "pyout",
       "prompt_number": 51,
       "text": [
        "[<matplotlib.lines.Line2D at 0x111eea050>]"
       ]
      }
     ],
     "prompt_number": 51
    },
    {
     "cell_type": "code",
     "collapsed": false,
     "input": [
      "hdr = fits.getheader('ocdd04010_crj.fits', 1)"
     ],
     "language": "python",
     "metadata": {},
     "outputs": [],
     "prompt_number": 50
    },
    {
     "cell_type": "code",
     "collapsed": false,
     "input": [
      "#Which shift is which? How big are they?\n",
      "print hdr['shifta1']\n",
      "print hdr['shifta2']"
     ],
     "language": "python",
     "metadata": {},
     "outputs": [
      {
       "output_type": "stream",
       "stream": "stdout",
       "text": [
        "2.4700613306\n",
        "-1.12377453524\n"
       ]
      }
     ],
     "prompt_number": 47
    },
    {
     "cell_type": "code",
     "collapsed": false,
     "input": [
      "#If I multiply by EXPTIME do I reproduce the counts I see in DS9? (No)\n",
      "tbdata['gross'][0][297]*hdr['exptime']"
     ],
     "language": "python",
     "metadata": {},
     "outputs": [
      {
       "metadata": {},
       "output_type": "pyout",
       "prompt_number": 54,
       "text": [
        "1049.5765101313591"
       ]
      }
     ],
     "prompt_number": 54
    },
    {
     "cell_type": "code",
     "collapsed": false,
     "input": [
      "#Extract (in pyraf) leaving setting maxsrch = 2\n",
      "tbdata2 = fits.getdata('ocdd04010_crj_loc511_srch.fits', 1)\n",
      "tbdata2['extrlocy']"
     ],
     "language": "python",
     "metadata": {},
     "outputs": [
      {
       "metadata": {},
       "output_type": "pyout",
       "prompt_number": 55,
       "text": [
        "array([[ 511.0440979 ,  511.04315186,  511.04226685, ...,  510.39477539,\n",
        "         510.3939209 ,  510.39312744]], dtype=float32)"
       ]
      }
     ],
     "prompt_number": 55
    },
    {
     "cell_type": "code",
     "collapsed": false,
     "input": [
      "#Look at the range of y values (are we close to 511?) yes\n",
      "tbdata['extrlocy']"
     ],
     "language": "python",
     "metadata": {},
     "outputs": [
      {
       "metadata": {},
       "output_type": "pyout",
       "prompt_number": 56,
       "text": [
        "array([[ 511.30288696,  511.30194092,  511.30105591, ...,  510.65350342,\n",
        "         510.65264893,  510.65188599]], dtype=float32)"
       ]
      }
     ],
     "prompt_number": 56
    },
    {
     "cell_type": "code",
     "collapsed": false,
     "input": [
      "#How do things look if I remove any pixels with a non-zero DQ flag?\n",
      "#Compare net and gross counts (does background make a difference?)\n",
      "pyplot.figure()\n",
      "hdr2 = fits.getheader('ocdd04010_crj_loc511_srch.fits', 1)\n",
      "pyplot.plot(np.arange(1024)[tbdata['dq'][0] == 0], tbdata2['gross'][0][tbdata['dq'][0] == 0])\n",
      "pyplot.plot(np.arange(1024)[tbdata['dq'][0] == 0], tbdata2['net'][0][tbdata['dq'][0] == 0])"
     ],
     "language": "python",
     "metadata": {},
     "outputs": [
      {
       "metadata": {},
       "output_type": "pyout",
       "prompt_number": 73,
       "text": [
        "[<matplotlib.lines.Line2D at 0x1146d0590>]"
       ]
      }
     ],
     "prompt_number": 73
    },
    {
     "cell_type": "code",
     "collapsed": false,
     "input": [
      "#Over plot the location where we expect the line and there I see to strong detector features\n",
      "pyplot.figure()\n",
      "pyplot.plot(np.arange(1024), tbdata2['gross'][0])\n",
      "pyplot.plot(np.arange(1024)[tbdata['dq'][0] == 0], tbdata2['gross'][0][tbdata['dq'][0] == 0])\n",
      "\n",
      "pyplot.axvline(302, color = 'r')\n",
      "pyplot.axvline(324, color = 'c')\n",
      "pyplot.axvline(349, color = 'm')\n"
     ],
     "language": "python",
     "metadata": {},
     "outputs": [
      {
       "ename": "NameError",
       "evalue": "name 'tbdata2' is not defined",
       "output_type": "pyerr",
       "traceback": [
        "\u001b[0;31m---------------------------------------------------------------------------\u001b[0m\n\u001b[0;31mNameError\u001b[0m                                 Traceback (most recent call last)",
        "\u001b[0;32m<ipython-input-20-0aa26b5655f9>\u001b[0m in \u001b[0;36m<module>\u001b[0;34m()\u001b[0m\n\u001b[1;32m      1\u001b[0m \u001b[0;31m#Over plot the location where we expect the line and there I see to strong detector features\u001b[0m\u001b[0;34m\u001b[0m\u001b[0;34m\u001b[0m\u001b[0m\n\u001b[1;32m      2\u001b[0m \u001b[0mpyplot\u001b[0m\u001b[0;34m.\u001b[0m\u001b[0mfigure\u001b[0m\u001b[0;34m(\u001b[0m\u001b[0;34m)\u001b[0m\u001b[0;34m\u001b[0m\u001b[0m\n\u001b[0;32m----> 3\u001b[0;31m \u001b[0mpyplot\u001b[0m\u001b[0;34m.\u001b[0m\u001b[0mplot\u001b[0m\u001b[0;34m(\u001b[0m\u001b[0mnp\u001b[0m\u001b[0;34m.\u001b[0m\u001b[0marange\u001b[0m\u001b[0;34m(\u001b[0m\u001b[0;36m1024\u001b[0m\u001b[0;34m)\u001b[0m\u001b[0;34m,\u001b[0m \u001b[0mtbdata2\u001b[0m\u001b[0;34m[\u001b[0m\u001b[0;34m'gross'\u001b[0m\u001b[0;34m]\u001b[0m\u001b[0;34m[\u001b[0m\u001b[0;36m0\u001b[0m\u001b[0;34m]\u001b[0m\u001b[0;34m)\u001b[0m\u001b[0;34m\u001b[0m\u001b[0m\n\u001b[0m\u001b[1;32m      4\u001b[0m \u001b[0mpyplot\u001b[0m\u001b[0;34m.\u001b[0m\u001b[0mplot\u001b[0m\u001b[0;34m(\u001b[0m\u001b[0mnp\u001b[0m\u001b[0;34m.\u001b[0m\u001b[0marange\u001b[0m\u001b[0;34m(\u001b[0m\u001b[0;36m1024\u001b[0m\u001b[0;34m)\u001b[0m\u001b[0;34m[\u001b[0m\u001b[0mtbdata\u001b[0m\u001b[0;34m[\u001b[0m\u001b[0;34m'dq'\u001b[0m\u001b[0;34m]\u001b[0m\u001b[0;34m[\u001b[0m\u001b[0;36m0\u001b[0m\u001b[0;34m]\u001b[0m \u001b[0;34m==\u001b[0m \u001b[0;36m0\u001b[0m\u001b[0;34m]\u001b[0m\u001b[0;34m,\u001b[0m \u001b[0mtbdata2\u001b[0m\u001b[0;34m[\u001b[0m\u001b[0;34m'gross'\u001b[0m\u001b[0;34m]\u001b[0m\u001b[0;34m[\u001b[0m\u001b[0;36m0\u001b[0m\u001b[0;34m]\u001b[0m\u001b[0;34m[\u001b[0m\u001b[0mtbdata\u001b[0m\u001b[0;34m[\u001b[0m\u001b[0;34m'dq'\u001b[0m\u001b[0;34m]\u001b[0m\u001b[0;34m[\u001b[0m\u001b[0;36m0\u001b[0m\u001b[0;34m]\u001b[0m \u001b[0;34m==\u001b[0m \u001b[0;36m0\u001b[0m\u001b[0;34m]\u001b[0m\u001b[0;34m)\u001b[0m\u001b[0;34m\u001b[0m\u001b[0m\n\u001b[1;32m      5\u001b[0m \u001b[0;34m\u001b[0m\u001b[0m\n",
        "\u001b[0;31mNameError\u001b[0m: name 'tbdata2' is not defined"
       ]
      }
     ],
     "prompt_number": 20
    },
    {
     "cell_type": "heading",
     "level": 2,
     "metadata": {},
     "source": [
      "Here is where the code starts that actually yeilded useful information"
     ]
    },
    {
     "cell_type": "code",
     "collapsed": false,
     "input": [
      "#This cell must be run in Ureka, not anaconda\n",
      "import os\n",
      "os.chdir('2006gy')\n",
      "from stistools.x1d import x1d\n",
      "os.environ['oref'] = '/Users/abostroem/Desktop/repositories/13287/2006gy/'\n",
      "\n",
      "for yloc in xrange(505, 521):\n",
      "    output_filename = 'ocdd04010_loc{}_x1d.fits'.format(yloc)\n",
      "    x1d(input = 'ocdd04010_crj.fits',\n",
      "        output = output_filename,\n",
      "        a2center = yloc,\n",
      "        extrsize = 2,\n",
      "        maxsrch = 0,\n",
      "        trailer = output_filename.replace('x1d.fits', 'trl.txt'))"
     ],
     "language": "python",
     "metadata": {},
     "outputs": [
      {
       "output_type": "stream",
       "stream": "stdout",
       "text": [
        "The following tasks in the stistools package can be run with TEAL:\n",
        "   basic2d      calstis     ocrreject     wavecal        x1d          x2d\n"
       ]
      }
     ],
     "prompt_number": 1
    },
    {
     "cell_type": "markdown",
     "metadata": {},
     "source": [
      "Plot a different extraction location (y = 505 to 520)"
     ]
    },
    {
     "cell_type": "code",
     "collapsed": false,
     "input": [
      "colors = ['LightCoral', 'DeepPink', 'Red',  'Gold',\n",
      "          'Lime', 'DarkGreen', 'Cyan', 'CornflowerBlue', 'Blue', 'BlueViolet']\n",
      "print 'Extraction Location at x = 302', 'color'\n",
      "pyplot.figure()\n",
      "for indx, yloc in enumerate(xrange(505, 521)):\n",
      "    output_filename = 'ocdd04010_loc{}_x1d.fits'.format(yloc)\n",
      "    tbdata = fits.getdata(output_filename, 1)\n",
      "    pyplot.plot(np.arange(1024), tbdata['gross'][0], color = colors[indx] )\n",
      "    print tbdata['extrlocy'][0][302], colors[indx]\n",
      "    "
     ],
     "language": "python",
     "metadata": {},
     "outputs": [
      {
       "output_type": "stream",
       "stream": "stdout",
       "text": [
        "Extraction Location at x = 302 color\n",
        "505.129"
       ]
      },
      {
       "output_type": "stream",
       "stream": "stdout",
       "text": [
        " LightCoral\n",
        "506.128"
       ]
      },
      {
       "output_type": "stream",
       "stream": "stdout",
       "text": [
        " DeepPink\n",
        "507.127"
       ]
      },
      {
       "output_type": "stream",
       "stream": "stdout",
       "text": [
        " Red\n",
        "508.125"
       ]
      },
      {
       "output_type": "stream",
       "stream": "stdout",
       "text": [
        " Gold\n",
        "509.124"
       ]
      },
      {
       "output_type": "stream",
       "stream": "stdout",
       "text": [
        " Lime\n",
        "510.123"
       ]
      },
      {
       "output_type": "stream",
       "stream": "stdout",
       "text": [
        " DarkGreen\n",
        "511.127"
       ]
      },
      {
       "output_type": "stream",
       "stream": "stdout",
       "text": [
        " Cyan\n",
        "512.13"
       ]
      },
      {
       "output_type": "stream",
       "stream": "stdout",
       "text": [
        " CornflowerBlue\n",
        "513.133"
       ]
      },
      {
       "output_type": "stream",
       "stream": "stdout",
       "text": [
        " Blue\n",
        "514.136 BlueViolet\n"
       ]
      },
      {
       "ename": "IOError",
       "evalue": "File does not exist: 'ocdd04010_loc515_x1d.fits'",
       "output_type": "pyerr",
       "traceback": [
        "\u001b[0;31m---------------------------------------------------------------------------\u001b[0m\n\u001b[0;31mIOError\u001b[0m                                   Traceback (most recent call last)",
        "\u001b[0;32m<ipython-input-21-c7ef406fc41c>\u001b[0m in \u001b[0;36m<module>\u001b[0;34m()\u001b[0m\n\u001b[1;32m      5\u001b[0m \u001b[0;32mfor\u001b[0m \u001b[0mindx\u001b[0m\u001b[0;34m,\u001b[0m \u001b[0myloc\u001b[0m \u001b[0;32min\u001b[0m \u001b[0menumerate\u001b[0m\u001b[0;34m(\u001b[0m\u001b[0mxrange\u001b[0m\u001b[0;34m(\u001b[0m\u001b[0;36m505\u001b[0m\u001b[0;34m,\u001b[0m \u001b[0;36m521\u001b[0m\u001b[0;34m)\u001b[0m\u001b[0;34m)\u001b[0m\u001b[0;34m:\u001b[0m\u001b[0;34m\u001b[0m\u001b[0m\n\u001b[1;32m      6\u001b[0m     \u001b[0moutput_filename\u001b[0m \u001b[0;34m=\u001b[0m \u001b[0;34m'ocdd04010_loc{}_x1d.fits'\u001b[0m\u001b[0;34m.\u001b[0m\u001b[0mformat\u001b[0m\u001b[0;34m(\u001b[0m\u001b[0myloc\u001b[0m\u001b[0;34m)\u001b[0m\u001b[0;34m\u001b[0m\u001b[0m\n\u001b[0;32m----> 7\u001b[0;31m     \u001b[0mtbdata\u001b[0m \u001b[0;34m=\u001b[0m \u001b[0mfits\u001b[0m\u001b[0;34m.\u001b[0m\u001b[0mgetdata\u001b[0m\u001b[0;34m(\u001b[0m\u001b[0moutput_filename\u001b[0m\u001b[0;34m,\u001b[0m \u001b[0;36m1\u001b[0m\u001b[0;34m)\u001b[0m\u001b[0;34m\u001b[0m\u001b[0m\n\u001b[0m\u001b[1;32m      8\u001b[0m     \u001b[0mpyplot\u001b[0m\u001b[0;34m.\u001b[0m\u001b[0mplot\u001b[0m\u001b[0;34m(\u001b[0m\u001b[0mnp\u001b[0m\u001b[0;34m.\u001b[0m\u001b[0marange\u001b[0m\u001b[0;34m(\u001b[0m\u001b[0;36m1024\u001b[0m\u001b[0;34m)\u001b[0m\u001b[0;34m,\u001b[0m \u001b[0mtbdata\u001b[0m\u001b[0;34m[\u001b[0m\u001b[0;34m'gross'\u001b[0m\u001b[0;34m]\u001b[0m\u001b[0;34m[\u001b[0m\u001b[0;36m0\u001b[0m\u001b[0;34m]\u001b[0m\u001b[0;34m,\u001b[0m \u001b[0mcolor\u001b[0m \u001b[0;34m=\u001b[0m \u001b[0mcolors\u001b[0m\u001b[0;34m[\u001b[0m\u001b[0mindx\u001b[0m\u001b[0;34m]\u001b[0m \u001b[0;34m)\u001b[0m\u001b[0;34m\u001b[0m\u001b[0m\n\u001b[1;32m      9\u001b[0m     \u001b[0;32mprint\u001b[0m \u001b[0mtbdata\u001b[0m\u001b[0;34m[\u001b[0m\u001b[0;34m'extrlocy'\u001b[0m\u001b[0;34m]\u001b[0m\u001b[0;34m[\u001b[0m\u001b[0;36m0\u001b[0m\u001b[0;34m]\u001b[0m\u001b[0;34m[\u001b[0m\u001b[0;36m302\u001b[0m\u001b[0;34m]\u001b[0m\u001b[0;34m,\u001b[0m \u001b[0mcolors\u001b[0m\u001b[0;34m[\u001b[0m\u001b[0mindx\u001b[0m\u001b[0;34m]\u001b[0m\u001b[0;34m\u001b[0m\u001b[0m\n",
        "\u001b[0;32m/Users/abostroem/Desktop/repositories/astropy/astropy/io/fits/convenience.pyc\u001b[0m in \u001b[0;36mgetdata\u001b[0;34m(filename, *args, **kwargs)\u001b[0m\n\u001b[1;32m    185\u001b[0m     \u001b[0mview\u001b[0m \u001b[0;34m=\u001b[0m \u001b[0mkwargs\u001b[0m\u001b[0;34m.\u001b[0m\u001b[0mpop\u001b[0m\u001b[0;34m(\u001b[0m\u001b[0;34m'view'\u001b[0m\u001b[0;34m,\u001b[0m \u001b[0mNone\u001b[0m\u001b[0;34m)\u001b[0m\u001b[0;34m\u001b[0m\u001b[0m\n\u001b[1;32m    186\u001b[0m \u001b[0;34m\u001b[0m\u001b[0m\n\u001b[0;32m--> 187\u001b[0;31m     \u001b[0mhdulist\u001b[0m\u001b[0;34m,\u001b[0m \u001b[0mextidx\u001b[0m \u001b[0;34m=\u001b[0m \u001b[0m_getext\u001b[0m\u001b[0;34m(\u001b[0m\u001b[0mfilename\u001b[0m\u001b[0;34m,\u001b[0m \u001b[0mmode\u001b[0m\u001b[0;34m,\u001b[0m \u001b[0;34m*\u001b[0m\u001b[0margs\u001b[0m\u001b[0;34m,\u001b[0m \u001b[0;34m**\u001b[0m\u001b[0mkwargs\u001b[0m\u001b[0;34m)\u001b[0m\u001b[0;34m\u001b[0m\u001b[0m\n\u001b[0m\u001b[1;32m    188\u001b[0m     \u001b[0mhdu\u001b[0m \u001b[0;34m=\u001b[0m \u001b[0mhdulist\u001b[0m\u001b[0;34m[\u001b[0m\u001b[0mextidx\u001b[0m\u001b[0;34m]\u001b[0m\u001b[0;34m\u001b[0m\u001b[0m\n\u001b[1;32m    189\u001b[0m     \u001b[0mdata\u001b[0m \u001b[0;34m=\u001b[0m \u001b[0mhdu\u001b[0m\u001b[0;34m.\u001b[0m\u001b[0mdata\u001b[0m\u001b[0;34m\u001b[0m\u001b[0m\n",
        "\u001b[0;32m/Users/abostroem/Desktop/repositories/astropy/astropy/io/fits/convenience.pyc\u001b[0m in \u001b[0;36m_getext\u001b[0;34m(filename, mode, *args, **kwargs)\u001b[0m\n\u001b[1;32m    751\u001b[0m         \u001b[0;32mraise\u001b[0m \u001b[0mTypeError\u001b[0m\u001b[0;34m(\u001b[0m\u001b[0;34m'extver alone cannot specify an extension.'\u001b[0m\u001b[0;34m)\u001b[0m\u001b[0;34m\u001b[0m\u001b[0m\n\u001b[1;32m    752\u001b[0m \u001b[0;34m\u001b[0m\u001b[0m\n\u001b[0;32m--> 753\u001b[0;31m     \u001b[0mhdulist\u001b[0m \u001b[0;34m=\u001b[0m \u001b[0mfitsopen\u001b[0m\u001b[0;34m(\u001b[0m\u001b[0mfilename\u001b[0m\u001b[0;34m,\u001b[0m \u001b[0mmode\u001b[0m\u001b[0;34m=\u001b[0m\u001b[0mmode\u001b[0m\u001b[0;34m,\u001b[0m \u001b[0;34m**\u001b[0m\u001b[0mkwargs\u001b[0m\u001b[0;34m)\u001b[0m\u001b[0;34m\u001b[0m\u001b[0m\n\u001b[0m\u001b[1;32m    754\u001b[0m \u001b[0;34m\u001b[0m\u001b[0m\n\u001b[1;32m    755\u001b[0m     \u001b[0;32mreturn\u001b[0m \u001b[0mhdulist\u001b[0m\u001b[0;34m,\u001b[0m \u001b[0mext\u001b[0m\u001b[0;34m\u001b[0m\u001b[0m\n",
        "\u001b[0;32m/Users/abostroem/Desktop/repositories/astropy/astropy/io/fits/hdu/hdulist.pyc\u001b[0m in \u001b[0;36mfitsopen\u001b[0;34m(name, mode, memmap, save_backup, **kwargs)\u001b[0m\n\u001b[1;32m    117\u001b[0m         \u001b[0;32mraise\u001b[0m \u001b[0mValueError\u001b[0m\u001b[0;34m(\u001b[0m\u001b[0;34m'Empty filename: %s'\u001b[0m \u001b[0;34m%\u001b[0m \u001b[0mrepr\u001b[0m\u001b[0;34m(\u001b[0m\u001b[0mname\u001b[0m\u001b[0;34m)\u001b[0m\u001b[0;34m)\u001b[0m\u001b[0;34m\u001b[0m\u001b[0m\n\u001b[1;32m    118\u001b[0m \u001b[0;34m\u001b[0m\u001b[0m\n\u001b[0;32m--> 119\u001b[0;31m     \u001b[0;32mreturn\u001b[0m \u001b[0mHDUList\u001b[0m\u001b[0;34m.\u001b[0m\u001b[0mfromfile\u001b[0m\u001b[0;34m(\u001b[0m\u001b[0mname\u001b[0m\u001b[0;34m,\u001b[0m \u001b[0mmode\u001b[0m\u001b[0;34m,\u001b[0m \u001b[0mmemmap\u001b[0m\u001b[0;34m,\u001b[0m \u001b[0msave_backup\u001b[0m\u001b[0;34m,\u001b[0m \u001b[0;34m**\u001b[0m\u001b[0mkwargs\u001b[0m\u001b[0;34m)\u001b[0m\u001b[0;34m\u001b[0m\u001b[0m\n\u001b[0m\u001b[1;32m    120\u001b[0m \u001b[0;34m\u001b[0m\u001b[0m\n\u001b[1;32m    121\u001b[0m \u001b[0;34m\u001b[0m\u001b[0m\n",
        "\u001b[0;32m/Users/abostroem/Desktop/repositories/astropy/astropy/io/fits/hdu/hdulist.pyc\u001b[0m in \u001b[0;36mfromfile\u001b[0;34m(cls, fileobj, mode, memmap, save_backup, **kwargs)\u001b[0m\n\u001b[1;32m    249\u001b[0m \u001b[0;34m\u001b[0m\u001b[0m\n\u001b[1;32m    250\u001b[0m         return cls._readfrom(fileobj=fileobj, mode=mode, memmap=memmap,\n\u001b[0;32m--> 251\u001b[0;31m                              save_backup=save_backup, **kwargs)\n\u001b[0m\u001b[1;32m    252\u001b[0m \u001b[0;34m\u001b[0m\u001b[0m\n\u001b[1;32m    253\u001b[0m     \u001b[0;34m@\u001b[0m\u001b[0mclassmethod\u001b[0m\u001b[0;34m\u001b[0m\u001b[0m\n",
        "\u001b[0;32m/Users/abostroem/Desktop/repositories/astropy/astropy/io/fits/hdu/hdulist.pyc\u001b[0m in \u001b[0;36m_readfrom\u001b[0;34m(cls, fileobj, data, mode, memmap, save_backup, **kwargs)\u001b[0m\n\u001b[1;32m    766\u001b[0m             \u001b[0;32mif\u001b[0m \u001b[0;32mnot\u001b[0m \u001b[0misinstance\u001b[0m\u001b[0;34m(\u001b[0m\u001b[0mfileobj\u001b[0m\u001b[0;34m,\u001b[0m \u001b[0m_File\u001b[0m\u001b[0;34m)\u001b[0m\u001b[0;34m:\u001b[0m\u001b[0;34m\u001b[0m\u001b[0m\n\u001b[1;32m    767\u001b[0m                 \u001b[0;31m# instantiate a FITS file object (ffo)\u001b[0m\u001b[0;34m\u001b[0m\u001b[0;34m\u001b[0m\u001b[0m\n\u001b[0;32m--> 768\u001b[0;31m                 \u001b[0mffo\u001b[0m \u001b[0;34m=\u001b[0m \u001b[0m_File\u001b[0m\u001b[0;34m(\u001b[0m\u001b[0mfileobj\u001b[0m\u001b[0;34m,\u001b[0m \u001b[0mmode\u001b[0m\u001b[0;34m=\u001b[0m\u001b[0mmode\u001b[0m\u001b[0;34m,\u001b[0m \u001b[0mmemmap\u001b[0m\u001b[0;34m=\u001b[0m\u001b[0mmemmap\u001b[0m\u001b[0;34m)\u001b[0m\u001b[0;34m\u001b[0m\u001b[0m\n\u001b[0m\u001b[1;32m    769\u001b[0m             \u001b[0;32melse\u001b[0m\u001b[0;34m:\u001b[0m\u001b[0;34m\u001b[0m\u001b[0m\n\u001b[1;32m    770\u001b[0m                 \u001b[0mffo\u001b[0m \u001b[0;34m=\u001b[0m \u001b[0mfileobj\u001b[0m\u001b[0;34m\u001b[0m\u001b[0m\n",
        "\u001b[0;32m/Users/abostroem/Desktop/repositories/astropy/astropy/io/fits/file.pyc\u001b[0m in \u001b[0;36m__init__\u001b[0;34m(self, fileobj, mode, memmap, clobber)\u001b[0m\n\u001b[1;32m    128\u001b[0m                 \u001b[0;31m# A couple different exceptions can occur here when passing a\u001b[0m\u001b[0;34m\u001b[0m\u001b[0;34m\u001b[0m\u001b[0m\n\u001b[1;32m    129\u001b[0m                 \u001b[0;31m# filename into urlretrieve in Python 3\u001b[0m\u001b[0;34m\u001b[0m\u001b[0;34m\u001b[0m\u001b[0m\n\u001b[0;32m--> 130\u001b[0;31m                 \u001b[0;32mraise\u001b[0m \u001b[0mIOError\u001b[0m\u001b[0;34m(\u001b[0m\u001b[0;34m'File does not exist: {0!r}'\u001b[0m\u001b[0;34m.\u001b[0m\u001b[0mformat\u001b[0m\u001b[0;34m(\u001b[0m\u001b[0mfileobj\u001b[0m\u001b[0;34m)\u001b[0m\u001b[0;34m)\u001b[0m\u001b[0;34m\u001b[0m\u001b[0m\n\u001b[0m\u001b[1;32m    131\u001b[0m         \u001b[0;32melse\u001b[0m\u001b[0;34m:\u001b[0m\u001b[0;34m\u001b[0m\u001b[0m\n\u001b[1;32m    132\u001b[0m             \u001b[0mself\u001b[0m\u001b[0;34m.\u001b[0m\u001b[0mname\u001b[0m \u001b[0;34m=\u001b[0m \u001b[0mfileobj_name\u001b[0m\u001b[0;34m(\u001b[0m\u001b[0mfileobj\u001b[0m\u001b[0;34m)\u001b[0m\u001b[0;34m\u001b[0m\u001b[0m\n",
        "\u001b[0;31mIOError\u001b[0m: File does not exist: 'ocdd04010_loc515_x1d.fits'"
       ]
      }
     ],
     "prompt_number": 21
    },
    {
     "cell_type": "heading",
     "level": 4,
     "metadata": {},
     "source": [
      "Remove DQ Flagged pixels"
     ]
    },
    {
     "cell_type": "code",
     "collapsed": false,
     "input": [
      "colors = ['LightCoral', 'DeepPink', 'Red',  'Gold',\n",
      "          'Lime', 'DarkGreen', 'Cyan', 'CornflowerBlue', 'Blue', 'BlueViolet']\n",
      "print 'Extraction Location at x = 302', 'color'\n",
      "pyplot.figure()\n",
      "for indx, yloc in enumerate(xrange(505, 521)):\n",
      "    output_filename = 'ocdd04010_loc{}_x1d.fits'.format(yloc)\n",
      "    tbdata = fits.getdata(output_filename, 1)\n",
      "    dq_indx = tbdata['dq'][0] == 0\n",
      "    pyplot.plot(np.arange(1024)[dq_indx], tbdata['gross'][0][dq_indx], color = colors[indx] )\n",
      "    print tbdata['extrlocy'][0][302], colors[indx]"
     ],
     "language": "python",
     "metadata": {},
     "outputs": [
      {
       "output_type": "stream",
       "stream": "stdout",
       "text": [
        "505.129 LightCoral\n",
        "506.128 DeepPink\n",
        "507.127"
       ]
      },
      {
       "output_type": "stream",
       "stream": "stdout",
       "text": [
        " Red\n",
        "508.125 Gold\n",
        "509.124"
       ]
      },
      {
       "output_type": "stream",
       "stream": "stdout",
       "text": [
        " Lime\n",
        "510.123 DarkGreen\n",
        "511.127"
       ]
      },
      {
       "output_type": "stream",
       "stream": "stdout",
       "text": [
        " Cyan\n",
        "512.13 CornflowerBlue\n",
        "513.133"
       ]
      },
      {
       "output_type": "stream",
       "stream": "stdout",
       "text": [
        " Blue\n",
        "514.136 BlueViolet\n"
       ]
      }
     ],
     "prompt_number": 8
    },
    {
     "cell_type": "heading",
     "level": 4,
     "metadata": {},
     "source": [
      "Boxcar smooth with gross counts"
     ]
    },
    {
     "cell_type": "code",
     "collapsed": false,
     "input": [
      "from astropy.convolution import convolve, Box1DKernel\n",
      "\n",
      "colors = ['LightCoral', 'DeepPink', 'Red',  'Gold',\n",
      "          'Lime', 'DarkGreen', 'Cyan', 'CornflowerBlue', 'Blue', 'BlueViolet']\n",
      "print 'Extraction Location at x = 302', 'color'\n",
      "pyplot.figure()\n",
      "for indx, yloc in enumerate(xrange(505, 521)):\n",
      "    output_filename = 'ocdd04010_loc{}_x1d.fits'.format(yloc)\n",
      "    tbdata = fits.getdata(output_filename, 1)\n",
      "    dq_indx = tbdata['dq'][0] == 0\n",
      "    pyplot.plot(np.arange(1024)[dq_indx], convolve(tbdata['gross'][0][dq_indx], Box1DKernel(5)), color = colors[indx] )\n",
      "    print tbdata['extrlocy'][0][302], colors[indx]"
     ],
     "language": "python",
     "metadata": {},
     "outputs": [
      {
       "output_type": "stream",
       "stream": "stdout",
       "text": [
        "505.129 LightCoral\n",
        "506.128"
       ]
      },
      {
       "output_type": "stream",
       "stream": "stdout",
       "text": [
        " DeepPink\n",
        "507.127"
       ]
      },
      {
       "output_type": "stream",
       "stream": "stdout",
       "text": [
        " Red\n",
        "508.125"
       ]
      },
      {
       "output_type": "stream",
       "stream": "stdout",
       "text": [
        " Gold\n",
        "509.124"
       ]
      },
      {
       "output_type": "stream",
       "stream": "stdout",
       "text": [
        " Lime\n",
        "510.123"
       ]
      },
      {
       "output_type": "stream",
       "stream": "stdout",
       "text": [
        " DarkGreen\n",
        "511.127"
       ]
      },
      {
       "output_type": "stream",
       "stream": "stdout",
       "text": [
        " Cyan\n",
        "512.13"
       ]
      },
      {
       "output_type": "stream",
       "stream": "stdout",
       "text": [
        " CornflowerBlue\n",
        "513.133"
       ]
      },
      {
       "output_type": "stream",
       "stream": "stdout",
       "text": [
        " Blue\n",
        "514.136"
       ]
      },
      {
       "output_type": "stream",
       "stream": "stdout",
       "text": [
        " BlueViolet\n"
       ]
      }
     ],
     "prompt_number": 13
    },
    {
     "cell_type": "heading",
     "level": 4,
     "metadata": {},
     "source": [
      "Boxcar smooth with net counts"
     ]
    },
    {
     "cell_type": "code",
     "collapsed": false,
     "input": [
      "from astropy.convolution import convolve, Box1DKernel\n",
      "\n",
      "colors = ['DarkSalmon', 'Coral', 'DeepPink', 'Maroon', 'Red', 'Gold', 'LawnGreen',\n",
      "          'LimeGreen', 'DarkGreen', 'Cyan', 'CornflowerBlue', 'Blue', 'Navy', \n",
      "          'BlueViolet', 'DarkViolet', 'Indigo', ]\n",
      "pyplot.figure(figsize = [20, 30])\n",
      "for indx, yloc in enumerate(xrange(505, 521)):\n",
      "    output_filename = 'ocdd04010_loc{}_x1d.fits'.format(yloc)\n",
      "    tbdata = fits.getdata(output_filename, 1)\n",
      "    dq_indx = tbdata['dq'][0] == 0\n",
      "    pyplot.plot(np.arange(1024)[dq_indx], convolve(tbdata['net'][0][dq_indx], Box1DKernel(5)), color = colors[indx], label = 'a2center = {}'.format(yloc))\n",
      "    print tbdata['extrlocy'][0][302], colors[indx], yloc\n",
      "\n",
      "pyplot.legend(ncol = 2)\n",
      "pyplot.xlabel('Pixel')\n",
      "pyplot.ylabel('Net')\n",
      "pyplot.title('Finding 2006gy emission line at x = 302')\n",
      "pyplot.xlim(200, 500)\n",
      "pyplot.ylim(0.01, 0.15)\n",
      "pyplot.savefig('/Users/abostroem/Dropbox/13287/2006gy/find_emission_line_at_302.pdf')"
     ],
     "language": "python",
     "metadata": {},
     "outputs": [
      {
       "output_type": "stream",
       "stream": "stdout",
       "text": [
        "505.129 DarkSalmon 505\n",
        "506.128 Coral 506\n",
        "507.127"
       ]
      },
      {
       "output_type": "stream",
       "stream": "stdout",
       "text": [
        " DeepPink 507\n",
        "508.125 Maroon 508\n",
        "509.124"
       ]
      },
      {
       "output_type": "stream",
       "stream": "stdout",
       "text": [
        " Red 509\n",
        "510.123 Gold 510\n",
        "511.127"
       ]
      },
      {
       "output_type": "stream",
       "stream": "stdout",
       "text": [
        " LawnGreen 511\n",
        "512.13 LimeGreen 512\n",
        "513.133"
       ]
      },
      {
       "output_type": "stream",
       "stream": "stdout",
       "text": [
        " DarkGreen 513\n",
        "514.136 Cyan 514\n",
        "515.139"
       ]
      },
      {
       "output_type": "stream",
       "stream": "stdout",
       "text": [
        " CornflowerBlue 515\n",
        "516.143 Blue 516\n",
        "517.146"
       ]
      },
      {
       "output_type": "stream",
       "stream": "stdout",
       "text": [
        " Navy 517\n",
        "518.149 BlueViolet 518\n",
        "519.152"
       ]
      },
      {
       "output_type": "stream",
       "stream": "stdout",
       "text": [
        " DarkViolet 519\n",
        "520.155 Indigo 520\n"
       ]
      }
     ],
     "prompt_number": 31
    },
    {
     "cell_type": "code",
     "collapsed": false,
     "input": [
      "#What are the non-zero DQ flags around x = 323?\n",
      "tbdata['dq'][0][323]\n",
      "#1024 and 16 - high dark rate and small blemish"
     ],
     "language": "python",
     "metadata": {},
     "outputs": [
      {
       "metadata": {},
       "output_type": "pyout",
       "prompt_number": 24,
       "text": [
        "1040"
       ]
      }
     ],
     "prompt_number": 24
    },
    {
     "cell_type": "heading",
     "level": 2,
     "metadata": {},
     "source": [
      "Investigate if CR are being rejected"
     ]
    },
    {
     "cell_type": "code",
     "collapsed": false,
     "input": [
      "img_raw = fits.getdata('ocdd04010_raw.fits', 1)\n",
      "img_crj = fits.getdata('ocdd04010_crj.fits', 1)"
     ],
     "language": "python",
     "metadata": {},
     "outputs": [],
     "prompt_number": 89
    },
    {
     "cell_type": "code",
     "collapsed": false,
     "input": [
      "fig = pyplot.figure()\n",
      "ax1 = fig.add_subplot(2,1,1)\n",
      "ax2 = fig.add_subplot(2,1,2)\n",
      "ax1.imshow(img_raw, interpolation = 'nearest', cmap = 'bone', vmin = 1400, vmax = 1475)\n",
      "ax2.imshow(img_crj, interpolation = 'nearest', cmap = 'bone', vmin = 0, vmax = 200)\n",
      "ax1.set_ylim(450, 600)\n",
      "ax2.set_ylim(450, 600)\n",
      "ax1.set_xlim(200, 600)\n",
      "ax2.set_xlim(200, 600)\n",
      "ax1.set_title('ocdd04010 raw file (1st extension only)')\n",
      "ax2.set_title('ocdd04010 crj file')"
     ],
     "language": "python",
     "metadata": {},
     "outputs": [
      {
       "metadata": {},
       "output_type": "pyout",
       "prompt_number": 92,
       "text": [
        "<matplotlib.text.Text at 0x159ab7a10>"
       ]
      }
     ],
     "prompt_number": 92
    },
    {
     "cell_type": "heading",
     "level": 5,
     "metadata": {},
     "source": [
      "ofile = fits.open('ocdd04010_raw.fits')\n",
      "ofile.info()"
     ]
    },
    {
     "cell_type": "code",
     "collapsed": false,
     "input": [],
     "language": "python",
     "metadata": {},
     "outputs": []
    }
   ],
   "metadata": {}
  }
 ]
}