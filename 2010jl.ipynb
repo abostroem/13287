{
 "metadata": {
  "name": "",
  "signature": "sha256:49b0783b0dcd6e33b348928e73ed0b6bc124ccd602d57e67348a38928d4bcb32"
 },
 "nbformat": 3,
 "nbformat_minor": 0,
 "worksheets": [
  {
   "cells": [
    {
     "cell_type": "markdown",
     "metadata": {},
     "source": [
      "#2010jl\n",
      "\n",
      "Summary: \n",
      "Use confirm_spectrum to figure out if the right source is being extracted. If not, find the location of the source and extract using run_calcos.\n",
      "Use sum_spectra to sum individual observations into a single spectrum"
     ]
    },
    {
     "cell_type": "markdown",
     "metadata": {},
     "source": [
      "##Visit Info:\n",
      "\n",
      "* 2010jl is visit 03\n",
      "* Obs 01 - 09 and A - C are FUV\n",
      "* Obs D - K are NUV"
     ]
    },
    {
     "cell_type": "markdown",
     "metadata": {},
     "source": [
      "##Quick look at the TA image\n",
      "* TA is of an of an offset star --> confirmation image is of star not target"
     ]
    },
    {
     "cell_type": "markdown",
     "metadata": {},
     "source": [
      "## Quick look at data"
     ]
    },
    {
     "cell_type": "code",
     "collapsed": false,
     "input": [
      "from astropy.io import fits\n",
      "import numpy as np\n",
      "from matplotlib import pyplot\n"
     ],
     "language": "python",
     "metadata": {},
     "outputs": [],
     "prompt_number": 1
    },
    {
     "cell_type": "markdown",
     "metadata": {},
     "source": [
      "##Confirm Extraction Location\n",
      "* looks good for FUV\n",
      "* wrong for NUV\n",
      "\n",
      "###There is an offset between the NUV and FUV. We should confirm that it is expected"
     ]
    },
    {
     "cell_type": "code",
     "collapsed": false,
     "input": [
      "def confirm_spectrum_location(rootname, spec_filename = None, saveloc = None):\n",
      "    img = fits.getdata(os.path.join('2010jl_data/', '{}_flt.fits'.format(rootname)), 1)\n",
      "    if spec_filename:\n",
      "        spec = fits.getdata(os.path.join('2010jl_data/', spec_filename), 1)\n",
      "    else:\n",
      "        spec = fits.getdata(os.path.join('2010jl_data/', '{}_x1d.fits'.format(rootname)), 1)\n",
      "    fig = pyplot.figure()\n",
      "    ax1 = fig.add_subplot(1, 1, 1)\n",
      "    im1 = ax1.imshow(img, interpolation = 'none', cmap = 'bone', vmin = 0, vmax = 1.5)\n",
      "    ax1.plot(np.sum(img, axis = 1), np.arange(1024), color = 'lime')\n",
      "    ax1.plot(np.arange(1024), spec['extrlocy'][0], 'r', lw = 2)\n",
      "    ax1.plot(np.arange(1024), spec['extrlocy'][0]+spec['extrsize'][0]/2.0, '--', color = 'y', lw = 4)\n",
      "    ax1.plot(np.arange(1024), spec['extrlocy'][0]-spec['extrsize'][0]/2.0, '--', color = 'y', lw = 4)\n",
      "    ax1.set_title(rootname)\n",
      "    if saveloc:\n",
      "        pyplot.savefig(os.path.join(saveloc, rootname+'spec_extract_loc.pdf'))\n",
      "        pyplot.close()"
     ],
     "language": "python",
     "metadata": {},
     "outputs": [],
     "prompt_number": 17
    },
    {
     "cell_type": "markdown",
     "metadata": {},
     "source": [
      "###Double check extraction"
     ]
    },
    {
     "cell_type": "code",
     "collapsed": false,
     "input": [
      "flist = ['ocdd03010_x1d.fits', 'ocdd03020_x1d.fits', 'ocdd03030_x1d.fits', 'ocdd03040_x1d.fits', \n",
      "'ocdd03050_x1d.fits', 'ocdd03060_x1d_loc381.fits', 'ocdd03070_x1d.fits', 'ocdd03080_x1d_loc461.fits', 'ocdd03090_x1d_loc344.fits', \n",
      "'ocdd030a0_x1d_loc388.fits', 'ocdd030b0_x1d_loc425.fits', 'ocdd030c0_x1d_loc473.fits']\n",
      "for ifile in flist:\n",
      "    confirm_spectrum_location(ifile.split('_')[0], spec_filename = ifile, saveloc = 'confirm_spec_xtrac_loc/')"
     ],
     "language": "python",
     "metadata": {},
     "outputs": [],
     "prompt_number": 18
    },
    {
     "cell_type": "code",
     "collapsed": false,
     "input": [
      "confirm_spectrum_location('ocdd030a0')\n",
      "#confirm_spectrum_location('ocdd030g0')\n",
      "confirm_spectrum_location('ocdd030g0', spec_filename = 'ocdd030g0_x1d.fits')"
     ],
     "language": "python",
     "metadata": {},
     "outputs": [],
     "prompt_number": 4
    },
    {
     "cell_type": "code",
     "collapsed": false,
     "input": [
      "np.median(fits.getdata('ocdd030g0_flt.fits'))"
     ],
     "language": "python",
     "metadata": {},
     "outputs": [
      {
       "metadata": {},
       "output_type": "pyout",
       "prompt_number": 77,
       "text": [
        "-0.39966476"
       ]
      }
     ],
     "prompt_number": 77
    },
    {
     "cell_type": "markdown",
     "metadata": {},
     "source": [
      "###Check OTFR extraction"
     ]
    },
    {
     "cell_type": "markdown",
     "metadata": {},
     "source": [
      "###FUV"
     ]
    },
    {
     "cell_type": "code",
     "collapsed": false,
     "input": [
      "flist = glob.glob('*flt.fits')\n",
      "for ifile in flist[:12]:\n",
      "    confirm_spectrum_location(ifile.split('_')[0])"
     ],
     "language": "python",
     "metadata": {},
     "outputs": [],
     "prompt_number": 129
    },
    {
     "cell_type": "raw",
     "metadata": {},
     "source": [
      "0 ocdd03010_flt.fits FUV-MAMA\n",
      "1 ocdd03020_flt.fits FUV-MAMA\n",
      "2 ocdd03030_flt.fits FUV-MAMA   \n",
      "3 ocdd03040_flt.fits FUV-MAMA  \n",
      "4 ocdd03050_flt.fits FUV-MAMA   \n",
      "5 ocdd03060_flt.fits FUV-MAMA  381\n",
      "6 ocdd03070_flt.fits FUV-MAMA  \n",
      "7 ocdd03080_flt.fits FUV-MAMA  461\n",
      "8 ocdd03090_flt.fits FUV-MAMA   344\n",
      "9 ocdd030a0_flt.fits FUV-MAMA   388\n",
      "10 ocdd030b0_flt.fits FUV-MAMA 425\n",
      "11 ocdd030c0_flt.fits FUV-MAMA 473\n",
      "12 ocdd030d0_flt.fits NUV-MAMA\n",
      "13 ocdd030e0_flt.fits NUV-MAMA\n",
      "14 ocdd030f0_flt.fits NUV-MAMA\n",
      "15 ocdd030g0_flt.fits NUV-MAMA\n",
      "16 ocdd030h0_flt.fits NUV-MAMA\n",
      "17 ocdd030i0_flt.fits NUV-MAMA\n",
      "18 ocdd030j0_flt.fits NUV-MAMA\n",
      "19 ocdd030k0_flt.fits NUV-MAMA\n",
      "\n"
     ]
    },
    {
     "cell_type": "markdown",
     "metadata": {},
     "source": [
      "###NUV"
     ]
    },
    {
     "cell_type": "code",
     "collapsed": false,
     "input": [
      "flist = glob.glob('*flt.fits')\n",
      "for ifile in flist[12:]:\n",
      "    confirm_spectrum_location(ifile.split('_')[0])\n",
      "    print ifile"
     ],
     "language": "python",
     "metadata": {},
     "outputs": [
      {
       "output_type": "stream",
       "stream": "stdout",
       "text": [
        "ocdd030d0_flt.fits\n",
        "ocdd030e0_flt.fits"
       ]
      },
      {
       "output_type": "stream",
       "stream": "stdout",
       "text": [
        "\n",
        "ocdd030f0_flt.fits"
       ]
      },
      {
       "output_type": "stream",
       "stream": "stdout",
       "text": [
        "\n",
        "ocdd030g0_flt.fits"
       ]
      },
      {
       "output_type": "stream",
       "stream": "stdout",
       "text": [
        "\n",
        "ocdd030h0_flt.fits"
       ]
      },
      {
       "output_type": "stream",
       "stream": "stdout",
       "text": [
        "\n",
        "ocdd030i0_flt.fits"
       ]
      },
      {
       "output_type": "stream",
       "stream": "stdout",
       "text": [
        "\n",
        "ocdd030j0_flt.fits"
       ]
      },
      {
       "output_type": "stream",
       "stream": "stdout",
       "text": [
        "\n",
        "ocdd030k0_flt.fits"
       ]
      },
      {
       "output_type": "stream",
       "stream": "stdout",
       "text": [
        "\n"
       ]
      }
     ],
     "prompt_number": 193
    },
    {
     "cell_type": "raw",
     "metadata": {},
     "source": [
      "ocdd030d0_flt.fits 470\n",
      "ocdd030e0_flt.fits 506\n",
      "ocdd030f0_flt.fits 555\n",
      "ocdd030g0_flt.fits 590\n",
      "ocdd030h0_flt.fits 470\n",
      "ocdd030i0_flt.fits 510\n",
      "ocdd030j0_flt.fits 547\n",
      "ocdd030k0_flt.fits 600\n"
     ]
    },
    {
     "cell_type": "markdown",
     "metadata": {},
     "source": [
      "###Extract FUV Spectrum"
     ]
    },
    {
     "cell_type": "code",
     "collapsed": false,
     "input": [
      "extrlocy = 381\n",
      "import pyraf\n",
      "from pyraf import iraf\n",
      "from iraf import stsdas,hst_calib,stis,x1d as x1d\n",
      "import os"
     ],
     "language": "python",
     "metadata": {},
     "outputs": [],
     "prompt_number": 110
    },
    {
     "cell_type": "code",
     "collapsed": false,
     "input": [
      "flist = [('ocdd03060_flt.fits', 381), ('ocdd03080_flt.fits', 461), ('ocdd03090_flt.fits', 344), ('ocdd030a0_flt.fits', 388), ('ocdd030b0_flt.fits', 425), ('ocdd030c0_flt.fits', 473)]\n",
      "for tup_list in flist:\n",
      "    input_file, extrlocy = tup_list\n",
      "    run_calcos(input_file, extrlocy)"
     ],
     "language": "python",
     "metadata": {},
     "outputs": [
      {
       "output_type": "stream",
       "stream": "stdout",
       "text": [
        "!/Users/bostroem/Ureka/variants/common/iraf/stsci_iraf/stsdas/bin/cs6.e 'ocdd03060_flt.fits' 'ocdd03060_x1d_loc381.fits' -t -v -back -cte -disp -hel -flux -c 381.0 -r 3 -x 25.0 -bm -bo 3 -a unweighted \n"
       ]
      },
      {
       "output_type": "stream",
       "stream": "stdout",
       "text": [
        "\n",
        "*** CALSTIS-6 -- Version 2.40 (23-May-2012) ***\n",
        "Begin    20-Mar-2014 18:36:26 EDT\n"
       ]
      },
      {
       "output_type": "stream",
       "stream": "stdout",
       "text": [
        "2014079183626-I--------------- CALSTIS-6 started -------------------------------\n",
        "\n",
        "Warning  Grating-aperture throughput correction table (GACTAB) was not found,\n",
        "         and no gac corrections will be applied\n",
        "Input    ocdd03060_flt.fits\n",
        "Output   ocdd03060_x1d_loc381.fits\n",
        "Rootname ocdd03060\n",
        "OBSMODE  ACCUM\n",
        "APERTURE 52X0.5\n",
        "OPT_ELEM G140L\n",
        "DETECTOR FUV-MAMA\n"
       ]
      },
      {
       "output_type": "stream",
       "stream": "stdout",
       "text": [
        "\n",
        "XTRACTAB oref$n7p10323o_1dx.fits\n",
        "XTRACTAB PEDIGREE=INFLIGHT 29/05/97\n",
        "XTRACTAB DESCRIP =Analysis from prop. 7064\n",
        "SPTRCTAB oref$q8l14504o_1dt.fits\n",
        "\n",
        "Imset 1  Begin 18:36:36 EDT\n"
       ]
      },
      {
       "output_type": "stream",
       "stream": "stdout",
       "text": [
        "         Input read into memory.\n",
        "Order 1  Begin 18:36:36 EDT\n"
       ]
      },
      {
       "output_type": "stream",
       "stream": "stdout",
       "text": [
        "X1DCORR  PERFORM\n"
       ]
      },
      {
       "output_type": "stream",
       "stream": "stdout",
       "text": [
        "         Cross correlation offset: 2.13936 pixels\n",
        "BACKCORR PERFORM\n"
       ]
      },
      {
       "output_type": "stream",
       "stream": "stdout",
       "text": [
        "BACKCORR COMPLETE\n",
        "X1DCORR  COMPLETE\n",
        "2014079183636-I--------------- X1DCORR complete: OCDD03060 ---------------------\n",
        "         Spectrum extracted at y position = 383.139\n",
        "         Extraction box height = 25\n",
        "         Background box 1 height = 5 offset -300 from A2CENTER\n",
        "         Background box 2 height = 5 offset 300 from A2CENTER\n",
        "\n",
        "DISPCORR PERFORM\n",
        "DISPTAB  oref$m7p16110o_dsp.fits\n",
        "DISPTAB  PEDIGREE=INFLIGHT 04/07/1997 04/07/1997\n",
        "DISPTAB  DESCRIP =INFLIGHT Cal. Disp. Coeffs\n",
        "APDESTAB oref$obm1723ro_apd.fits\n",
        "APDESTAB PEDIGREE=INFLIGHT 01/03/1997 01/03/1997\n",
        "APDESTAB DESCRIP =Microscope Meas./Hartig Post-launch Offsets\n",
        "INANGTAB oref$h1v1541eo_iac.fits\n"
       ]
      },
      {
       "output_type": "stream",
       "stream": "stdout",
       "text": [
        "         Delta = 0.060224 arcsec.\n",
        "DISPCORR COMPLETE\n",
        "2014079183636-I--------------- DISPCORR complete: OCDD03060 --------------------\n",
        "\n",
        "HELCORR  PERFORM\n",
        "HELCORR  COMPLETE\n",
        "2014079183636-I--------------- HELCORR complete: OCDD03060 ---------------------\n",
        "\n",
        "PHOTTAB  oref$vb816445o_pht.fits\n",
        "APERTAB  oref$n7p1032ao_apt.fits\n",
        "APERTAB  PEDIGREE=MODEL\n",
        "APERTAB  DESCRIP =Bohlin/Hartig TIM Models Nov. 1998\n",
        "PCTAB    oref$q541740to_pct.fits\n",
        "TDSTAB   oref$u7c1846ho_tds.fits\n"
       ]
      },
      {
       "output_type": "stream",
       "stream": "stdout",
       "text": [
        "FLUXCORR PERFORM\n"
       ]
      },
      {
       "output_type": "stream",
       "stream": "stdout",
       "text": [
        "Warning  No exact extraction box height match in PCTAB.\n",
        "Warning  Using entry for height 21\n",
        "FLUXCORR COMPLETE\n",
        "2014079183639-I--------------- FLUXCORR complete: OCDD03060 --------------------\n",
        "\n",
        "SGEOCORR OMIT\n"
       ]
      },
      {
       "output_type": "stream",
       "stream": "stdout",
       "text": [
        "\n",
        "         Row 1 written to disk.\n",
        "Order 1  End 18:36:39 EDT\n"
       ]
      },
      {
       "output_type": "stream",
       "stream": "stdout",
       "text": [
        "\n",
        "         trace was rotated by = -0.0447484 degree.\n",
        "Imset 1  End 18:36:39 EDT\n"
       ]
      },
      {
       "output_type": "stream",
       "stream": "stdout",
       "text": [
        "\n",
        "Warning  Keyword `XTRACALG' is being added to header.\n",
        "End      20-Mar-2014 18:36:39 EDT\n",
        "\n",
        "*** CALSTIS-6 complete ***\n",
        "2014079183639-I--------------- CALSTIS-6 completed: OCDD03060 ------------------\n"
       ]
      },
      {
       "output_type": "stream",
       "stream": "stdout",
       "text": [
        "\n",
        "!/Users/bostroem/Ureka/variants/common/iraf/stsci_iraf/stsdas/bin/cs6.e 'ocdd03080_flt.fits' 'ocdd03080_x1d_loc461.fits' -t -v -back -cte -disp -hel -flux -c 461.0 -r 3 -x 25.0 -bm -bo 3 -a unweighted \n"
       ]
      },
      {
       "output_type": "stream",
       "stream": "stdout",
       "text": [
        "\n",
        "*** CALSTIS-6 -- Version 2.40 (23-May-2012) ***\n",
        "Begin    20-Mar-2014 18:36:40 EDT\n"
       ]
      },
      {
       "output_type": "stream",
       "stream": "stdout",
       "text": [
        "2014079183640-I--------------- CALSTIS-6 started -------------------------------\n",
        "\n",
        "Warning  Grating-aperture throughput correction table (GACTAB) was not found,\n",
        "         and no gac corrections will be applied\n",
        "Input    ocdd03080_flt.fits\n",
        "Output   ocdd03080_x1d_loc461.fits\n",
        "Rootname ocdd03080\n",
        "OBSMODE  ACCUM\n",
        "APERTURE 52X0.5\n",
        "OPT_ELEM G140L\n",
        "DETECTOR FUV-MAMA\n"
       ]
      },
      {
       "output_type": "stream",
       "stream": "stdout",
       "text": [
        "\n",
        "XTRACTAB oref$n7p10323o_1dx.fits\n",
        "XTRACTAB PEDIGREE=INFLIGHT 29/05/97\n",
        "XTRACTAB DESCRIP =Analysis from prop. 7064\n",
        "SPTRCTAB oref$q8l14504o_1dt.fits\n",
        "\n",
        "Imset 1  Begin 18:36:40 EDT\n"
       ]
      },
      {
       "output_type": "stream",
       "stream": "stdout",
       "text": [
        "         Input read into memory.\n",
        "Order 1  Begin 18:36:40 EDT\n",
        "X1DCORR  PERFORM\n"
       ]
      },
      {
       "output_type": "stream",
       "stream": "stdout",
       "text": [
        "         Cross correlation offset: 1.73042 pixels\n",
        "BACKCORR PERFORM\n"
       ]
      },
      {
       "output_type": "stream",
       "stream": "stdout",
       "text": [
        "BACKCORR COMPLETE\n",
        "X1DCORR  COMPLETE\n",
        "2014079183640-I--------------- X1DCORR complete: OCDD03080 ---------------------\n",
        "         Spectrum extracted at y position = 462.73\n",
        "         Extraction box height = 25\n",
        "         Background box 1 height = 5 offset -300 from A2CENTER\n",
        "         Background box 2 height = 5 offset 300 from A2CENTER\n",
        "\n",
        "DISPCORR PERFORM\n",
        "DISPTAB  oref$m7p16110o_dsp.fits\n",
        "DISPTAB  PEDIGREE=INFLIGHT 04/07/1997 04/07/1997\n",
        "DISPTAB  DESCRIP =INFLIGHT Cal. Disp. Coeffs\n",
        "APDESTAB oref$obm1723ro_apd.fits\n",
        "APDESTAB PEDIGREE=INFLIGHT 01/03/1997 01/03/1997\n",
        "APDESTAB DESCRIP =Microscope Meas./Hartig Post-launch Offsets\n",
        "INANGTAB oref$h1v1541eo_iac.fits\n"
       ]
      },
      {
       "output_type": "stream",
       "stream": "stdout",
       "text": [
        "         Delta = 0.060224 arcsec.\n",
        "DISPCORR COMPLETE\n",
        "2014079183640-I--------------- DISPCORR complete: OCDD03080 --------------------\n",
        "\n",
        "HELCORR  PERFORM\n",
        "HELCORR  COMPLETE\n",
        "2014079183640-I--------------- HELCORR complete: OCDD03080 ---------------------\n",
        "\n",
        "PHOTTAB  oref$vb816445o_pht.fits\n",
        "APERTAB  oref$n7p1032ao_apt.fits\n",
        "APERTAB  PEDIGREE=MODEL\n",
        "APERTAB  DESCRIP =Bohlin/Hartig TIM Models Nov. 1998\n",
        "PCTAB    oref$q541740to_pct.fits\n",
        "TDSTAB   oref$u7c1846ho_tds.fits\n"
       ]
      },
      {
       "output_type": "stream",
       "stream": "stdout",
       "text": [
        "FLUXCORR PERFORM\n"
       ]
      },
      {
       "output_type": "stream",
       "stream": "stdout",
       "text": [
        "Warning  No exact extraction box height match in PCTAB.\n",
        "Warning  Using entry for height 21\n",
        "FLUXCORR COMPLETE\n",
        "2014079183640-I--------------- FLUXCORR complete: OCDD03080 --------------------\n",
        "\n",
        "SGEOCORR OMIT\n"
       ]
      },
      {
       "output_type": "stream",
       "stream": "stdout",
       "text": [
        "\n",
        "         Row 1 written to disk.\n",
        "Order 1  End 18:36:40 EDT\n"
       ]
      },
      {
       "output_type": "stream",
       "stream": "stdout",
       "text": [
        "\n",
        "         trace was rotated by = -0.0447488 degree.\n",
        "Imset 1  End 18:36:40 EDT\n"
       ]
      },
      {
       "output_type": "stream",
       "stream": "stdout",
       "text": [
        "\n",
        "Warning  Keyword `XTRACALG' is being added to header.\n",
        "End      20-Mar-2014 18:36:40 EDT\n",
        "\n",
        "*** CALSTIS-6 complete ***\n",
        "2014079183640-I--------------- CALSTIS-6 completed: OCDD03080 ------------------\n"
       ]
      },
      {
       "output_type": "stream",
       "stream": "stdout",
       "text": [
        "\n",
        "!/Users/bostroem/Ureka/variants/common/iraf/stsci_iraf/stsdas/bin/cs6.e 'ocdd03090_flt.fits' 'ocdd03090_x1d_loc344.fits' -t -v -back -cte -disp -hel -flux -c 344.0 -r 3 -x 25.0 -bm -bo 3 -a unweighted \n"
       ]
      },
      {
       "output_type": "stream",
       "stream": "stdout",
       "text": [
        "\n",
        "*** CALSTIS-6 -- Version 2.40 (23-May-2012) ***\n",
        "Begin    20-Mar-2014 18:36:41 EDT\n"
       ]
      },
      {
       "output_type": "stream",
       "stream": "stdout",
       "text": [
        "2014079183641-I--------------- CALSTIS-6 started -------------------------------\n",
        "\n",
        "Warning  Grating-aperture throughput correction table (GACTAB) was not found,\n",
        "         and no gac corrections will be applied\n",
        "Input    ocdd03090_flt.fits\n",
        "Output   ocdd03090_x1d_loc344.fits\n",
        "Rootname ocdd03090\n",
        "OBSMODE  ACCUM\n",
        "APERTURE 52X0.5\n",
        "OPT_ELEM G140L\n",
        "DETECTOR FUV-MAMA\n"
       ]
      },
      {
       "output_type": "stream",
       "stream": "stdout",
       "text": [
        "\n",
        "XTRACTAB oref$n7p10323o_1dx.fits\n",
        "XTRACTAB PEDIGREE=INFLIGHT 29/05/97\n",
        "XTRACTAB DESCRIP =Analysis from prop. 7064\n",
        "SPTRCTAB oref$q8l14504o_1dt.fits\n",
        "\n",
        "Imset 1  Begin 18:36:41 EDT\n"
       ]
      },
      {
       "output_type": "stream",
       "stream": "stdout",
       "text": [
        "         Input read into memory.\n",
        "Order 1  Begin 18:36:41 EDT\n",
        "X1DCORR  PERFORM\n"
       ]
      },
      {
       "output_type": "stream",
       "stream": "stdout",
       "text": [
        "         Cross correlation offset: 0.957413 pixels\n",
        "BACKCORR PERFORM\n"
       ]
      },
      {
       "output_type": "stream",
       "stream": "stdout",
       "text": [
        "BACKCORR COMPLETE\n",
        "X1DCORR  COMPLETE\n",
        "2014079183641-I--------------- X1DCORR complete: OCDD03090 ---------------------\n",
        "         Spectrum extracted at y position = 344.957\n",
        "         Extraction box height = 25\n",
        "         Background box 1 height = 5 offset -300 from A2CENTER\n",
        "         Background box 2 height = 5 offset 300 from A2CENTER\n",
        "\n",
        "DISPCORR PERFORM\n",
        "DISPTAB  oref$m7p16110o_dsp.fits\n",
        "DISPTAB  PEDIGREE=INFLIGHT 04/07/1997 04/07/1997\n",
        "DISPTAB  DESCRIP =INFLIGHT Cal. Disp. Coeffs\n",
        "APDESTAB oref$obm1723ro_apd.fits\n",
        "APDESTAB PEDIGREE=INFLIGHT 01/03/1997 01/03/1997\n",
        "APDESTAB DESCRIP =Microscope Meas./Hartig Post-launch Offsets\n",
        "INANGTAB oref$h1v1541eo_iac.fits\n"
       ]
      },
      {
       "output_type": "stream",
       "stream": "stdout",
       "text": [
        "         Delta = 0.060224 arcsec.\n",
        "DISPCORR COMPLETE\n",
        "2014079183641-I--------------- DISPCORR complete: OCDD03090 --------------------\n",
        "\n",
        "HELCORR  PERFORM\n",
        "HELCORR  COMPLETE\n",
        "2014079183641-I--------------- HELCORR complete: OCDD03090 ---------------------\n",
        "\n",
        "PHOTTAB  oref$vb816445o_pht.fits\n",
        "APERTAB  oref$n7p1032ao_apt.fits\n",
        "APERTAB  PEDIGREE=MODEL\n",
        "APERTAB  DESCRIP =Bohlin/Hartig TIM Models Nov. 1998\n",
        "PCTAB    oref$q541740to_pct.fits\n",
        "TDSTAB   oref$u7c1846ho_tds.fits\n"
       ]
      },
      {
       "output_type": "stream",
       "stream": "stdout",
       "text": [
        "FLUXCORR PERFORM\n"
       ]
      },
      {
       "output_type": "stream",
       "stream": "stdout",
       "text": [
        "Warning  No exact extraction box height match in PCTAB.\n",
        "Warning  Using entry for height 21\n",
        "FLUXCORR COMPLETE\n",
        "2014079183641-I--------------- FLUXCORR complete: OCDD03090 --------------------\n",
        "\n",
        "SGEOCORR OMIT\n"
       ]
      },
      {
       "output_type": "stream",
       "stream": "stdout",
       "text": [
        "\n",
        "         Row 1 written to disk.\n",
        "Order 1  End 18:36:41 EDT\n"
       ]
      },
      {
       "output_type": "stream",
       "stream": "stdout",
       "text": [
        "\n",
        "         trace was rotated by = -0.0447488 degree.\n",
        "Imset 1  End 18:36:41 EDT\n"
       ]
      },
      {
       "output_type": "stream",
       "stream": "stdout",
       "text": [
        "\n",
        "Warning  Keyword `XTRACALG' is being added to header.\n",
        "End      20-Mar-2014 18:36:41 EDT\n",
        "\n",
        "*** CALSTIS-6 complete ***\n",
        "2014079183641-I--------------- CALSTIS-6 completed: OCDD03090 ------------------\n"
       ]
      },
      {
       "output_type": "stream",
       "stream": "stdout",
       "text": [
        "\n",
        "!/Users/bostroem/Ureka/variants/common/iraf/stsci_iraf/stsdas/bin/cs6.e 'ocdd030a0_flt.fits' 'ocdd030a0_x1d_loc388.fits' -t -v -back -cte -disp -hel -flux -c 388.0 -r 3 -x 25.0 -bm -bo 3 -a unweighted \n"
       ]
      },
      {
       "output_type": "stream",
       "stream": "stdout",
       "text": [
        "\n",
        "*** CALSTIS-6 -- Version 2.40 (23-May-2012) ***\n",
        "Begin    20-Mar-2014 18:36:41 EDT\n"
       ]
      },
      {
       "output_type": "stream",
       "stream": "stdout",
       "text": [
        "2014079183641-I--------------- CALSTIS-6 started -------------------------------\n",
        "\n",
        "Warning  Grating-aperture throughput correction table (GACTAB) was not found,\n",
        "         and no gac corrections will be applied\n",
        "Input    ocdd030a0_flt.fits\n",
        "Output   ocdd030a0_x1d_loc388.fits\n",
        "Rootname ocdd030a0\n",
        "OBSMODE  ACCUM\n",
        "APERTURE 52X0.5\n",
        "OPT_ELEM G140L\n",
        "DETECTOR FUV-MAMA\n"
       ]
      },
      {
       "output_type": "stream",
       "stream": "stdout",
       "text": [
        "\n",
        "XTRACTAB oref$n7p10323o_1dx.fits\n",
        "XTRACTAB PEDIGREE=INFLIGHT 29/05/97\n",
        "XTRACTAB DESCRIP =Analysis from prop. 7064\n",
        "SPTRCTAB oref$q8l14504o_1dt.fits\n",
        "\n",
        "Imset 1  Begin 18:36:42 EDT\n"
       ]
      },
      {
       "output_type": "stream",
       "stream": "stdout",
       "text": [
        "         Input read into memory.\n",
        "Order 1  Begin 18:36:42 EDT\n",
        "X1DCORR  PERFORM\n"
       ]
      },
      {
       "output_type": "stream",
       "stream": "stdout",
       "text": [
        "         Cross correlation offset: 0.108838 pixels\n",
        "BACKCORR PERFORM\n"
       ]
      },
      {
       "output_type": "stream",
       "stream": "stdout",
       "text": [
        "BACKCORR COMPLETE\n",
        "X1DCORR  COMPLETE\n",
        "2014079183642-I--------------- X1DCORR complete: OCDD030A0 ---------------------\n",
        "         Spectrum extracted at y position = 388.109\n",
        "         Extraction box height = 25\n",
        "         Background box 1 height = 5 offset -300 from A2CENTER\n",
        "         Background box 2 height = 5 offset 300 from A2CENTER\n",
        "\n",
        "DISPCORR PERFORM\n",
        "DISPTAB  oref$m7p16110o_dsp.fits\n",
        "DISPTAB  PEDIGREE=INFLIGHT 04/07/1997 04/07/1997\n",
        "DISPTAB  DESCRIP =INFLIGHT Cal. Disp. Coeffs\n",
        "APDESTAB oref$obm1723ro_apd.fits\n",
        "APDESTAB PEDIGREE=INFLIGHT 01/03/1997 01/03/1997\n",
        "APDESTAB DESCRIP =Microscope Meas./Hartig Post-launch Offsets\n",
        "INANGTAB oref$h1v1541eo_iac.fits\n"
       ]
      },
      {
       "output_type": "stream",
       "stream": "stdout",
       "text": [
        "         Delta = 0.060224 arcsec.\n",
        "DISPCORR COMPLETE\n",
        "2014079183642-I--------------- DISPCORR complete: OCDD030A0 --------------------\n",
        "\n",
        "HELCORR  PERFORM\n",
        "HELCORR  COMPLETE\n",
        "2014079183642-I--------------- HELCORR complete: OCDD030A0 ---------------------\n",
        "\n",
        "PHOTTAB  oref$vb816445o_pht.fits\n",
        "APERTAB  oref$n7p1032ao_apt.fits\n",
        "APERTAB  PEDIGREE=MODEL\n",
        "APERTAB  DESCRIP =Bohlin/Hartig TIM Models Nov. 1998\n",
        "PCTAB    oref$q541740to_pct.fits\n",
        "TDSTAB   oref$u7c1846ho_tds.fits\n"
       ]
      },
      {
       "output_type": "stream",
       "stream": "stdout",
       "text": [
        "FLUXCORR PERFORM\n"
       ]
      },
      {
       "output_type": "stream",
       "stream": "stdout",
       "text": [
        "Warning  No exact extraction box height match in PCTAB.\n",
        "Warning  Using entry for height 21\n",
        "FLUXCORR COMPLETE\n",
        "2014079183642-I--------------- FLUXCORR complete: OCDD030A0 --------------------\n",
        "\n",
        "SGEOCORR OMIT\n"
       ]
      },
      {
       "output_type": "stream",
       "stream": "stdout",
       "text": [
        "\n",
        "         Row 1 written to disk.\n",
        "Order 1  End 18:36:42 EDT\n"
       ]
      },
      {
       "output_type": "stream",
       "stream": "stdout",
       "text": [
        "\n",
        "         trace was rotated by = -0.0447489 degree.\n",
        "Imset 1  End 18:36:42 EDT\n"
       ]
      },
      {
       "output_type": "stream",
       "stream": "stdout",
       "text": [
        "\n",
        "Warning  Keyword `XTRACALG' is being added to header.\n",
        "End      20-Mar-2014 18:36:42 EDT\n",
        "\n",
        "*** CALSTIS-6 complete ***\n",
        "2014079183642-I--------------- CALSTIS-6 completed: OCDD030A0 ------------------\n"
       ]
      },
      {
       "output_type": "stream",
       "stream": "stdout",
       "text": [
        "\n",
        "!/Users/bostroem/Ureka/variants/common/iraf/stsci_iraf/stsdas/bin/cs6.e 'ocdd030b0_flt.fits' 'ocdd030b0_x1d_loc425.fits' -t -v -back -cte -disp -hel -flux -c 425.0 -r 3 -x 25.0 -bm -bo 3 -a unweighted \n"
       ]
      },
      {
       "output_type": "stream",
       "stream": "stdout",
       "text": [
        "\n",
        "*** CALSTIS-6 -- Version 2.40 (23-May-2012) ***\n",
        "Begin    20-Mar-2014 18:36:42 EDT\n"
       ]
      },
      {
       "output_type": "stream",
       "stream": "stdout",
       "text": [
        "2014079183642-I--------------- CALSTIS-6 started -------------------------------\n",
        "\n",
        "Warning  Grating-aperture throughput correction table (GACTAB) was not found,\n",
        "         and no gac corrections will be applied\n",
        "Input    ocdd030b0_flt.fits\n",
        "Output   ocdd030b0_x1d_loc425.fits\n",
        "Rootname ocdd030b0\n",
        "OBSMODE  ACCUM\n",
        "APERTURE 52X0.5\n",
        "OPT_ELEM G140L\n",
        "DETECTOR FUV-MAMA\n"
       ]
      },
      {
       "output_type": "stream",
       "stream": "stdout",
       "text": [
        "\n",
        "XTRACTAB oref$n7p10323o_1dx.fits\n",
        "XTRACTAB PEDIGREE=INFLIGHT 29/05/97\n",
        "XTRACTAB DESCRIP =Analysis from prop. 7064\n",
        "SPTRCTAB oref$q8l14504o_1dt.fits\n",
        "\n",
        "Imset 1  Begin 18:36:42 EDT\n"
       ]
      },
      {
       "output_type": "stream",
       "stream": "stdout",
       "text": [
        "         Input read into memory.\n",
        "Order 1  Begin 18:36:42 EDT\n",
        "X1DCORR  PERFORM\n"
       ]
      },
      {
       "output_type": "stream",
       "stream": "stdout",
       "text": [
        "         Cross correlation offset: 2.2396 pixels\n",
        "BACKCORR PERFORM\n"
       ]
      },
      {
       "output_type": "stream",
       "stream": "stdout",
       "text": [
        "BACKCORR COMPLETE\n",
        "X1DCORR  COMPLETE\n",
        "2014079183642-I--------------- X1DCORR complete: OCDD030B0 ---------------------\n",
        "         Spectrum extracted at y position = 427.24\n",
        "         Extraction box height = 25\n",
        "         Background box 1 height = 5 offset -300 from A2CENTER\n",
        "         Background box 2 height = 5 offset 300 from A2CENTER\n",
        "\n",
        "DISPCORR PERFORM\n",
        "DISPTAB  oref$m7p16110o_dsp.fits\n",
        "DISPTAB  PEDIGREE=INFLIGHT 04/07/1997 04/07/1997\n",
        "DISPTAB  DESCRIP =INFLIGHT Cal. Disp. Coeffs\n",
        "APDESTAB oref$obm1723ro_apd.fits\n",
        "APDESTAB PEDIGREE=INFLIGHT 01/03/1997 01/03/1997\n",
        "APDESTAB DESCRIP =Microscope Meas./Hartig Post-launch Offsets\n",
        "INANGTAB oref$h1v1541eo_iac.fits\n"
       ]
      },
      {
       "output_type": "stream",
       "stream": "stdout",
       "text": [
        "         Delta = 0.060224 arcsec.\n",
        "DISPCORR COMPLETE\n",
        "2014079183642-I--------------- DISPCORR complete: OCDD030B0 --------------------\n",
        "\n",
        "HELCORR  PERFORM\n",
        "HELCORR  COMPLETE\n",
        "2014079183642-I--------------- HELCORR complete: OCDD030B0 ---------------------\n",
        "\n",
        "PHOTTAB  oref$vb816445o_pht.fits\n",
        "APERTAB  oref$n7p1032ao_apt.fits\n",
        "APERTAB  PEDIGREE=MODEL\n",
        "APERTAB  DESCRIP =Bohlin/Hartig TIM Models Nov. 1998\n",
        "PCTAB    oref$q541740to_pct.fits\n",
        "TDSTAB   oref$u7c1846ho_tds.fits\n"
       ]
      },
      {
       "output_type": "stream",
       "stream": "stdout",
       "text": [
        "FLUXCORR PERFORM\n"
       ]
      },
      {
       "output_type": "stream",
       "stream": "stdout",
       "text": [
        "Warning  No exact extraction box height match in PCTAB.\n",
        "Warning  Using entry for height 21\n",
        "FLUXCORR COMPLETE\n",
        "2014079183643-I--------------- FLUXCORR complete: OCDD030B0 --------------------\n",
        "\n",
        "SGEOCORR OMIT\n"
       ]
      },
      {
       "output_type": "stream",
       "stream": "stdout",
       "text": [
        "\n",
        "         Row 1 written to disk.\n",
        "Order 1  End 18:36:43 EDT\n"
       ]
      },
      {
       "output_type": "stream",
       "stream": "stdout",
       "text": [
        "\n",
        "         trace was rotated by = -0.044749 degree.\n",
        "Imset 1  End 18:36:43 EDT\n"
       ]
      },
      {
       "output_type": "stream",
       "stream": "stdout",
       "text": [
        "\n",
        "Warning  Keyword `XTRACALG' is being added to header.\n",
        "End      20-Mar-2014 18:36:43 EDT\n",
        "\n",
        "*** CALSTIS-6 complete ***\n",
        "2014079183643-I--------------- CALSTIS-6 completed: OCDD030B0 ------------------\n"
       ]
      },
      {
       "output_type": "stream",
       "stream": "stdout",
       "text": [
        "\n",
        "!/Users/bostroem/Ureka/variants/common/iraf/stsci_iraf/stsdas/bin/cs6.e 'ocdd030c0_flt.fits' 'ocdd030c0_x1d_loc473.fits' -t -v -back -cte -disp -hel -flux -c 473.0 -r 3 -x 25.0 -bm -bo 3 -a unweighted \n"
       ]
      },
      {
       "output_type": "stream",
       "stream": "stdout",
       "text": [
        "\n",
        "*** CALSTIS-6 -- Version 2.40 (23-May-2012) ***\n",
        "Begin    20-Mar-2014 18:36:43 EDT\n"
       ]
      },
      {
       "output_type": "stream",
       "stream": "stdout",
       "text": [
        "2014079183643-I--------------- CALSTIS-6 started -------------------------------\n",
        "\n",
        "Warning  Grating-aperture throughput correction table (GACTAB) was not found,\n",
        "         and no gac corrections will be applied\n",
        "Input    ocdd030c0_flt.fits\n",
        "Output   ocdd030c0_x1d_loc473.fits\n",
        "Rootname ocdd030c0\n",
        "OBSMODE  ACCUM\n",
        "APERTURE 52X0.5\n",
        "OPT_ELEM G140L\n",
        "DETECTOR FUV-MAMA\n"
       ]
      },
      {
       "output_type": "stream",
       "stream": "stdout",
       "text": [
        "\n",
        "XTRACTAB oref$n7p10323o_1dx.fits\n",
        "XTRACTAB PEDIGREE=INFLIGHT 29/05/97\n",
        "XTRACTAB DESCRIP =Analysis from prop. 7064\n",
        "SPTRCTAB oref$q8l14504o_1dt.fits\n",
        "\n",
        "Imset 1  Begin 18:36:43 EDT\n"
       ]
      },
      {
       "output_type": "stream",
       "stream": "stdout",
       "text": [
        "         Input read into memory.\n",
        "Order 1  Begin 18:36:43 EDT\n",
        "X1DCORR  PERFORM\n"
       ]
      },
      {
       "output_type": "stream",
       "stream": "stdout",
       "text": [
        "         Cross correlation offset: 2.0039 pixels\n",
        "BACKCORR PERFORM\n"
       ]
      },
      {
       "output_type": "stream",
       "stream": "stdout",
       "text": [
        "BACKCORR COMPLETE\n",
        "X1DCORR  COMPLETE\n",
        "2014079183643-I--------------- X1DCORR complete: OCDD030C0 ---------------------\n",
        "         Spectrum extracted at y position = 475.004\n",
        "         Extraction box height = 25\n",
        "         Background box 1 height = 5 offset -300 from A2CENTER\n",
        "         Background box 2 height = 5 offset 300 from A2CENTER\n",
        "\n",
        "DISPCORR PERFORM\n",
        "DISPTAB  oref$m7p16110o_dsp.fits\n",
        "DISPTAB  PEDIGREE=INFLIGHT 04/07/1997 04/07/1997\n",
        "DISPTAB  DESCRIP =INFLIGHT Cal. Disp. Coeffs\n",
        "APDESTAB oref$obm1723ro_apd.fits\n",
        "APDESTAB PEDIGREE=INFLIGHT 01/03/1997 01/03/1997\n",
        "APDESTAB DESCRIP =Microscope Meas./Hartig Post-launch Offsets\n",
        "INANGTAB oref$h1v1541eo_iac.fits\n"
       ]
      },
      {
       "output_type": "stream",
       "stream": "stdout",
       "text": [
        "         Delta = 0.060224 arcsec.\n",
        "DISPCORR COMPLETE\n",
        "2014079183643-I--------------- DISPCORR complete: OCDD030C0 --------------------\n",
        "\n",
        "HELCORR  PERFORM\n",
        "HELCORR  COMPLETE\n",
        "2014079183643-I--------------- HELCORR complete: OCDD030C0 ---------------------\n",
        "\n",
        "PHOTTAB  oref$vb816445o_pht.fits\n",
        "APERTAB  oref$n7p1032ao_apt.fits\n",
        "APERTAB  PEDIGREE=MODEL\n",
        "APERTAB  DESCRIP =Bohlin/Hartig TIM Models Nov. 1998\n",
        "PCTAB    oref$q541740to_pct.fits\n",
        "TDSTAB   oref$u7c1846ho_tds.fits\n"
       ]
      },
      {
       "output_type": "stream",
       "stream": "stdout",
       "text": [
        "FLUXCORR PERFORM\n"
       ]
      },
      {
       "output_type": "stream",
       "stream": "stdout",
       "text": [
        "Warning  No exact extraction box height match in PCTAB.\n",
        "Warning  Using entry for height 21\n",
        "FLUXCORR COMPLETE\n",
        "2014079183643-I--------------- FLUXCORR complete: OCDD030C0 --------------------\n",
        "\n",
        "SGEOCORR OMIT\n"
       ]
      },
      {
       "output_type": "stream",
       "stream": "stdout",
       "text": [
        "\n",
        "         Row 1 written to disk.\n",
        "Order 1  End 18:36:43 EDT\n"
       ]
      },
      {
       "output_type": "stream",
       "stream": "stdout",
       "text": [
        "\n",
        "         trace was rotated by = -0.0447493 degree.\n",
        "Imset 1  End 18:36:43 EDT\n"
       ]
      },
      {
       "output_type": "stream",
       "stream": "stdout",
       "text": [
        "\n",
        "Warning  Keyword `XTRACALG' is being added to header.\n",
        "End      20-Mar-2014 18:36:43 EDT\n",
        "\n",
        "*** CALSTIS-6 complete ***\n",
        "2014079183643-I--------------- CALSTIS-6 completed: OCDD030C0 ------------------\n"
       ]
      },
      {
       "output_type": "stream",
       "stream": "stdout",
       "text": [
        "\n"
       ]
      }
     ],
     "prompt_number": 132
    },
    {
     "cell_type": "code",
     "collapsed": false,
     "input": [
      "def run_calcos(input_file, extrlocy, maxsrch = 3, extrsize = 25):\n",
      "    output_file = '{}_x1d_loc{}.fits'.format(input_file.split('_')[0], extrlocy)\n",
      "    os.environ['oref'] = '/grp/hst/cdbs/oref/'\n",
      "    x1d.unlearn()\n",
      "    x1d(input = input_file, output = output_file, a2center = extrlocy, maxsrch = maxsrch, extrsize = extrsize)\n"
     ],
     "language": "python",
     "metadata": {},
     "outputs": [],
     "prompt_number": 209
    },
    {
     "cell_type": "markdown",
     "metadata": {},
     "source": [
      "###NUV "
     ]
    },
    {
     "cell_type": "code",
     "collapsed": false,
     "input": [
      "flist = [('ocdd030d0_flt.fits', 470), ('ocdd030e0_flt.fits', 506), ('ocdd030f0_flt.fits', 555), ('ocdd030g0_flt.fits', 590), ('ocdd030h0_flt.fits', 470), ('ocdd030i0_flt.fits', 510),\n",
      "         ('ocdd030j0_flt.fits', 547), ('ocdd030k0_flt.fits', 600)]\n",
      "for tup_list in flist:\n",
      "    input_file, extrlocy = tup_list\n",
      "    run_calcos(input_file, extrlocy, maxsrch = 10, extrsize = 21)"
     ],
     "language": "python",
     "metadata": {},
     "outputs": [
      {
       "output_type": "stream",
       "stream": "stdout",
       "text": [
        "!/Users/bostroem/Ureka/variants/common/iraf/stsci_iraf/stsdas/bin/cs6.e 'ocdd030d0_flt.fits' 'ocdd030d0_x1d_loc470.fits' -t -v -back -cte -disp -hel -flux -c 470.0 -r 10 -x 21.0 -bm -bo 3 -a unweighted \n"
       ]
      },
      {
       "output_type": "stream",
       "stream": "stdout",
       "text": [
        "\n",
        "*** CALSTIS-6 -- Version 2.40 (23-May-2012) ***\n",
        "Begin    30-Mar-2014 23:54:43 EDT\n"
       ]
      },
      {
       "output_type": "stream",
       "stream": "stdout",
       "text": [
        "2014089235443-I--------------- CALSTIS-6 started -------------------------------\n",
        "\n",
        "Warning  Grating-aperture throughput correction table (GACTAB) was not found,\n",
        "         and no gac corrections will be applied\n",
        "Input    ocdd030d0_flt.fits\n",
        "Output   ocdd030d0_x1d_loc470.fits\n",
        "Rootname ocdd030d0\n",
        "OBSMODE  ACCUM\n",
        "APERTURE 52X0.5\n",
        "OPT_ELEM G230L\n",
        "DETECTOR NUV-MAMA\n"
       ]
      },
      {
       "output_type": "stream",
       "stream": "stdout",
       "text": [
        "\n",
        "XTRACTAB oref$l3m1437to_1dx.fits\n",
        "XTRACTAB PEDIGREE=INFLIGHT 29/05/97\n",
        "XTRACTAB DESCRIP =Analysis from prop. 7064\n",
        "SPTRCTAB oref$q8l14502o_1dt.fits\n",
        "\n",
        "Imset 1  Begin 23:54:52 EDT\n"
       ]
      },
      {
       "output_type": "stream",
       "stream": "stdout",
       "text": [
        "         Input read into memory.\n",
        "Order 1  Begin 23:54:53 EDT\n",
        "X1DCORR  PERFORM\n"
       ]
      },
      {
       "output_type": "stream",
       "stream": "stdout",
       "text": [
        "         Cross correlation offset: -0.225052 pixels\n",
        "BACKCORR PERFORM\n"
       ]
      },
      {
       "output_type": "stream",
       "stream": "stdout",
       "text": [
        "BACKCORR COMPLETE\n",
        "X1DCORR  COMPLETE\n",
        "2014089235453-I--------------- X1DCORR complete: OCDD030D0 ---------------------\n",
        "         Spectrum extracted at y position = 469.775\n",
        "         Extraction box height = 21\n",
        "         Background box 1 height = 5 offset -300 from A2CENTER\n",
        "         Background box 2 height = 5 offset 300 from A2CENTER\n",
        "\n",
        "DISPCORR PERFORM\n",
        "DISPTAB  oref$m7p16111o_dsp.fits\n",
        "DISPTAB  PEDIGREE=INFLIGHT 23/01/1999 23/01/1999\n",
        "DISPTAB  DESCRIP =INFLIGHT Cal. Disp. Coeffs\n",
        "APDESTAB oref$obm1723ro_apd.fits\n",
        "APDESTAB PEDIGREE=INFLIGHT 01/03/1997 01/03/1997\n",
        "APDESTAB DESCRIP =Microscope Meas./Hartig Post-launch Offsets\n",
        "INANGTAB oref$l3m1437ro_iac.fits\n"
       ]
      },
      {
       "output_type": "stream",
       "stream": "stdout",
       "text": [
        "         Delta = 0.060224 arcsec.\n",
        "DISPCORR COMPLETE\n",
        "2014089235453-I--------------- DISPCORR complete: OCDD030D0 --------------------\n",
        "\n",
        "HELCORR  PERFORM\n",
        "HELCORR  COMPLETE\n",
        "2014089235453-I--------------- HELCORR complete: OCDD030D0 ---------------------\n",
        "\n",
        "PHOTTAB  oref$vb816448o_pht.fits\n",
        "APERTAB  oref$n7p1032ao_apt.fits\n",
        "APERTAB  PEDIGREE=MODEL\n",
        "APERTAB  DESCRIP =Bohlin/Hartig TIM Models Nov. 1998\n",
        "PCTAB    oref$q5417413o_pct.fits\n",
        "TDSTAB   oref$ub920085o_tds.fits\n"
       ]
      },
      {
       "output_type": "stream",
       "stream": "stdout",
       "text": [
        "FLUXCORR PERFORM\n"
       ]
      },
      {
       "output_type": "stream",
       "stream": "stdout",
       "text": [
        "FLUXCORR COMPLETE\n",
        "2014089235454-I--------------- FLUXCORR complete: OCDD030D0 --------------------\n",
        "\n",
        "SGEOCORR OMIT\n"
       ]
      },
      {
       "output_type": "stream",
       "stream": "stdout",
       "text": [
        "\n",
        "         Row 1 written to disk.\n",
        "Order 1  End 23:54:54 EDT\n"
       ]
      },
      {
       "output_type": "stream",
       "stream": "stdout",
       "text": [
        "\n",
        "         trace was rotated by = -0.00314255 degree.\n",
        "Imset 1  End 23:54:54 EDT\n"
       ]
      },
      {
       "output_type": "stream",
       "stream": "stdout",
       "text": [
        "\n",
        "Warning  Keyword `XTRACALG' is being added to header.\n",
        "End      30-Mar-2014 23:54:54 EDT\n",
        "\n",
        "*** CALSTIS-6 complete ***\n",
        "2014089235454-I--------------- CALSTIS-6 completed: OCDD030D0 ------------------\n"
       ]
      },
      {
       "output_type": "stream",
       "stream": "stdout",
       "text": [
        "\n",
        "!/Users/bostroem/Ureka/variants/common/iraf/stsci_iraf/stsdas/bin/cs6.e 'ocdd030e0_flt.fits' 'ocdd030e0_x1d_loc506.fits' -t -v -back -cte -disp -hel -flux -c 506.0 -r 10 -x 21.0 -bm -bo 3 -a unweighted \n"
       ]
      },
      {
       "output_type": "stream",
       "stream": "stdout",
       "text": [
        "\n",
        "*** CALSTIS-6 -- Version 2.40 (23-May-2012) ***\n",
        "Begin    30-Mar-2014 23:54:54 EDT\n"
       ]
      },
      {
       "output_type": "stream",
       "stream": "stdout",
       "text": [
        "2014089235454-I--------------- CALSTIS-6 started -------------------------------\n",
        "\n",
        "Warning  Grating-aperture throughput correction table (GACTAB) was not found,\n",
        "         and no gac corrections will be applied\n",
        "Input    ocdd030e0_flt.fits\n",
        "Output   ocdd030e0_x1d_loc506.fits\n",
        "Rootname ocdd030e0\n",
        "OBSMODE  ACCUM\n",
        "APERTURE 52X0.5\n",
        "OPT_ELEM G230L\n",
        "DETECTOR NUV-MAMA\n"
       ]
      },
      {
       "output_type": "stream",
       "stream": "stdout",
       "text": [
        "\n",
        "XTRACTAB oref$l3m1437to_1dx.fits\n",
        "XTRACTAB PEDIGREE=INFLIGHT 29/05/97\n",
        "XTRACTAB DESCRIP =Analysis from prop. 7064\n",
        "SPTRCTAB oref$q8l14502o_1dt.fits\n",
        "\n",
        "Imset 1  Begin 23:55:03 EDT\n"
       ]
      },
      {
       "output_type": "stream",
       "stream": "stdout",
       "text": [
        "         Input read into memory.\n",
        "Order 1  Begin 23:55:04 EDT\n",
        "X1DCORR  PERFORM\n"
       ]
      },
      {
       "output_type": "stream",
       "stream": "stdout",
       "text": [
        "         Cross correlation offset: 6.9177 pixels\n",
        "BACKCORR PERFORM\n"
       ]
      },
      {
       "output_type": "stream",
       "stream": "stdout",
       "text": [
        "BACKCORR COMPLETE\n",
        "X1DCORR  COMPLETE\n",
        "2014089235504-I--------------- X1DCORR complete: OCDD030E0 ---------------------\n",
        "         Spectrum extracted at y position = 512.918\n",
        "         Extraction box height = 21\n",
        "         Background box 1 height = 5 offset -300 from A2CENTER\n",
        "         Background box 2 height = 5 offset 300 from A2CENTER\n",
        "\n",
        "DISPCORR PERFORM\n",
        "DISPTAB  oref$m7p16111o_dsp.fits\n",
        "DISPTAB  PEDIGREE=INFLIGHT 23/01/1999 23/01/1999\n",
        "DISPTAB  DESCRIP =INFLIGHT Cal. Disp. Coeffs\n",
        "APDESTAB oref$obm1723ro_apd.fits\n",
        "APDESTAB PEDIGREE=INFLIGHT 01/03/1997 01/03/1997\n",
        "APDESTAB DESCRIP =Microscope Meas./Hartig Post-launch Offsets\n",
        "INANGTAB oref$l3m1437ro_iac.fits\n"
       ]
      },
      {
       "output_type": "stream",
       "stream": "stdout",
       "text": [
        "         Delta = 0.060224 arcsec.\n",
        "DISPCORR COMPLETE\n",
        "2014089235504-I--------------- DISPCORR complete: OCDD030E0 --------------------\n",
        "\n",
        "HELCORR  PERFORM\n",
        "HELCORR  COMPLETE\n",
        "2014089235504-I--------------- HELCORR complete: OCDD030E0 ---------------------\n",
        "\n",
        "PHOTTAB  oref$vb816448o_pht.fits\n",
        "APERTAB  oref$n7p1032ao_apt.fits\n",
        "APERTAB  PEDIGREE=MODEL\n",
        "APERTAB  DESCRIP =Bohlin/Hartig TIM Models Nov. 1998\n",
        "PCTAB    oref$q5417413o_pct.fits\n",
        "TDSTAB   oref$ub920085o_tds.fits\n"
       ]
      },
      {
       "output_type": "stream",
       "stream": "stdout",
       "text": [
        "FLUXCORR PERFORM\n"
       ]
      },
      {
       "output_type": "stream",
       "stream": "stdout",
       "text": [
        "FLUXCORR COMPLETE\n",
        "2014089235505-I--------------- FLUXCORR complete: OCDD030E0 --------------------\n",
        "\n",
        "SGEOCORR OMIT\n"
       ]
      },
      {
       "output_type": "stream",
       "stream": "stdout",
       "text": [
        "\n",
        "         Row 1 written to disk.\n",
        "Order 1  End 23:55:05 EDT\n"
       ]
      },
      {
       "output_type": "stream",
       "stream": "stdout",
       "text": [
        "\n",
        "         trace was rotated by = -0.00314257 degree.\n",
        "Imset 1  End 23:55:05 EDT\n"
       ]
      },
      {
       "output_type": "stream",
       "stream": "stdout",
       "text": [
        "\n",
        "Warning  Keyword `XTRACALG' is being added to header.\n",
        "End      30-Mar-2014 23:55:05 EDT\n",
        "\n",
        "*** CALSTIS-6 complete ***\n",
        "2014089235505-I--------------- CALSTIS-6 completed: OCDD030E0 ------------------\n"
       ]
      },
      {
       "output_type": "stream",
       "stream": "stdout",
       "text": [
        "\n",
        "!/Users/bostroem/Ureka/variants/common/iraf/stsci_iraf/stsdas/bin/cs6.e 'ocdd030f0_flt.fits' 'ocdd030f0_x1d_loc555.fits' -t -v -back -cte -disp -hel -flux -c 555.0 -r 10 -x 21.0 -bm -bo 3 -a unweighted \n"
       ]
      },
      {
       "output_type": "stream",
       "stream": "stdout",
       "text": [
        "\n",
        "*** CALSTIS-6 -- Version 2.40 (23-May-2012) ***\n",
        "Begin    30-Mar-2014 23:55:05 EDT\n"
       ]
      },
      {
       "output_type": "stream",
       "stream": "stdout",
       "text": [
        "2014089235505-I--------------- CALSTIS-6 started -------------------------------\n",
        "\n",
        "Warning  Grating-aperture throughput correction table (GACTAB) was not found,\n",
        "         and no gac corrections will be applied\n",
        "Input    ocdd030f0_flt.fits\n",
        "Output   ocdd030f0_x1d_loc555.fits\n",
        "Rootname ocdd030f0\n",
        "OBSMODE  ACCUM\n",
        "APERTURE 52X0.5\n",
        "OPT_ELEM G230L\n",
        "DETECTOR NUV-MAMA\n"
       ]
      },
      {
       "output_type": "stream",
       "stream": "stdout",
       "text": [
        "\n",
        "XTRACTAB oref$l3m1437to_1dx.fits\n",
        "XTRACTAB PEDIGREE=INFLIGHT 29/05/97\n",
        "XTRACTAB DESCRIP =Analysis from prop. 7064\n",
        "SPTRCTAB oref$q8l14502o_1dt.fits\n",
        "\n",
        "Imset 1  Begin 23:55:08 EDT\n"
       ]
      },
      {
       "output_type": "stream",
       "stream": "stdout",
       "text": [
        "         Input read into memory.\n",
        "Order 1  Begin 23:55:08 EDT\n",
        "X1DCORR  PERFORM\n"
       ]
      },
      {
       "output_type": "stream",
       "stream": "stdout",
       "text": [
        "Warning  Cross correlation to locate spectrum failed.\n",
        "ERROR    Cannot extract.\n",
        "Warning  No rows were written; no table created.\n",
        "         trace was rotated by = -0.00314266 degree.\n",
        "Imset 1  End 23:55:08 EDT\n",
        "\n",
        "End      30-Mar-2014 23:55:08 EDT\n",
        "\n",
        "*** CALSTIS-6 complete ***\n",
        "2014089235508-I--------------- CALSTIS-6 completed: OCDD030F0 ------------------\n"
       ]
      },
      {
       "output_type": "stream",
       "stream": "stdout",
       "text": [
        "\n",
        "!/Users/bostroem/Ureka/variants/common/iraf/stsci_iraf/stsdas/bin/cs6.e 'ocdd030g0_flt.fits' 'ocdd030g0_x1d_loc590.fits' -t -v -back -cte -disp -hel -flux -c 590.0 -r 10 -x 21.0 -bm -bo 3 -a unweighted \n"
       ]
      },
      {
       "output_type": "stream",
       "stream": "stdout",
       "text": [
        "\n",
        "*** CALSTIS-6 -- Version 2.40 (23-May-2012) ***\n",
        "Begin    30-Mar-2014 23:55:08 EDT\n"
       ]
      },
      {
       "output_type": "stream",
       "stream": "stdout",
       "text": [
        "2014089235508-I--------------- CALSTIS-6 started -------------------------------\n",
        "\n",
        "Warning  Grating-aperture throughput correction table (GACTAB) was not found,\n",
        "         and no gac corrections will be applied\n",
        "Input    ocdd030g0_flt.fits\n",
        "Output   ocdd030g0_x1d_loc590.fits\n",
        "Rootname ocdd030g0\n",
        "OBSMODE  ACCUM\n",
        "APERTURE 52X0.5\n",
        "OPT_ELEM G230L\n",
        "DETECTOR NUV-MAMA\n"
       ]
      },
      {
       "output_type": "stream",
       "stream": "stdout",
       "text": [
        "\n",
        "XTRACTAB oref$l3m1437to_1dx.fits\n",
        "XTRACTAB PEDIGREE=INFLIGHT 29/05/97\n",
        "XTRACTAB DESCRIP =Analysis from prop. 7064\n",
        "SPTRCTAB oref$q8l14502o_1dt.fits\n",
        "\n",
        "Imset 1  Begin 23:55:12 EDT\n"
       ]
      },
      {
       "output_type": "stream",
       "stream": "stdout",
       "text": [
        "         Input read into memory.\n",
        "Order 1  Begin 23:55:13 EDT\n",
        "X1DCORR  PERFORM\n"
       ]
      },
      {
       "output_type": "stream",
       "stream": "stdout",
       "text": [
        "Warning  Cross correlation to locate spectrum failed.\n",
        "ERROR    Cannot extract.\n",
        "Warning  No rows were written; no table created.\n",
        "         trace was rotated by = -0.00314267 degree.\n",
        "Imset 1  End 23:55:13 EDT\n",
        "\n",
        "End      30-Mar-2014 23:55:13 EDT\n",
        "\n",
        "*** CALSTIS-6 complete ***\n",
        "2014089235513-I--------------- CALSTIS-6 completed: OCDD030G0 ------------------\n"
       ]
      },
      {
       "output_type": "stream",
       "stream": "stdout",
       "text": [
        "\n",
        "!/Users/bostroem/Ureka/variants/common/iraf/stsci_iraf/stsdas/bin/cs6.e 'ocdd030h0_flt.fits' 'ocdd030h0_x1d_loc470.fits' -t -v -back -cte -disp -hel -flux -c 470.0 -r 10 -x 21.0 -bm -bo 3 -a unweighted \n"
       ]
      },
      {
       "output_type": "stream",
       "stream": "stdout",
       "text": [
        "\n",
        "*** CALSTIS-6 -- Version 2.40 (23-May-2012) ***\n",
        "Begin    30-Mar-2014 23:55:13 EDT\n"
       ]
      },
      {
       "output_type": "stream",
       "stream": "stdout",
       "text": [
        "2014089235513-I--------------- CALSTIS-6 started -------------------------------\n",
        "\n",
        "Warning  Grating-aperture throughput correction table (GACTAB) was not found,\n",
        "         and no gac corrections will be applied\n",
        "Input    ocdd030h0_flt.fits\n",
        "Output   ocdd030h0_x1d_loc470.fits\n",
        "Rootname ocdd030h0\n",
        "OBSMODE  ACCUM\n",
        "APERTURE 52X0.5\n",
        "OPT_ELEM G230L\n",
        "DETECTOR NUV-MAMA\n"
       ]
      },
      {
       "output_type": "stream",
       "stream": "stdout",
       "text": [
        "\n",
        "XTRACTAB oref$l3m1437to_1dx.fits\n",
        "XTRACTAB PEDIGREE=INFLIGHT 29/05/97\n",
        "XTRACTAB DESCRIP =Analysis from prop. 7064\n",
        "SPTRCTAB oref$q8l14502o_1dt.fits\n",
        "\n",
        "Imset 1  Begin 23:55:24 EDT\n"
       ]
      },
      {
       "output_type": "stream",
       "stream": "stdout",
       "text": [
        "         Input read into memory.\n",
        "Order 1  Begin 23:55:24 EDT\n",
        "X1DCORR  PERFORM\n"
       ]
      },
      {
       "output_type": "stream",
       "stream": "stdout",
       "text": [
        "Warning  Cross correlation to locate spectrum failed.\n",
        "ERROR    Cannot extract.\n",
        "Warning  No rows were written; no table created.\n",
        "         trace was rotated by = -0.0031427 degree.\n",
        "Imset 1  End 23:55:24 EDT\n",
        "\n",
        "End      30-Mar-2014 23:55:24 EDT\n",
        "\n",
        "*** CALSTIS-6 complete ***\n",
        "2014089235524-I--------------- CALSTIS-6 completed: OCDD030H0 ------------------\n"
       ]
      },
      {
       "output_type": "stream",
       "stream": "stdout",
       "text": [
        "\n",
        "!/Users/bostroem/Ureka/variants/common/iraf/stsci_iraf/stsdas/bin/cs6.e 'ocdd030i0_flt.fits' 'ocdd030i0_x1d_loc510.fits' -t -v -back -cte -disp -hel -flux -c 510.0 -r 10 -x 21.0 -bm -bo 3 -a unweighted \n"
       ]
      },
      {
       "output_type": "stream",
       "stream": "stdout",
       "text": [
        "\n",
        "*** CALSTIS-6 -- Version 2.40 (23-May-2012) ***\n",
        "Begin    30-Mar-2014 23:55:24 EDT\n"
       ]
      },
      {
       "output_type": "stream",
       "stream": "stdout",
       "text": [
        "2014089235524-I--------------- CALSTIS-6 started -------------------------------\n",
        "\n",
        "ERROR    Output file `ocdd030i0_x1d_loc510.fits' already exists.\n",
        "Error processing ocdd030i0_flt.fits.\n"
       ]
      },
      {
       "output_type": "stream",
       "stream": "stdout",
       "text": [
        "\n",
        "!/Users/bostroem/Ureka/variants/common/iraf/stsci_iraf/stsdas/bin/cs6.e 'ocdd030j0_flt.fits' 'ocdd030j0_x1d_loc547.fits' -t -v -back -cte -disp -hel -flux -c 547.0 -r 10 -x 21.0 -bm -bo 3 -a unweighted \n"
       ]
      },
      {
       "output_type": "stream",
       "stream": "stdout",
       "text": [
        "\n",
        "*** CALSTIS-6 -- Version 2.40 (23-May-2012) ***\n",
        "Begin    30-Mar-2014 23:55:24 EDT\n"
       ]
      },
      {
       "output_type": "stream",
       "stream": "stdout",
       "text": [
        "2014089235524-I--------------- CALSTIS-6 started -------------------------------\n",
        "\n",
        "Warning  Grating-aperture throughput correction table (GACTAB) was not found,\n",
        "         and no gac corrections will be applied\n",
        "Input    ocdd030j0_flt.fits\n",
        "Output   ocdd030j0_x1d_loc547.fits\n",
        "Rootname ocdd030j0\n",
        "OBSMODE  ACCUM\n",
        "APERTURE 52X0.5\n",
        "OPT_ELEM G230L\n",
        "DETECTOR NUV-MAMA\n"
       ]
      },
      {
       "output_type": "stream",
       "stream": "stdout",
       "text": [
        "\n",
        "XTRACTAB oref$l3m1437to_1dx.fits\n",
        "XTRACTAB PEDIGREE=INFLIGHT 29/05/97\n",
        "XTRACTAB DESCRIP =Analysis from prop. 7064\n",
        "SPTRCTAB oref$q8l14502o_1dt.fits\n",
        "\n",
        "Imset 1  Begin 23:55:27 EDT\n"
       ]
      },
      {
       "output_type": "stream",
       "stream": "stdout",
       "text": [
        "         Input read into memory.\n",
        "Order 1  Begin 23:55:28 EDT\n",
        "X1DCORR  PERFORM\n"
       ]
      },
      {
       "output_type": "stream",
       "stream": "stdout",
       "text": [
        "         Cross correlation offset: 6.22894 pixels\n",
        "BACKCORR PERFORM\n"
       ]
      },
      {
       "output_type": "stream",
       "stream": "stdout",
       "text": [
        "BACKCORR COMPLETE\n",
        "X1DCORR  COMPLETE\n",
        "2014089235528-I--------------- X1DCORR complete: OCDD030J0 ---------------------\n",
        "         Spectrum extracted at y position = 553.229\n",
        "         Extraction box height = 21\n",
        "         Background box 1 height = 5 offset -300 from A2CENTER\n",
        "         Background box 2 height = 5 offset 300 from A2CENTER\n",
        "\n",
        "DISPCORR PERFORM\n",
        "DISPTAB  oref$m7p16111o_dsp.fits\n",
        "DISPTAB  PEDIGREE=INFLIGHT 23/01/1999 23/01/1999\n",
        "DISPTAB  DESCRIP =INFLIGHT Cal. Disp. Coeffs\n",
        "APDESTAB oref$obm1723ro_apd.fits\n",
        "APDESTAB PEDIGREE=INFLIGHT 01/03/1997 01/03/1997\n",
        "APDESTAB DESCRIP =Microscope Meas./Hartig Post-launch Offsets\n",
        "INANGTAB oref$l3m1437ro_iac.fits\n"
       ]
      },
      {
       "output_type": "stream",
       "stream": "stdout",
       "text": [
        "         Delta = 0.060224 arcsec.\n",
        "DISPCORR COMPLETE\n",
        "2014089235528-I--------------- DISPCORR complete: OCDD030J0 --------------------\n",
        "\n",
        "HELCORR  PERFORM\n",
        "HELCORR  COMPLETE\n",
        "2014089235528-I--------------- HELCORR complete: OCDD030J0 ---------------------\n",
        "\n",
        "PHOTTAB  oref$vb816448o_pht.fits\n",
        "APERTAB  oref$n7p1032ao_apt.fits\n",
        "APERTAB  PEDIGREE=MODEL\n",
        "APERTAB  DESCRIP =Bohlin/Hartig TIM Models Nov. 1998\n",
        "PCTAB    oref$q5417413o_pct.fits\n",
        "TDSTAB   oref$ub920085o_tds.fits\n"
       ]
      },
      {
       "output_type": "stream",
       "stream": "stdout",
       "text": [
        "FLUXCORR PERFORM\n"
       ]
      },
      {
       "output_type": "stream",
       "stream": "stdout",
       "text": [
        "FLUXCORR COMPLETE\n",
        "2014089235529-I--------------- FLUXCORR complete: OCDD030J0 --------------------\n",
        "\n",
        "SGEOCORR OMIT\n"
       ]
      },
      {
       "output_type": "stream",
       "stream": "stdout",
       "text": [
        "\n",
        "         Row 1 written to disk.\n",
        "Order 1  End 23:55:29 EDT\n"
       ]
      },
      {
       "output_type": "stream",
       "stream": "stdout",
       "text": [
        "\n",
        "         trace was rotated by = -0.00314279 degree.\n",
        "Imset 1  End 23:55:29 EDT\n"
       ]
      },
      {
       "output_type": "stream",
       "stream": "stdout",
       "text": [
        "\n",
        "Warning  Keyword `XTRACALG' is being added to header.\n",
        "End      30-Mar-2014 23:55:29 EDT\n",
        "\n",
        "*** CALSTIS-6 complete ***\n",
        "2014089235529-I--------------- CALSTIS-6 completed: OCDD030J0 ------------------\n"
       ]
      },
      {
       "output_type": "stream",
       "stream": "stdout",
       "text": [
        "\n",
        "!/Users/bostroem/Ureka/variants/common/iraf/stsci_iraf/stsdas/bin/cs6.e 'ocdd030k0_flt.fits' 'ocdd030k0_x1d_loc600.fits' -t -v -back -cte -disp -hel -flux -c 600.0 -r 10 -x 21.0 -bm -bo 3 -a unweighted \n"
       ]
      },
      {
       "output_type": "stream",
       "stream": "stdout",
       "text": [
        "\n",
        "*** CALSTIS-6 -- Version 2.40 (23-May-2012) ***\n",
        "Begin    30-Mar-2014 23:55:29 EDT\n"
       ]
      },
      {
       "output_type": "stream",
       "stream": "stdout",
       "text": [
        "2014089235529-I--------------- CALSTIS-6 started -------------------------------\n",
        "\n",
        "Warning  Grating-aperture throughput correction table (GACTAB) was not found,\n",
        "         and no gac corrections will be applied\n",
        "Input    ocdd030k0_flt.fits\n",
        "Output   ocdd030k0_x1d_loc600.fits\n",
        "Rootname ocdd030k0\n",
        "OBSMODE  ACCUM\n",
        "APERTURE 52X0.5\n",
        "OPT_ELEM G230L\n",
        "DETECTOR NUV-MAMA\n"
       ]
      },
      {
       "output_type": "stream",
       "stream": "stdout",
       "text": [
        "\n",
        "XTRACTAB oref$l3m1437to_1dx.fits\n",
        "XTRACTAB PEDIGREE=INFLIGHT 29/05/97\n",
        "XTRACTAB DESCRIP =Analysis from prop. 7064\n",
        "SPTRCTAB oref$q8l14502o_1dt.fits\n",
        "\n",
        "Imset 1  Begin 23:55:33 EDT\n"
       ]
      },
      {
       "output_type": "stream",
       "stream": "stdout",
       "text": [
        "         Input read into memory.\n",
        "Order 1  Begin 23:55:34 EDT\n",
        "X1DCORR  PERFORM\n"
       ]
      },
      {
       "output_type": "stream",
       "stream": "stdout",
       "text": [
        "Warning  Cross correlation to locate spectrum failed.\n",
        "ERROR    Cannot extract.\n",
        "Warning  No rows were written; no table created.\n",
        "         trace was rotated by = -0.0031428 degree.\n",
        "Imset 1  End 23:55:34 EDT\n",
        "\n",
        "End      30-Mar-2014 23:55:34 EDT\n",
        "\n",
        "*** CALSTIS-6 complete ***\n",
        "2014089235534-I--------------- CALSTIS-6 completed: OCDD030K0 ------------------\n"
       ]
      },
      {
       "output_type": "stream",
       "stream": "stdout",
       "text": [
        "\n"
       ]
      }
     ],
     "prompt_number": 210
    },
    {
     "cell_type": "code",
     "collapsed": false,
     "input": [
      "print flist\n",
      "print glob.glob('*0k0*x1d*.fits')"
     ],
     "language": "python",
     "metadata": {},
     "outputs": [
      {
       "output_type": "stream",
       "stream": "stdout",
       "text": [
        "[('ocdd030d0_flt.fits', 470), ('ocdd030e0_flt.fits', 506), ('ocdd030f0_flt.fits', 555), ('ocdd030g0_flt.fits', 590), ('ocdd030h0_flt.fits', 470), ('ocdd030i0_flt.fits', 510), ('ocdd030j0_flt.fits', 547), ('ocdd030k0_flt.fits', 600)]\n",
        "['ocdd030k0_x1d.fits']\n"
       ]
      }
     ],
     "prompt_number": 219
    },
    {
     "cell_type": "code",
     "collapsed": false,
     "input": [
      "flist = ['ocdd030d0_x1d_loc470.fits', 'ocdd030e0_x1d_loc506.fits', 'ocdd030i0_x1d_loc510.fits', 'ocdd030j0_x1d_loc547.fits']"
     ],
     "language": "python",
     "metadata": {},
     "outputs": []
    },
    {
     "cell_type": "code",
     "collapsed": false,
     "input": [],
     "language": "python",
     "metadata": {},
     "outputs": []
    },
    {
     "cell_type": "markdown",
     "metadata": {},
     "source": [
      "###Plot Spectrum"
     ]
    },
    {
     "cell_type": "code",
     "collapsed": false,
     "input": [
      "from stsci.convolve import boxcar\n",
      "def plot_flux(filename, new_fig = True):\n",
      "    spec = fits.getdata(filename, 1)\n",
      "    if new_fig:\n",
      "        fig2 = pyplot.figure()\n",
      "        ax2 = fig2.add_subplot(1, 1, 1)\n",
      "        ax2.plot(spec['wavelength'][0], boxcar(spec['flux'][0], (33,)))\n",
      "    else:\n",
      "        pyplot.plot(spec['wavelength'][0], boxcar(spec['flux'][0], (33,)))"
     ],
     "language": "python",
     "metadata": {},
     "outputs": [],
     "prompt_number": 127
    },
    {
     "cell_type": "code",
     "collapsed": false,
     "input": [
      "flist = ['ocdd03010_x1d.fits', 'ocdd03020_x1d.fits', 'ocdd03030_x1d.fits', 'ocdd03040_x1d.fits', \n",
      "'ocdd03050_x1d.fits', 'ocdd03060_x1d_loc381.fits', 'ocdd03070_x1d.fits', 'ocdd03080_x1d_loc461.fits', 'ocdd03090_x1d_loc344.fits', \n",
      "'ocdd030a0_x1d_loc388.fits', 'ocdd030b0_x1d_loc425.fits', 'ocdd030c0_x1d_loc473.fits']\n",
      "for ifile in flist:\n",
      "    plot_flux(ifile, new_fig = False)"
     ],
     "language": "python",
     "metadata": {},
     "outputs": [],
     "prompt_number": 133
    },
    {
     "cell_type": "markdown",
     "metadata": {},
     "source": [
      "###Check spectrum Extraction Location"
     ]
    },
    {
     "cell_type": "code",
     "collapsed": false,
     "input": [
      "for i, ifile in enumerate(flist):\n",
      "    print i, fits.getdata(ifile, 1)['A2center'][0]"
     ],
     "language": "python",
     "metadata": {},
     "outputs": [
      {
       "output_type": "stream",
       "stream": "stdout",
       "text": [
        "0 "
       ]
      },
      {
       "output_type": "stream",
       "stream": "stdout",
       "text": [
        "342.434\n",
        "1 "
       ]
      },
      {
       "output_type": "stream",
       "stream": "stdout",
       "text": [
        "383.27\n",
        "2 "
       ]
      },
      {
       "output_type": "stream",
       "stream": "stdout",
       "text": [
        "423.589\n",
        "3 "
       ]
      },
      {
       "output_type": "stream",
       "stream": "stdout",
       "text": [
        "465.221\n",
        "4 "
       ]
      },
      {
       "output_type": "stream",
       "stream": "stdout",
       "text": [
        "341.634\n",
        "5 "
       ]
      },
      {
       "output_type": "stream",
       "stream": "stdout",
       "text": [
        "383.139\n",
        "6 "
       ]
      },
      {
       "output_type": "stream",
       "stream": "stdout",
       "text": [
        "424.342\n",
        "7 "
       ]
      },
      {
       "output_type": "stream",
       "stream": "stdout",
       "text": [
        "462.73\n",
        "8 "
       ]
      },
      {
       "output_type": "stream",
       "stream": "stdout",
       "text": [
        "344.957\n",
        "9 "
       ]
      },
      {
       "output_type": "stream",
       "stream": "stdout",
       "text": [
        "388.109\n",
        "10 "
       ]
      },
      {
       "output_type": "stream",
       "stream": "stdout",
       "text": [
        "427.24\n",
        "11 "
       ]
      },
      {
       "output_type": "stream",
       "stream": "stdout",
       "text": [
        "475.004\n"
       ]
      }
     ],
     "prompt_number": 125
    },
    {
     "cell_type": "markdown",
     "metadata": {},
     "source": [
      "##Sum dithers to make a combined spectrum"
     ]
    },
    {
     "cell_type": "code",
     "collapsed": false,
     "input": [
      "import glob\n",
      "#flist = glob.glob('*x1d.fits')\n",
      "for i, ifile in enumerate(flist):\n",
      "    print i, ifile, fits.getval(ifile, 'detector', 0), fits.getval(ifile, 'texpstrt', 0)"
     ],
     "language": "python",
     "metadata": {},
     "outputs": []
    },
    {
     "cell_type": "code",
     "collapsed": false,
     "input": [
      "from astropy.constants import c\n",
      "def sum_spectra(flist, output_filename = None, smooth = 3):\n",
      "    ref_tbdata = fits.getdata(flist[0], 1)\n",
      "    ref_wl = ref_tbdata['wavelength'][0]\n",
      "    ref_flux = ref_tbdata['flux'][0]\n",
      "    sum_flux = ref_flux.copy()\n",
      "    sum_exptime = 0\n",
      "    for ifile in flist:\n",
      "        exptime = fits.getval(ifile, 'texptime', 0)\n",
      "        tbdata = fits.getdata(ifile, 1)\n",
      "        #z = (wl_obs/wl_rest) -1 --> wl_rest = wl_obs/(z+1); z = v/c\n",
      "        sum_flux += np.interp(ref_wl, tbdata['wavelength'][0], tbdata['flux'][0]*exptime)\n",
      "        sum_exptime += exptime\n",
      "        \n",
      "    sum_flux = sum_flux/sum_exptime\n",
      "    pyplot.figure()\n",
      "    pyplot.plot(ref_wl/((3.6E5/c.value)+1.0), boxcar(sum_flux, (smooth,)))\n",
      "    if output_filename:\n",
      "        col1 = fits.Column(name = 'wavelength', format = 'D', array = ref_wl)\n",
      "        col2 = fits.Column(name = 'flux', format = 'E', array = sum_flux)\n",
      "        tbhdu = fits.new_table(fits.ColDefs([col1, col2]))\n",
      "        tbhdu.writeto(output_filename, clobber = True)"
     ],
     "language": "python",
     "metadata": {},
     "outputs": [],
     "prompt_number": 187
    },
    {
     "cell_type": "markdown",
     "metadata": {},
     "source": [
      "###FUV"
     ]
    },
    {
     "cell_type": "code",
     "collapsed": false,
     "input": [
      "flist = ['ocdd03010_x1d.fits', 'ocdd03020_x1d.fits', 'ocdd03030_x1d.fits', 'ocdd03040_x1d.fits', \n",
      "'ocdd03050_x1d.fits', 'ocdd03060_x1d_loc381.fits', 'ocdd03070_x1d.fits', 'ocdd03080_x1d_loc461.fits', 'ocdd03090_x1d_loc344.fits', \n",
      "'ocdd030a0_x1d_loc388.fits', 'ocdd030b0_x1d_loc425.fits', 'ocdd030c0_x1d_loc473.fits']\n",
      "sum_spectra(flist, 'fuv_spectrum.fits')\n",
      "line_list = [1302, 1304, 1309, 1393, 1403, 1483, 1487, 1549, 1551, 1661, 1666, 1747, 1753]\n",
      "for iline in line_list:\n",
      "    pyplot.axvline(iline, color = 'r')\n"
     ],
     "language": "python",
     "metadata": {},
     "outputs": [
      {
       "output_type": "stream",
       "stream": "stdout",
       "text": [
        "WARNING: Overwriting existing file 'fuv_spectrum.fits'. [astropy.io.fits.file]\n"
       ]
      }
     ],
     "prompt_number": 188
    },
    {
     "cell_type": "code",
     "collapsed": false,
     "input": [
      "from astropy.io import fits\n",
      "from matplotlib import pyplot\n",
      "from stsci.convolve import boxcar\n",
      "flist = ['ocdd03010_x1d.fits', 'ocdd03020_x1d.fits', 'ocdd03030_x1d.fits', 'ocdd03040_x1d.fits', \n",
      "'ocdd03050_x1d.fits', 'ocdd03060_x1d_loc381.fits', 'ocdd03070_x1d.fits', 'ocdd03080_x1d_loc461.fits', 'ocdd03090_x1d_loc344.fits', \n",
      "'ocdd030a0_x1d_loc388.fits', 'ocdd030b0_x1d_loc425.fits', 'ocdd030c0_x1d_loc473.fits']\n",
      "fig1 = pyplot.figure()\n",
      "ax1 = fig1.add_subplot(1, 1, 1)\n",
      "fig2 = pyplot.figure()\n",
      "ax2 = fig2.add_subplot(1, 1, 1)\n",
      "fig3 = pyplot.figure()\n",
      "ax3 = fig3.add_subplot(1, 1, 1)\n",
      "for ifile in flist:\n",
      "    tbdata = fits.getdata(ifile, 1)\n",
      "    ax1.plot(tbdata['wavelength'][0], boxcar(tbdata['gross'][0], (9,)))\n",
      "    ax1.set_title('Gross')\n",
      "    ax2.plot(tbdata['wavelength'][0], boxcar(tbdata['background'][0], (9,)))\n",
      "    ax2.set_title('Background')\n",
      "    ax3.plot(tbdata['wavelength'][0], boxcar(tbdata['net'][0], (9,)))\n",
      "    ax3.set_title('Net')\n",
      "    "
     ],
     "language": "python",
     "metadata": {},
     "outputs": [],
     "prompt_number": 2
    },
    {
     "cell_type": "markdown",
     "metadata": {},
     "source": [
      "###NUV"
     ]
    },
    {
     "cell_type": "code",
     "collapsed": false,
     "input": [
      "flist = ['ocdd030d0_x1d_loc470.fits', 'ocdd030e0_x1d_loc506.fits', 'ocdd030i0_x1d_loc510.fits', 'ocdd030j0_x1d_loc547.fits']\n",
      "sum_spectra(flist, 'nuv_spectrum.fits')"
     ],
     "language": "python",
     "metadata": {},
     "outputs": [],
     "prompt_number": 220
    },
    {
     "cell_type": "code",
     "collapsed": false,
     "input": [
      "tbdata_fuv = fits.getdata('fuv_spectrum.fits', 0)\n",
      "tbdata_nuv = fits.getdata('nuv_spectrum.fits', 0)\n",
      "pyplot.figure()\n",
      "pyplot.plot(tbdata_nuv['wavelength'], boxcar(tbdata_nuv['flux'], (9,)))\n",
      "pyplot.plot(tbdata_fuv['wavelength'], boxcar(tbdata_fuv['flux'], (9,)))"
     ],
     "language": "python",
     "metadata": {},
     "outputs": [
      {
       "metadata": {},
       "output_type": "pyout",
       "prompt_number": 221,
       "text": [
        "[<matplotlib.lines.Line2D at 0x111de7fd0>]"
       ]
      }
     ],
     "prompt_number": 221
    },
    {
     "cell_type": "code",
     "collapsed": false,
     "input": [
      "pyplot.xlabel('Wavelength')\n",
      "pyplot.ylabel('Flux')\n",
      "pyplot.legend(['NUV, smoothed by 9 pixels', 'FUV smoothed by 9 pixels'])\n",
      "pyplot.title('2010JL initial extraction')"
     ],
     "language": "python",
     "metadata": {},
     "outputs": [
      {
       "metadata": {},
       "output_type": "pyout",
       "prompt_number": 222,
       "text": [
        "<matplotlib.text.Text at 0x11702f7d0>"
       ]
      }
     ],
     "prompt_number": 222
    },
    {
     "cell_type": "markdown",
     "metadata": {},
     "source": [
      "###compare calstis versions"
     ]
    },
    {
     "cell_type": "code",
     "collapsed": false,
     "input": [
      "import glob\n",
      "import os\n",
      "flist = glob.glob('2010jl_data/*flt.fits')\n",
      "for ifile in flist:\n",
      "    filename = os.path.basename(ifile)\n",
      "    print fits.getval(ifile, 'cal_ver', 0), fits.getval(os.path.join('otfr_data2/', filename), 'cal_ver', 0)\n",
      "for ifile in flist:\n",
      "    filename = os.path.basename(ifile)\n",
      "    print fits.getval(ifile, 'opus_ver', 0), fits.getval(os.path.join('otfr_data2/', filename), 'opus_ver', 0)"
     ],
     "language": "python",
     "metadata": {},
     "outputs": [
      {
       "output_type": "stream",
       "stream": "stdout",
       "text": [
        "3.3 (03-October-2013) 3.3 (03-October-2013)\n",
        "3.3 (03-October-2013) "
       ]
      },
      {
       "output_type": "stream",
       "stream": "stdout",
       "text": [
        "3.3 (03-October-2013)\n",
        "3.3 (03-October-2013) 3.3 (03-October-2013)\n",
        "3.3 (03-October-2013) "
       ]
      },
      {
       "output_type": "stream",
       "stream": "stdout",
       "text": [
        "3.3 (03-October-2013)\n",
        "3.3 (03-October-2013) 3.3 (03-October-2013)\n",
        "3.3 (03-October-2013) "
       ]
      },
      {
       "output_type": "stream",
       "stream": "stdout",
       "text": [
        "3.3 (03-October-2013)\n",
        "3.3 (03-October-2013) 3.3 (03-October-2013)\n",
        "3.3 (03-October-2013) "
       ]
      },
      {
       "output_type": "stream",
       "stream": "stdout",
       "text": [
        "3.3 (03-October-2013)\n",
        "3.3 (03-October-2013) 3.3 (03-October-2013)\n",
        "3.3 (03-October-2013) "
       ]
      },
      {
       "output_type": "stream",
       "stream": "stdout",
       "text": [
        "3.3 (03-October-2013)\n",
        "3.3 (03-October-2013) 3.3 (03-October-2013)\n",
        "3.3 (03-October-2013) "
       ]
      },
      {
       "output_type": "stream",
       "stream": "stdout",
       "text": [
        "3.3 (03-October-2013)\n",
        "3.3 (03-October-2013) 3.3 (03-October-2013)\n",
        "3.3 (03-October-2013) "
       ]
      },
      {
       "output_type": "stream",
       "stream": "stdout",
       "text": [
        "3.3 (03-October-2013)\n",
        "3.3 (03-October-2013) 3.3 (03-October-2013)\n",
        "3.3 (03-October-2013) "
       ]
      },
      {
       "output_type": "stream",
       "stream": "stdout",
       "text": [
        "3.3 (03-October-2013)\n",
        "3.3 (03-October-2013) 3.3 (03-October-2013)\n",
        "3.3 (03-October-2013) "
       ]
      },
      {
       "output_type": "stream",
       "stream": "stdout",
       "text": [
        "3.3 (03-October-2013)\n",
        "3.3 (03-October-2013) 3.3 (03-October-2013)\n",
        "3.3 (03-October-2013) "
       ]
      },
      {
       "output_type": "stream",
       "stream": "stdout",
       "text": [
        "3.3 (03-October-2013)\n",
        "OPUS 2014_1a OPUS 2014_1a\n",
        "OPUS 2014_1a "
       ]
      },
      {
       "output_type": "stream",
       "stream": "stdout",
       "text": [
        "OPUS 2014_1a\n",
        "OPUS 2014_1a OPUS 2014_1a\n",
        "OPUS 2014_1a "
       ]
      },
      {
       "output_type": "stream",
       "stream": "stdout",
       "text": [
        "OPUS 2014_1a\n",
        "OPUS 2014_1a OPUS 2014_1a\n",
        "OPUS 2014_1a"
       ]
      },
      {
       "output_type": "stream",
       "stream": "stdout",
       "text": [
        " OPUS 2014_1a\n",
        "OPUS 2014_1a OPUS 2014_1a\n",
        "OPUS 2014_1a "
       ]
      },
      {
       "output_type": "stream",
       "stream": "stdout",
       "text": [
        "OPUS 2014_1a\n",
        "OPUS 2014_1a OPUS 2014_1a\n",
        "OPUS 2014_1a"
       ]
      },
      {
       "output_type": "stream",
       "stream": "stdout",
       "text": [
        " OPUS 2014_1a\n",
        "OPUS 2014_1a OPUS 2014_1a\n",
        "OPUS 2014_1a"
       ]
      },
      {
       "output_type": "stream",
       "stream": "stdout",
       "text": [
        " OPUS 2014_1a\n",
        "OPUS 2014_1a OPUS 2014_1a\n",
        "OPUS 2014_1a"
       ]
      },
      {
       "output_type": "stream",
       "stream": "stdout",
       "text": [
        " OPUS 2014_1a\n",
        "OPUS 2014_1a OPUS 2014_1a\n",
        "OPUS 2014_1a"
       ]
      },
      {
       "output_type": "stream",
       "stream": "stdout",
       "text": [
        " OPUS 2014_1a\n",
        "OPUS 2014_1a OPUS 2014_1a\n",
        "OPUS 2014_1a"
       ]
      },
      {
       "output_type": "stream",
       "stream": "stdout",
       "text": [
        " OPUS 2014_1a\n",
        "OPUS 2014_1a OPUS 2014_1a\n",
        "OPUS 2014_1a "
       ]
      },
      {
       "output_type": "stream",
       "stream": "stdout",
       "text": [
        "OPUS 2014_1a\n"
       ]
      }
     ],
     "prompt_number": 14
    },
    {
     "cell_type": "markdown",
     "metadata": {},
     "source": [
      "#Cross correlate each column with STIS XD profile"
     ]
    },
    {
     "cell_type": "code",
     "collapsed": false,
     "input": [
      "print fits.getval('otfr_data2/ocdd03050_flt.fits', 'orientat', 1)"
     ],
     "language": "python",
     "metadata": {},
     "outputs": [
      {
       "output_type": "stream",
       "stream": "stdout",
       "text": [
        "36.6144\n"
       ]
      }
     ],
     "prompt_number": 119
    },
    {
     "cell_type": "code",
     "collapsed": false,
     "input": [
      "from scipy.ndimage.interpolation import rotate\n",
      "import time\n",
      "from matplotlib.backends.backend_pdf import PdfPages\n",
      "pp = PdfPages('xd_profile_match.pdf')\n",
      "\n",
      "wfpc2_img = fits.getdata('hst_08645_11_wfpc2_f300w_wf/hst_08645_11_wfpc2_f300w_wf_drz.fits', 1)\n",
      "rot_wfpc2_img = rotate(wfpc2_img, 36.6)\n",
      "\n",
      "xd_profile = np.sum(img[:, 500:524], axis = 1)\n",
      "#Remove occulation bar\n",
      "xd_profile[854:910] = np.median(xd_profile)\n",
      "#Bin to WFPC2 resolution\n",
      "fuv_plate_scale = 0.0246 #arcsec/pix\n",
      "wfpc2_platescale = 0.1 #arcsec/pix\n",
      "binning_factor = wfpc2_platescale/fuv_plate_scale\n",
      "binned_xd_profile = xd_profile[::int(binning_factor)]\n",
      "for indx in range(1,int(binning_factor)):\n",
      "    binned_xd_profile = binned_xd_profile + xd_profile[indx::int(binning_factor)] \n",
      "\n",
      "stis_slit_height_pix = 25.0/wfpc2_platescale\n",
      "\n",
      "#0.2 arcsec slit = 2 WFPC2 pixels\n",
      "columns = np.arange(1210, 1260, 2)\n",
      "corr = []\n",
      "offset = []\n",
      "wfpc2_y_start = 750\n",
      "#make WFPC2 xd profile 2 times actual profile to account for offsetting\n",
      "\n",
      "for column in columns:\n",
      "    #0.2 arcsec slit = 2 WFPC2 pixels\n",
      "    wfpc2_profile = np.sum(rot_wfpc2_img[wfpc2_y_start: wfpc2_y_start + 2*stis_slit_height_pix, column:column+2], axis = 1)\n",
      "    #Normalize the 2 XD profiles\n",
      "    #Correlate bigger array, smaller array apply offset to smaller array\n",
      "    correlation_array = np.correlate(wfpc2_profile/np.max(wfpc2_profile), binned_xd_profile/np.max(binned_xd_profile))\n",
      "    max_corr_indx = np.argmax(correlation_array)\n",
      "    max_corr = correlation_array[max_corr_indx]\n",
      "    corr.append(max_corr)\n",
      "    offset.append(max_corr_indx)\n",
      "    #Plot the XD profile for each column tested \n",
      "    fig_temp = pyplot.figure()\n",
      "    ax_temp = fig_temp.add_subplot(1,1,1)\n",
      "    ax_temp.plot(wfpc2_profile/max(wfpc2_profile), np.arange(len(wfpc2_profile)))\n",
      "    ax_temp.plot(binned_xd_profile/max(binned_xd_profile), np.arange(len(binned_xd_profile))+max_corr_indx)\n",
      "    ax_temp.legend(['Norm WFPC2 profile', 'Norm, binned, STIS profile'], loc = 'best')\n",
      "    ax_temp.set_title('WFPC2 Column {}'.format(column))\n",
      "    pp.savefig()\n",
      "    pyplot.close()\n",
      "pp.close()\n",
      "corr = np.array(corr)\n",
      "fig2 = pyplot.figure()\n",
      "ax2 = fig2.add_subplot(1,1,1)\n",
      "pyplot.plot(columns, corr)\n",
      "\n",
      "final_max_corr_indx = np.argmax(corr)\n",
      "fig3 = pyplot.figure()\n",
      "ax3 = fig3.add_subplot(1,1,1)\n",
      "ax3.plot(binned_xd_profile/binned_xd_profile.max(), np.arange(len(binned_xd_profile))+offset[final_max_corr_indx])\n",
      "best_col = rot_wfpc2_img[wfpc2_y_start : wfpc2_y_start+ 2.0*stis_slit_height_pix, columns[final_max_corr_indx]]\n",
      "ax3.plot(best_col/best_col.max(), range(len(best_col)))\n",
      "print np.max(corr), offset[final_max_corr_indx], columns[final_max_corr_indx]"
     ],
     "language": "python",
     "metadata": {},
     "outputs": [
      {
       "output_type": "stream",
       "stream": "stdout",
       "text": [
        "16.938 138 1230\n"
       ]
      }
     ],
     "prompt_number": 117
    },
    {
     "cell_type": "code",
     "collapsed": false,
     "input": [
      "from scipy.ndimage.interpolation import rotate\n",
      "import time\n",
      "from matplotlib.backends.backend_pdf import PdfPages\n",
      "pp = PdfPages('xd_profile_match_reverse.pdf')\n",
      "\n",
      "wfpc2_img = fits.getdata('hst_08645_11_wfpc2_f300w_wf/hst_08645_11_wfpc2_f300w_wf_drz.fits', 1)\n",
      "rot_wfpc2_img = rotate(wfpc2_img, 36.6)\n",
      "\n",
      "xd_profile = np.sum(img[:, 500:524], axis = 1)\n",
      "#Remove occulation bar\n",
      "xd_profile[854:910] = np.median(xd_profile)\n",
      "#Bin to WFPC2 resolution\n",
      "fuv_plate_scale = 0.0246 #arcsec/pix\n",
      "wfpc2_platescale = 0.1 #arcsec/pix\n",
      "binning_factor = wfpc2_platescale/fuv_plate_scale\n",
      "binned_xd_profile = xd_profile[::int(binning_factor)]\n",
      "for indx in range(1,int(binning_factor)):\n",
      "    binned_xd_profile = binned_xd_profile + xd_profile[indx::int(binning_factor)] \n",
      "binned_xd_profile = binned_xd_profile[::-1] #reverse\n",
      "stis_slit_height_pix = 25.0/wfpc2_platescale\n",
      "\n",
      "#0.2 arcsec slit = 2 WFPC2 pixels\n",
      "columns = np.arange(1210, 1260, 2)\n",
      "corr = []\n",
      "offset = []\n",
      "wfpc2_y_start = 750\n",
      "#make WFPC2 xd profile 2 times actual profile to account for offsetting\n",
      "\n",
      "for column in columns:\n",
      "    #0.2 arcsec slit = 2 WFPC2 pixels\n",
      "    wfpc2_profile = np.sum(rot_wfpc2_img[wfpc2_y_start: wfpc2_y_start + 2*stis_slit_height_pix, column:column+2], axis = 1)\n",
      "    #Normalize the 2 XD profiles\n",
      "    #Correlate bigger array, smaller array\n",
      "    correlation_array = np.correlate(wfpc2_profile/np.max(wfpc2_profile), binned_xd_profile/np.max(binned_xd_profile))\n",
      "    max_corr_indx = np.argmax(correlation_array)\n",
      "    max_corr = correlation_array[max_corr_indx]\n",
      "    corr.append(max_corr)\n",
      "    offset.append(max_corr_indx)\n",
      "    #Plot the XD profile for each column tested \n",
      "    fig_temp = pyplot.figure()\n",
      "    ax_temp = fig_temp.add_subplot(1,1,1)\n",
      "    ax_temp.plot(wfpc2_profile/max(wfpc2_profile), np.arange(len(wfpc2_profile)))\n",
      "    ax_temp.plot(binned_xd_profile/max(binned_xd_profile), np.arange(len(binned_xd_profile))+max_corr_indx)\n",
      "    ax_temp.legend(['Norm WFPC2 profile', 'Norm, binned, STIS profile'], loc = 'best')\n",
      "    ax_temp.set_title('WFPC2 Column {}'.format(column))\n",
      "    pp.savefig()\n",
      "    pyplot.close()\n",
      "pp.close()\n",
      "corr = np.array(corr)\n",
      "fig2 = pyplot.figure()\n",
      "ax2 = fig2.add_subplot(1,1,1)\n",
      "pyplot.plot(columns, corr)\n",
      "\n",
      "final_max_corr_indx = np.argmax(corr)\n",
      "fig3 = pyplot.figure()\n",
      "ax3 = fig3.add_subplot(1,1,1)\n",
      "ax3.plot(binned_xd_profile/binned_xd_profile.max(), np.arange(len(binned_xd_profile))+offset[final_max_corr_indx])\n",
      "best_col = rot_wfpc2_img[wfpc2_y_start : wfpc2_y_start+ 2.0*stis_slit_height_pix, columns[final_max_corr_indx]]\n",
      "ax3.plot(best_col/best_col.max(), range(len(best_col)))\n",
      "print np.max(corr), offset[final_max_corr_indx], columns[final_max_corr_indx]"
     ],
     "language": "python",
     "metadata": {},
     "outputs": [
      {
       "output_type": "stream",
       "stream": "stdout",
       "text": [
        "16.4001 99 1242\n"
       ]
      }
     ],
     "prompt_number": 118
    },
    {
     "cell_type": "markdown",
     "metadata": {},
     "source": [
      "#Conclusions about FUV Location\n",
      "\n",
      "* Best correlation is with WFPC2 columns 1230+1231 starting at row 888 (750+138)\n",
      "* The reversed spectrum returned worse results"
     ]
    },
    {
     "cell_type": "markdown",
     "metadata": {},
     "source": [
      "----------------------------------\n",
      "\n",
      "# Create Finder Image for FUV"
     ]
    },
    {
     "cell_type": "code",
     "collapsed": false,
     "input": [
      "\n",
      "from scipy.ndimage.interpolation import rotate\n",
      "wfpc2_img = fits.getdata('hst_08645_11_wfpc2_f300w_wf/hst_08645_11_wfpc2_f300w_wf_drz.fits', 1)\n",
      "orientat = 36.6\n",
      "rot_wfpc2_img = rotate(wfpc2_img, orientat)\n",
      "\n",
      "fig = pyplot.figure(figsize = [20, 15])\n",
      "ax2 = fig.add_subplot(1,3,2)\n",
      "ax3 = fig.add_subplot(1, 3, 3)\n",
      "ax1 = fig.add_subplot(1, 3, 1)\n",
      "im = ax2.imshow(rot_wfpc2_img, interpolation = 'nearest')\n",
      "im.set_clim(0, 0.2)\n",
      "\n",
      "wfpc2_platescale = 0.1 #arcsec/pix\n",
      "stis_slit_height_pix = 25.0/wfpc2_platescale\n",
      "stis_slit_width_pix = 0.2/wfpc2_platescale\n",
      "#ax1.set_xlim(1234 - stis_slit_width_pix, 1234)\n",
      "ax2.set_ylim(888, 1138)\n",
      "ax2.set_xlim(1220,1250)\n",
      "ax2.axvspan(1220, 1230, color = 'k', alpha = 0.5)\n",
      "ax2.axvspan(1232, 1250, color = 'k', alpha = 0.5)\n",
      "im2 = ax1.imshow(rot_wfpc2_img, interpolation = 'nearest')\n",
      "im2.set_clim(0, 0.2)\n",
      "ax1.set_ylim(700, 1150)\n",
      "ax1.set_xlim(1100, 1300)\n",
      "ax1.plot([1220, 1220, 1250, 1250, 1220], [888, 1138, 1138, 888, 888], color = 'r')\n",
      "\n",
      "ax3.plot(np.sum(rot_wfpc2_img[890:1140, 1230:1232], axis = 1)/np.max(np.sum(rot_wfpc2_img[890:1140, 1230:1232], axis = 1)), np.arange(stis_slit_height_pix))\n",
      "ax4 = ax3.twinx()\n",
      "img = fits.getdata('otfr_data2/ocdd03010_flt.fits', 1)\n",
      "xd_profile = np.sum(img, axis = 1)\n",
      "ax4.plot(xd_profile/np.max(xd_profile), np.arange(len(xd_profile)), color = 'g')\n",
      "ax4.set_ylim(0, 1024)\n",
      "ax3.legend(['WFPC2'], loc = 1)\n",
      "ax4.legend(['STIS'], loc = 4)\n",
      "sn_loc = [1231.5, 975]\n",
      "#ax2.plot([sn_loc[0]], [sn_loc[1]], 'o', markerfacecolor = 'none', markeredgecolor = 'lime', markersize = 10, markeredgewidth = 2)\n",
      "north_dx = -50.0*sin(orientat*pi/180.0)\n",
      "north_dy = 50.0*cos(orientat*pi/180.0)\n",
      "east_dx = 50.0*sin((90.0-orientat)*pi/180.0)\n",
      "east_dy = 50.0*cos((90.0-orientat)*pi/180.0)\n",
      "arrow_center_x = 1150\n",
      "arrow_center_y = 1050\n",
      "ax1.arrow(arrow_center_x, arrow_center_y, north_dx, north_dy, color = 'w', width = 0.5, head_length = 12*0.5)\n",
      "ax1.arrow(arrow_center_x, arrow_center_y, east_dx, east_dy, color = 'w', width = 0.5, head_length = 12*0.5)\n",
      "ax1.text(arrow_center_x + north_dx, arrow_center_y + north_dy +10, 'N', color = 'w' )\n",
      "ax1.text(arrow_center_x + east_dx, arrow_center_y + east_dy +10, 'E', color = 'w' )\n",
      "ax1.set_title('WFPC2 Image of UGC 5189')\n",
      "ax2.set_title('STIS Slit position on WFPC2 Image')\n",
      "ax3.set_title('Normalized XD profiles from STIS and WFPC2')\n",
      "add_date_to_plot(ax3)"
     ],
     "language": "python",
     "metadata": {},
     "outputs": [],
     "prompt_number": 21
    },
    {
     "cell_type": "code",
     "collapsed": false,
     "input": [
      "from datetime import datetime\n",
      "def add_date_to_plot(ax):\n",
      "    today = datetime.today()\n",
      "    xlims = ax.get_xlim()\n",
      "    ylims = ax.get_ylim()\n",
      "    ax.text(xlims[1], -.06*(ylims[1] - ylims[0])+ylims[0], '{}-{}-{}'.format(today.year, today.month, today.day))"
     ],
     "language": "python",
     "metadata": {},
     "outputs": [],
     "prompt_number": 5
    },
    {
     "cell_type": "markdown",
     "metadata": {},
     "source": [
      "#Figure out Cross Correlation Behaviour here"
     ]
    },
    {
     "cell_type": "code",
     "collapsed": false,
     "input": [
      "x = np.zeros(21)\n",
      "x[10] = 1\n",
      "y = np.zeros(21)\n",
      "y[15] = 1\n",
      "\n",
      "print np.correlate(x, y)"
     ],
     "language": "python",
     "metadata": {},
     "outputs": [
      {
       "output_type": "stream",
       "stream": "stdout",
       "text": [
        "[ 0.]\n"
       ]
      }
     ],
     "prompt_number": 76
    },
    {
     "cell_type": "code",
     "collapsed": false,
     "input": [
      "#Make one array larger than the other\n",
      "x = np.zeros(21)\n",
      "x[10] = 1\n",
      "y = np.zeros(41)\n",
      "y[15] = 1\n",
      "\n",
      "print np.correlate(x, y)\n",
      "print np.where(np.correlate(x, y) > 0)"
     ],
     "language": "python",
     "metadata": {},
     "outputs": [
      {
       "output_type": "stream",
       "stream": "stdout",
       "text": [
        "[ 0.  0.  0.  0.  0.  0.  0.  0.  0.  0.  0.  0.  0.  0.  0.  1.  0.  0.\n",
        "  0.  0.  0.]\n",
        "(array([15]),)\n"
       ]
      }
     ],
     "prompt_number": 79
    },
    {
     "cell_type": "code",
     "collapsed": false,
     "input": [
      "#Experiment with modes\n",
      "x = np.zeros(21)\n",
      "x[10] = 1\n",
      "y = np.zeros(41)\n",
      "y[15] = 1\n",
      "corr = np.correlate(x, y, mode = 'full')\n",
      "print corr\n",
      "print np.where(corr > 0)"
     ],
     "language": "python",
     "metadata": {},
     "outputs": [
      {
       "output_type": "stream",
       "stream": "stdout",
       "text": [
        "[ 0.  0.  0.  0.  0.  0.  0.  0.  0.  0.  0.  0.  0.  0.  0.  0.  0.  0.\n",
        "  0.  0.  0.  0.  0.  0.  0.  0.  0.  0.  0.  0.  0.  0.  0.  0.  0.  1.\n",
        "  0.  0.  0.  0.  0.  0.  0.  0.  0.  0.  0.  0.  0.  0.  0.  0.  0.  0.\n",
        "  0.  0.  0.  0.  0.  0.  0.]\n",
        "(array([35]),)\n"
       ]
      }
     ],
     "prompt_number": 80
    },
    {
     "cell_type": "code",
     "collapsed": false,
     "input": [
      "#Experiment with modes\n",
      "x = np.zeros(21)\n",
      "x[10] = 1\n",
      "y = np.zeros(41)\n",
      "y[15] = 1\n",
      "corr = np.correlate(x, y, mode = 'same')\n",
      "print corr\n",
      "print np.where(corr > 0)"
     ],
     "language": "python",
     "metadata": {},
     "outputs": [
      {
       "output_type": "stream",
       "stream": "stdout",
       "text": [
        "[ 0.  0.  0.  0.  0.  0.  0.  0.  0.  0.  0.  0.  0.  0.  0.  0.  0.  0.\n",
        "  0.  0.  0.  0.  0.  0.  0.  0.  0.  0.  0.  0.  0.  0.  0.  0.  0.  1.\n",
        "  0.  0.  0.  0.  0.  0.  0.  0.  0.  0.  0.  0.  0.  0.  0.]\n",
        "(array([35]),)\n"
       ]
      }
     ],
     "prompt_number": 82
    },
    {
     "cell_type": "code",
     "collapsed": false,
     "input": [
      "#If the length of y changes does the location of the match change?\n",
      "x = np.zeros(21)\n",
      "x[10] = 1\n",
      "y = np.zeros(51)\n",
      "y[15] = 1\n",
      "corr = np.correlate(x, y, mode = 'same')\n",
      "print corr\n",
      "print np.where(corr > 0)\n"
     ],
     "language": "python",
     "metadata": {},
     "outputs": []
    },
    {
     "cell_type": "code",
     "collapsed": false,
     "input": [
      "#Trying to figure out a \n",
      "x = np.zeros(21)\n",
      "x[10] = 1\n",
      "y = np.zeros(51)\n",
      "y[15] = 1\n",
      "corr = np.correlate(x, y)\n",
      "print corr\n",
      "print np.argmax(corr)\n",
      "corr2 = np.correlate(y, x)\n",
      "print np.argmax(corr2)"
     ],
     "language": "python",
     "metadata": {},
     "outputs": [
      {
       "output_type": "stream",
       "stream": "stdout",
       "text": [
        "[ 0.  0.  0.  0.  0.  0.  0.  0.  0.  0.  0.  0.  0.  0.  0.  0.  0.  0.\n",
        "  0.  0.  0.  0.  0.  0.  0.  1.  0.  0.  0.  0.  0.]\n",
        "25\n",
        "5\n"
       ]
      }
     ],
     "prompt_number": 93
    },
    {
     "cell_type": "code",
     "collapsed": false,
     "input": [
      "pyplot.plot(np.arange(21)+15, x, '-')\n",
      "pyplot.plot(np.arange(51), y)"
     ],
     "language": "python",
     "metadata": {},
     "outputs": [
      {
       "metadata": {},
       "output_type": "pyout",
       "prompt_number": 90,
       "text": [
        "[<matplotlib.lines.Line2D at 0x14d95ba90>]"
       ]
      }
     ],
     "prompt_number": 90
    },
    {
     "cell_type": "code",
     "collapsed": false,
     "input": [
      "#Trying to figure out a \n",
      "x = np.zeros(21)\n",
      "x[10] = 1\n",
      "y = np.zeros(51)\n",
      "y[32] = 1\n",
      "corr = np.correlate(x, y)\n",
      "print corr\n",
      "print np.argmax(corr)\n",
      "corr2 = np.correlate(y, x)\n",
      "print np.argmax(corr2)"
     ],
     "language": "python",
     "metadata": {},
     "outputs": [
      {
       "output_type": "stream",
       "stream": "stdout",
       "text": [
        "[ 0.  0.  0.  0.  0.  0.  0.  0.  1.  0.  0.  0.  0.  0.  0.  0.  0.  0.\n",
        "  0.  0.  0.  0.  0.  0.  0.  0.  0.  0.  0.  0.  0.]\n",
        "8\n",
        "22\n"
       ]
      }
     ],
     "prompt_number": 94
    },
    {
     "cell_type": "code",
     "collapsed": false,
     "input": [
      "#Trying to figure out a \n",
      "x = np.zeros(51)\n",
      "x[10] = 1\n",
      "y = np.zeros(21)\n",
      "y[20] = 1\n",
      "corr = np.correlate(x, y, mode = 'full')\n",
      "print corr\n",
      "print np.argmax(corr)\n",
      "corr2 = np.correlate(y, x, mode = 'full')\n",
      "print corr2\n",
      "print np.argmax(corr2)"
     ],
     "language": "python",
     "metadata": {},
     "outputs": [
      {
       "output_type": "stream",
       "stream": "stdout",
       "text": [
        "[ 0.  0.  0.  0.  0.  0.  0.  0.  0.  0.  1.  0.  0.  0.  0.  0.  0.  0.\n",
        "  0.  0.  0.  0.  0.  0.  0.  0.  0.  0.  0.  0.  0.  0.  0.  0.  0.  0.\n",
        "  0.  0.  0.  0.  0.  0.  0.  0.  0.  0.  0.  0.  0.  0.  0.  0.  0.  0.\n",
        "  0.  0.  0.  0.  0.  0.  0.  0.  0.  0.  0.  0.  0.  0.  0.  0.  0.]\n",
        "10\n",
        "[ 0.  0.  0.  0.  0.  0.  0.  0.  0.  0.  0.  0.  0.  0.  0.  0.  0.  0.\n",
        "  0.  0.  0.  0.  0.  0.  0.  0.  0.  0.  0.  0.  0.  0.  0.  0.  0.  0.\n",
        "  0.  0.  0.  0.  0.  0.  0.  0.  0.  0.  0.  0.  0.  0.  0.  0.  0.  0.\n",
        "  0.  0.  0.  0.  0.  0.  1.  0.  0.  0.  0.  0.  0.  0.  0.  0.  0.]\n",
        "60\n"
       ]
      }
     ],
     "prompt_number": 104
    },
    {
     "cell_type": "code",
     "collapsed": false,
     "input": [
      "#Trying to figure out a \n",
      "x = np.zeros(51)\n",
      "x[10] = 1\n",
      "y = np.zeros(21)\n",
      "y[8] = 1\n",
      "corr = np.correlate(x, y)\n",
      "print corr\n",
      "print np.argmax(corr)\n",
      "corr2 = np.correlate(y, x)\n",
      "print corr2\n",
      "print np.argmax(corr2)"
     ],
     "language": "python",
     "metadata": {},
     "outputs": [
      {
       "output_type": "stream",
       "stream": "stdout",
       "text": [
        "[ 0.  0.  1.  0.  0.  0.  0.  0.  0.  0.  0.  0.  0.  0.  0.  0.  0.  0.\n",
        "  0.  0.  0.  0.  0.  0.  0.  0.  0.  0.  0.  0.  0.]\n",
        "2\n",
        "[ 0.  0.  0.  0.  0.  0.  0.  0.  0.  0.  0.  0.  0.  0.  0.  0.  0.  0.\n",
        "  0.  0.  0.  0.  0.  0.  0.  0.  0.  0.  1.  0.  0.]\n",
        "28\n"
       ]
      }
     ],
     "prompt_number": 105
    },
    {
     "cell_type": "markdown",
     "metadata": {},
     "source": [
      "Correlate appears to be sensitivity to where the features occur in the smaller array"
     ]
    },
    {
     "cell_type": "markdown",
     "metadata": {},
     "source": [
      "#Check alignment of the FUV dither\n",
      "\n",
      "8/29/2014\n",
      "\n",
      "I think it goes position 1, 2, 3, 4, 1, 2, 3, 4, 1, 2, 3, 4"
     ]
    },
    {
     "cell_type": "code",
     "collapsed": false,
     "input": [
      "import glob\n",
      "flist = glob.glob('2010jl_data/*flt.fits')"
     ],
     "language": "python",
     "metadata": {},
     "outputs": [],
     "prompt_number": 1
    },
    {
     "cell_type": "code",
     "collapsed": false,
     "input": [
      "for ifile in flist: print ifile"
     ],
     "language": "python",
     "metadata": {},
     "outputs": [
      {
       "output_type": "stream",
       "stream": "stdout",
       "text": [
        "2010jl_data/ocdd03010_flt.fits\n",
        "2010jl_data/ocdd03020_flt.fits\n",
        "2010jl_data/ocdd03030_flt.fits\n",
        "2010jl_data/ocdd03040_flt.fits\n",
        "2010jl_data/ocdd03050_flt.fits\n",
        "2010jl_data/ocdd03060_flt.fits\n",
        "2010jl_data/ocdd03070_flt.fits\n",
        "2010jl_data/ocdd03080_flt.fits\n",
        "2010jl_data/ocdd03090_flt.fits\n",
        "2010jl_data/ocdd030a0_flt.fits\n",
        "2010jl_data/ocdd030b0_flt.fits\n",
        "2010jl_data/ocdd030c0_flt.fits\n",
        "2010jl_data/ocdd030d0_flt.fits\n",
        "2010jl_data/ocdd030e0_flt.fits\n",
        "2010jl_data/ocdd030f0_flt.fits\n",
        "2010jl_data/ocdd030g0_flt.fits\n",
        "2010jl_data/ocdd030h0_flt.fits\n",
        "2010jl_data/ocdd030i0_flt.fits\n",
        "2010jl_data/ocdd030j0_flt.fits\n",
        "2010jl_data/ocdd030k0_flt.fits\n"
       ]
      }
     ],
     "prompt_number": 3
    },
    {
     "cell_type": "markdown",
     "metadata": {},
     "source": [
      "###Dither position 1 @ y = 340"
     ]
    },
    {
     "cell_type": "code",
     "collapsed": false,
     "input": [
      "%pylab inline\n",
      "from matplotlib import pyplot\n",
      "import numpy as np\n",
      "import os\n",
      "fig = pyplot.figure(figsize = [10, 5])\n",
      "ax1 = fig.add_subplot(1,2,1)\n",
      "ax2 = fig.add_subplot(1,2,2)\n",
      "ax1.set_title('Cross Dispersion Profile for Dither position #1 2010JL')\n",
      "ax2.set_title('Zoom on SN position')\n",
      "\n",
      "for ifile in flist[::4]:\n",
      "    if fits.getval(ifile, 'opt_elem', 0) == 'G140L':\n",
      "        img = fits.getdata(ifile, 1)\n",
      "        ax1.plot(np.sum(img, axis = 1)/np.median(np.sum(img, axis = 1)), np.arange(1024), label = os.path.basename(ifile)[0:9])\n",
      "        ax1.axhline(340, color = 'k', ls = '--')\n",
      "        ax1.set_ylim(300,800)\n",
      "        ax1.set_xlim(0.5, 5.5)\n",
      "        ax1.legend(loc = 'best')\n",
      "        #Zoom in\n",
      "        ax2.plot(np.sum(img, axis = 1)/np.median(np.sum(img, axis = 1)), np.arange(1024))\n",
      "        ax2.axhline(340, color = 'k', ls = '--')\n",
      "        ax2.set_ylim(300,400)\n",
      "        ax2.set_xlim(0.5, 5.5)"
     ],
     "language": "python",
     "metadata": {},
     "outputs": [
      {
       "output_type": "stream",
       "stream": "stdout",
       "text": [
        "Populating the interactive namespace from numpy and matplotlib\n"
       ]
      },
      {
       "metadata": {},
       "output_type": "display_data",
       "png": "[encoded data removed]",
       "text": [
        "<matplotlib.figure.Figure at 0x10e5f0190>"
       ]
      }
     ],
     "prompt_number": 60
    },
    {
     "cell_type": "markdown",
     "metadata": {},
     "source": [
      "### Dither Position 2 @ y = 340 + 40.65"
     ]
    },
    {
     "cell_type": "code",
     "collapsed": false,
     "input": [
      "fig = pyplot.figure(figsize = [10, 5])\n",
      "ax1 = fig.add_subplot(1,2,1)\n",
      "ax2 = fig.add_subplot(1,2,2)\n",
      "ax1.set_title('Cross Dispersion Profile for Dither position #2 2010JL')\n",
      "ax2.set_title('Zoom on SN location')\n",
      "\n",
      "for ifile in flist[1::4]:\n",
      "    if fits.getval(ifile, 'opt_elem', 0) == 'G140L':\n",
      "        img = fits.getdata(ifile, 1)\n",
      "        ax1.plot(np.sum(img, axis = 1)/np.median(np.sum(img, axis = 1)), np.arange(1024), label = os.path.basename(ifile)[0:9])\n",
      "        ax1.axhline(340 + 40.65, color = 'k', ls = '--')\n",
      "        ax1.set_ylim(300,800)\n",
      "        ax1.set_xlim(0.5, 6)\n",
      "        ax1.legend(loc = 'best')\n",
      "        #Zoom in\n",
      "        ax2.plot(np.sum(img, axis = 1)/np.median(np.sum(img, axis = 1)), np.arange(1024))\n",
      "        ax2.axhline(340 + 40.65, color = 'k', ls = '--')\n",
      "        ax2.set_ylim(340.65,440.65)\n",
      "        ax2.set_xlim(0.5, 6)\n"
     ],
     "language": "python",
     "metadata": {},
     "outputs": [
      {
       "metadata": {},
       "output_type": "display_data",
       "png": "[encoded data removed]",
       "text": [
        "<matplotlib.figure.Figure at 0x1100be210>"
       ]
      }
     ],
     "prompt_number": 58
    },
    {
     "cell_type": "markdown",
     "metadata": {},
     "source": [
      "###Dither Position #3 # y = 340 + 2*40.65"
     ]
    },
    {
     "cell_type": "code",
     "collapsed": false,
     "input": [
      "fig = pyplot.figure(figsize = [10, 5])\n",
      "ax1 = fig.add_subplot(1,2,1)\n",
      "ax2 = fig.add_subplot(1,2,2)\n",
      "ax1.set_title('Cross Dispersion Profile for Dither position #3 2010JL')\n",
      "ax2.set_title('Zoom on SN Location')\n",
      "\n",
      "for ifile in flist[2::4]:\n",
      "    if fits.getval(ifile, 'opt_elem', 0) == 'G140L':\n",
      "        img = fits.getdata(ifile, 1)\n",
      "        ax1.plot(np.sum(img, axis = 1)/np.median(np.sum(img, axis = 1)), np.arange(1024), label = os.path.basename(ifile)[0:9])\n",
      "        ax1.axhline(340 + 2*40.65, color = 'k', ls = '--')\n",
      "        ax1.set_ylim(300,800)\n",
      "        ax1.set_xlim(0.5, 4.0)\n",
      "        ax1.legend(loc = 'best')\n",
      "        #Zoom in\n",
      "        ax2.plot(np.sum(img, axis = 1)/np.median(np.sum(img, axis = 1)), np.arange(1024))\n",
      "        ax2.axhline(340 + 2*40.65, color = 'k', ls = '--')\n",
      "        ax2.set_ylim(381.3,481.3)\n",
      "        ax2.set_xlim(0.5, 4.0)"
     ],
     "language": "python",
     "metadata": {},
     "outputs": [
      {
       "metadata": {},
       "output_type": "display_data",
       "png": "[encoded data removed]",
       "text": [
        "<matplotlib.figure.Figure at 0x108e55550>"
       ]
      }
     ],
     "prompt_number": 59
    },
    {
     "cell_type": "markdown",
     "metadata": {},
     "source": [
      "### Dither Position #4 @ y = 340 + 3*40.65"
     ]
    },
    {
     "cell_type": "code",
     "collapsed": false,
     "input": [
      "fig = pyplot.figure(figsize = [10, 5])\n",
      "ax1 = fig.add_subplot(1,2,1)\n",
      "ax2 = fig.add_subplot(1,2,2)\n",
      "ax1.set_title('Cross Dispersion Profile for Dither position #4 2010JL')\n",
      "ax2.set_title('Zoom on SN Location')\n",
      "\n",
      "for ifile in flist[3::4]:\n",
      "    if fits.getval(ifile, 'opt_elem', 0) == 'G140L':\n",
      "        img = fits.getdata(ifile, 1)\n",
      "        ax1.plot(np.sum(img, axis = 1)/np.median(np.sum(img, axis = 1)), np.arange(1024), label = os.path.basename(ifile)[0:9])\n",
      "        ax1.axhline(340 + 3*40.65, color = 'k', ls = '--')\n",
      "        ax1.set_ylim(300,800)\n",
      "        ax1.set_xlim(0.5, 2)\n",
      "        ax1.legend(loc = 'best')\n",
      "        #Zoom in\n",
      "        ax2.plot(np.sum(img, axis = 1)/np.median(np.sum(img, axis = 1)), np.arange(1024))\n",
      "        ax2.axhline(340 + 3*40.65, color = 'k', ls = '--')\n",
      "        ax2.set_ylim(300+3*40.65,400+3*40.65)\n",
      "        ax2.set_xlim(0.5, 2)"
     ],
     "language": "python",
     "metadata": {},
     "outputs": [
      {
       "metadata": {},
       "output_type": "display_data",
       "png": "[encoded data removed]",
       "text": [
        "<matplotlib.figure.Figure at 0x10fa783d0>"
       ]
      }
     ],
     "prompt_number": 55
    },
    {
     "cell_type": "code",
     "collapsed": false,
     "input": [
      "pyplot.close()"
     ],
     "language": "python",
     "metadata": {},
     "outputs": [],
     "prompt_number": 21
    },
    {
     "cell_type": "markdown",
     "metadata": {},
     "source": [
      "#Check NUV Location"
     ]
    },
    {
     "cell_type": "code",
     "collapsed": false,
     "input": [
      "fig = pyplot.figure(figsize = [5, 10])\n",
      "ax1 = fig.add_subplot(1,1,1)\n",
      "ax1.set_title('Cross Dispersion Profile for Dither position #4 2010JL')\n",
      "ax2.set_title('Zoom on SN Location')\n",
      "\n",
      "for ifile in flist[::4]:\n",
      "    if fits.getval(ifile, 'opt_elem', 0) == 'G230L':\n",
      "        img = fits.getdata(ifile, 1)\n",
      "        ax1.plot(np.sum(img[:,300:724], axis = 1), np.arange(1024), label = os.path.basename(ifile)[0:9])\n",
      "        ax1.set_ylim(300,800)\n",
      "        ax1.legend(loc = 'best')\n",
      "        #Zoom in\n"
     ],
     "language": "python",
     "metadata": {},
     "outputs": [
      {
       "metadata": {},
       "output_type": "display_data",
       "png": "[encoded data removed]",
       "text": [
        "<matplotlib.figure.Figure at 0x11eb498d0>"
       ]
      }
     ],
     "prompt_number": 94
    },
    {
     "cell_type": "code",
     "collapsed": false,
     "input": [
      "print ifile\n",
      "print np.mean(img), np.median(img), np.max(img)"
     ],
     "language": "python",
     "metadata": {},
     "outputs": [
      {
       "output_type": "stream",
       "stream": "stdout",
       "text": [
        "2010jl_data/ocdd030h0_flt.fits\n",
        "-0.125337 -0.390576 9.08237\n"
       ]
      }
     ],
     "prompt_number": 72
    },
    {
     "cell_type": "markdown",
     "metadata": {},
     "source": [
      "#Cross Correlate NUV and FUV XD profile and overplot to check location of SN"
     ]
    },
    {
     "cell_type": "code",
     "collapsed": false,
     "input": [
      "fuv_img = fits.getdata('2010jl_otfr/ocdd03010_flt.fits', 1) #First FUV\n",
      "nuv_img = fits.getdata('2010jl_otfr/ocdd030d0_flt.fits', 1) #First NUV\n",
      "\n",
      "xd_profile_fuv = np.sum(fuv_img, axis = 1)\n",
      "xd_profile_nuv = np.sum(nuv_img, axis = 1)\n",
      "\n",
      "correlation_array = np.correlate(xd_profile_nuv[300:800], xd_profile_fuv)\n",
      "offset = np.argmax(correlation_array)\n",
      "\n",
      "pyplot.figure(figsize = [5, 10])\n",
      "pyplot.plot(xd_profile_nuv, np.arange(1024))\n",
      "pyplot.plot(xd_profile_fuv, np.arange(1024)+246, 'r')\n",
      "pyplot.ylim(300,800)"
     ],
     "language": "python",
     "metadata": {},
     "outputs": [
      {
       "metadata": {},
       "output_type": "pyout",
       "prompt_number": 119,
       "text": [
        "(300, 800)"
       ]
      },
      {
       "metadata": {},
       "output_type": "display_data",
       "png": "[encoded data removed]",
       "text": [
        "<matplotlib.figure.Figure at 0x1233f7d10>"
       ]
      }
     ],
     "prompt_number": 119
    },
    {
     "cell_type": "code",
     "collapsed": false,
     "input": [
      "pyplot.plot(correlation_array)"
     ],
     "language": "python",
     "metadata": {},
     "outputs": [
      {
       "metadata": {},
       "output_type": "pyout",
       "prompt_number": 115,
       "text": [
        "[<matplotlib.lines.Line2D at 0x1233bd150>]"
       ]
      },
      {
       "metadata": {},
       "output_type": "display_data",
       "png": "[encoded data removed]",
       "text": [
        "<matplotlib.figure.Figure at 0x121063c50>"
       ]
      }
     ],
     "prompt_number": 115
    },
    {
     "cell_type": "markdown",
     "metadata": {},
     "source": [
      "###I can't get this to work, not sure why, maybe they look too different"
     ]
    },
    {
     "cell_type": "markdown",
     "metadata": {},
     "source": [
      "##Looking directly at the files to get NUV/FUV offset\n",
      "\n",
      "The Plate scales are almost the same\n",
      "\n",
      "FUV A2CENTER = 342.43\n",
      "\n",
      "NUV A2CENTER = 588.40\n",
      "\n",
      "FUV SHIFTA2 = 13.1 to 13.23"
     ]
    },
    {
     "cell_type": "code",
     "collapsed": false,
     "input": [
      "fuv_spec = fits.getdata('2010jl_otfr/ocdd03010_x1d.fits', 1) #First FUV\n",
      "nuv_spec = fits.getdata('2010jl_otfr/ocdd030d0_x1d.fits', 1) #First NUV\n",
      "\n",
      "print fuv_spec['A2Center']\n",
      "print nuv_spec['A2Center']\n",
      "\n",
      "pyplot.figure(figsize = [5, 10])\n",
      "pyplot.suptitle('Comparison of the XD profiles of the NUV and FUV (shift = 232.8)')\n",
      "pyplot.xlabel('XD profile')\n",
      "pyplot.ylabel('Y Pixel (NUV)')\n",
      "pyplot.plot(xd_profile_nuv, np.arange(1024), label = 'NUV/ocdd030d0')\n",
      "pyplot.legend(loc = 4)\n",
      "#pyplot.ylim(400, 1000)\n",
      "pyplot.twiny()\n",
      "#This offset corresponds to the difference in A2CENTER between the files - the shifta2 from the FUV (NUV has no shift)\n",
      "fuv_shift = nuv_spec['A2Center'] - fuv_spec['A2Center'] - 13.15\n",
      "pyplot.plot(xd_profile_fuv, np.arange(1024)+fuv_shift, 'r', label = 'FUV shifted/ocdd03010')\n",
      "#pyplot.ylim(400, 1000)\n",
      "pyplot.xlim(-150, 350)\n",
      "\n",
      "print fuv_shift\n",
      "pyplot.legend(loc = 1)\n",
      "pyplot.savefig('2010jl_nuv_fuv_xd_profile_compare.pdf')"
     ],
     "language": "python",
     "metadata": {},
     "outputs": [
      {
       "output_type": "stream",
       "stream": "stdout",
       "text": [
        "[ 342.43399048]\n",
        "[ 588.40783691]\n",
        "[ 232.82385254]"
       ]
      },
      {
       "output_type": "stream",
       "stream": "stdout",
       "text": [
        "\n"
       ]
      },
      {
       "metadata": {},
       "output_type": "display_data",
       "png": "[encoded data removed]",
       "text": [
        "<matplotlib.figure.Figure at 0x12f147e50>"
       ]
      }
     ],
     "prompt_number": 190
    },
    {
     "cell_type": "markdown",
     "metadata": {},
     "source": [
      "###Conclusion\n",
      "\n",
      "I belive the SN is the brightest source in the NUV even though the top XD source in the FUV triple is not observed in the NUV. but wait, what about manually aligning the profiles?"
     ]
    },
    {
     "cell_type": "markdown",
     "metadata": {},
     "source": [
      "###Try lining up the 3 humps:"
     ]
    },
    {
     "cell_type": "code",
     "collapsed": false,
     "input": [
      "fuv_spec = fits.getdata('2010jl_otfr/ocdd03010_x1d.fits', 1) #First FUV\n",
      "nuv_spec = fits.getdata('2010jl_otfr/ocdd030d0_x1d.fits', 1) #First NUV\n",
      "\n",
      "print fuv_spec['A2Center']\n",
      "print nuv_spec['A2Center']\n",
      "\n",
      "fig = pyplot.figure(figsize = [10, 10])\n",
      "ax1 = fig.add_subplot(1,2,1)\n",
      "ax2 = fig.add_subplot(1, 2, 2)\n",
      "fig.suptitle('Comparison of the XD profiles of the NUV and FUV (shift = 122.8)')\n",
      "ax1.set_xlabel('XD profile')\n",
      "ax1.set_ylabel('Y Pixel (NUV)')\n",
      "ax1.plot(xd_profile_nuv, np.arange(1024), label = 'NUV/ocdd030d0')\n",
      "ax1.legend(loc = 4)\n",
      "#pyplot.ylim(400, 1000)\n",
      "ax3 = ax1.twiny()\n",
      "fuv_shift = nuv_spec['A2Center'] - fuv_spec['A2Center'] - 13.15 - 112\n",
      "ax3.plot(xd_profile_fuv, np.arange(1024)+fuv_shift, 'r', label = 'FUV shifted/ocdd03010')\n",
      "#pyplot.ylim(400, 1000)\n",
      "ax3.set_xlim(-150, 350)\n",
      "print fuv_shift\n",
      "ax3.legend(loc = 1)\n",
      "\n",
      "\n",
      "ax2.set_xlabel('XD profile')\n",
      "ax2.set_ylabel('Y Pixel (NUV)')\n",
      "ax2.plot(xd_profile_nuv, np.arange(1024), label = 'NUV/ocdd030d0')\n",
      "ax2.set_ylim(350, 800)\n",
      "ax2.grid()\n",
      "ax4 = ax2.twiny()\n",
      "fuv_shift = nuv_spec['A2Center'] - fuv_spec['A2Center'] - 13.15 - 112\n",
      "ax4.plot(xd_profile_fuv, np.arange(1024)+fuv_shift, 'r', label = 'FUV shifted/ocdd03010')\n",
      "ax4.set_ylim(350, 800)\n",
      "ax4.set_xlim(-150, 300)\n",
      "pyplot.savefig('2010jl_nuv_fuv_xd_profile_compare_man_shift.pdf')"
     ],
     "language": "python",
     "metadata": {},
     "outputs": [
      {
       "output_type": "stream",
       "stream": "stdout",
       "text": [
        "[ 342.43399048]\n",
        "[ 588.40783691]\n",
        "[ 120.82385254]"
       ]
      },
      {
       "output_type": "stream",
       "stream": "stdout",
       "text": [
        "\n"
       ]
      },
      {
       "metadata": {},
       "output_type": "display_data",
       "png": "[encoded data removed]",
       "text": [
        "<matplotlib.figure.Figure at 0x1342d7350>"
       ]
      }
     ],
     "prompt_number": 202
    },
    {
     "cell_type": "markdown",
     "metadata": {},
     "source": [
      "###Conclusion\n",
      "\n",
      "It seems that the manual alignment is better, not only are the 3 FUV sources located in the NUV, a 4th source around y = 200 also lines up. I will go with this one for now."
     ]
    },
    {
     "cell_type": "markdown",
     "metadata": {},
     "source": [
      "#Try to manually derive FUV and NUV separation"
     ]
    },
    {
     "cell_type": "code",
     "collapsed": false,
     "input": [
      "tbdata_nuv = fits.getdata('oref/q8l14502o_1dt.fits', 1)\n",
      "tbdata_fuv = fits.getdata('oref/q8l14504o_1dt.fits', 1)\n",
      "indx_nuv = np.where((tbdata_nuv['cenwave'] == 2376) & (tbdata_nuv['opt_elem'] == 'G230L') & (tbdata_nuv['sporder'] == 1))\n",
      "indx_fuv = np.where((tbdata_fuv['cenwave'] == 1425) & (tbdata_fuv['opt_elem'] == 'G140L') & (tbdata_fuv['sporder'] == 1))\n",
      "#print tbdata_nuv['A2center'][indx_nuv]\n",
      "#print tbdata_fuv['A2center'][indx_fuv]\n",
      "#print tbdata_nuv['A2displ'][indx_nuv]\n",
      "#print tbdata_fuv['A2displ'][indx_fuv]\n",
      "print tbdata_nuv.names\n",
      "print tbdata_fuv['A2CENTER'][indx_fuv] - tbdata_nuv['A2CENTER'][indx_nuv][:20]\n",
      "#print tbdata_fuv[indx_fuv]"
     ],
     "language": "python",
     "metadata": {},
     "outputs": [
      {
       "output_type": "stream",
       "stream": "stdout",
       "text": [
        "['OPT_ELEM', 'CENWAVE', 'SPORDER', 'NELEM', 'A2DISPL', 'A1CENTER', 'A2CENTER', 'SNR_THRESH', 'MJD', 'DEGPERYR', 'PEDIGREE', 'DESCRIP']\n",
        "[ -65.08895111  -55.9401474   -72.53900146  -53.66950989  -63.9666748\n",
        "  -65.55480957  -52.53469849  -18.8243103   -20.34558105   15.92160034\n",
        "   48.03701782   75.10968018   73.47827148   93.07049561  106.13793945\n",
        "  118.62561035  138.33422852  153.70770264  164.33789062  183.9274292 ]\n"
       ]
      }
     ],
     "prompt_number": 157
    },
    {
     "cell_type": "code",
     "collapsed": false,
     "input": [],
     "language": "python",
     "metadata": {},
     "outputs": []
    },
    {
     "cell_type": "code",
     "collapsed": false,
     "input": [],
     "language": "python",
     "metadata": {},
     "outputs": []
    },
    {
     "cell_type": "markdown",
     "metadata": {},
     "source": [
      "###Check Orientation is the same for all observations"
     ]
    },
    {
     "cell_type": "code",
     "collapsed": false,
     "input": [
      "flist = glob.glob('2010jl_otfr/*flt.fits')\n",
      "for ifile in flist:\n",
      "    print fits.getval(ifile, 'ORIENTAT', 1)"
     ],
     "language": "python",
     "metadata": {},
     "outputs": [
      {
       "output_type": "stream",
       "stream": "stdout",
       "text": [
        "36.6144\n",
        "36.6144"
       ]
      },
      {
       "output_type": "stream",
       "stream": "stdout",
       "text": [
        "\n",
        "36.6144"
       ]
      },
      {
       "output_type": "stream",
       "stream": "stdout",
       "text": [
        "\n",
        "36.6143\n",
        "36.6144"
       ]
      },
      {
       "output_type": "stream",
       "stream": "stdout",
       "text": [
        "\n",
        "36.6144"
       ]
      },
      {
       "output_type": "stream",
       "stream": "stdout",
       "text": [
        "\n",
        "36.6144"
       ]
      },
      {
       "output_type": "stream",
       "stream": "stdout",
       "text": [
        "\n",
        "36.6143"
       ]
      },
      {
       "output_type": "stream",
       "stream": "stdout",
       "text": [
        "\n",
        "36.6144"
       ]
      },
      {
       "output_type": "stream",
       "stream": "stdout",
       "text": [
        "\n",
        "36.6144"
       ]
      },
      {
       "output_type": "stream",
       "stream": "stdout",
       "text": [
        "\n",
        "36.6144"
       ]
      },
      {
       "output_type": "stream",
       "stream": "stdout",
       "text": [
        "\n",
        "36.6143\n",
        "36.6144"
       ]
      },
      {
       "output_type": "stream",
       "stream": "stdout",
       "text": [
        "\n",
        "36.6144"
       ]
      },
      {
       "output_type": "stream",
       "stream": "stdout",
       "text": [
        "\n",
        "36.6144"
       ]
      },
      {
       "output_type": "stream",
       "stream": "stdout",
       "text": [
        "\n",
        "36.6143"
       ]
      },
      {
       "output_type": "stream",
       "stream": "stdout",
       "text": [
        "\n",
        "36.6144\n",
        "36.6144"
       ]
      },
      {
       "output_type": "stream",
       "stream": "stdout",
       "text": [
        "\n",
        "36.6144"
       ]
      },
      {
       "output_type": "stream",
       "stream": "stdout",
       "text": [
        "\n",
        "36.6143"
       ]
      },
      {
       "output_type": "stream",
       "stream": "stdout",
       "text": [
        "\n"
       ]
      }
     ],
     "prompt_number": 111
    },
    {
     "cell_type": "code",
     "collapsed": false,
     "input": [
      "\n",
      "fits.getheader(ifile.replace('flt', 'x1d'), 0)"
     ],
     "language": "python",
     "metadata": {},
     "outputs": [
      {
       "metadata": {},
       "output_type": "pyout",
       "prompt_number": 161,
       "text": [
        "SIMPLE  =                    T / file does conform to FITS standard             \n",
        "BITPIX  =                   16                                                  \n",
        "NAXIS   =                    0                                                  \n",
        "EXTEND  =                    T / FITS file may contain extensions               \n",
        "COMMENT   FITS (Flexible Image Transport System) format is defined in 'Astronomy\n",
        "COMMENT   and Astrophysics', volume 376, page 359; bibcode: 2001A&A...376..359H \n",
        "ORIGIN  = 'HSTIO/CFITSIO March 2010'                                            \n",
        "DATE    = '2014-04-04' / date this file was written (yyyy-mm-dd)                \n",
        "NEXTEND =                    1 / Number of extensions                           \n",
        "FILENAME= 'ocdd030k0_x1d.fits' / name of file                                   \n",
        "FILETYPE= 'SCI      '          / type of data found in data file                \n",
        "                                                                                \n",
        "TELESCOP= 'HST'                / telescope used to acquire data                 \n",
        "INSTRUME= 'STIS  '             / identifier for instrument used to acquire data \n",
        "EQUINOX =               2000.0 / equinox of celestial coord. system             \n",
        "                                                                                \n",
        "              / DATA DESCRIPTION KEYWORDS                                       \n",
        "                                                                                \n",
        "ROOTNAME= 'ocdd030k0                         ' / rootname of the observation set\n",
        "PRIMESI = 'STIS  '             / instrument designated as prime                 \n",
        "                                                                                \n",
        "              / TARGET INFORMATION                                              \n",
        "                                                                                \n",
        "TARGNAME= 'SN-2010JL                     ' / proposer's target name             \n",
        "RA_TARG =   1.457222170833E+02 / right ascension of the target (deg) (J2000)    \n",
        "DEC_TARG=   9.495048333333E+00 / declination of the target (deg) (J2000)        \n",
        "                                                                                \n",
        "              / PROPOSAL INFORMATION                                            \n",
        "                                                                                \n",
        "PROPOSID=                13287 / PEP proposal identifier                        \n",
        "LINENUM = '03.006         '    / proposal logsheet line number                  \n",
        "PR_INV_L= 'Fox                           ' / last name of principal investigator\n",
        "PR_INV_F= 'Ori                 ' / first name of principal investigator         \n",
        "PR_INV_M= 'Dosovitz            ' / middle name / initial of principal investigat\n",
        "                                                                                \n",
        "              / SUMMARY EXPOSURE INFORMATION                                    \n",
        "                                                                                \n",
        "TDATEOBS= '2014-03-11'         / UT date of start of first exposure in file     \n",
        "TTIMEOBS= '20:50:28'           / UT start time of first exposure in file        \n",
        "TEXPSTRT=   5.672786838092E+04 / start time (MJD) of 1st exposure in file       \n",
        "TEXPEND =       56727.87860082 / end time (MJD) of last exposure in the file    \n",
        "TEXPTIME=                 883. / total exposure time (seconds)                  \n",
        "QUALCOM1= '                                                                    '\n",
        "QUALCOM2= '                                                                    '\n",
        "QUALCOM3= '                                                                    '\n",
        "QUALITY = '                                                                    '\n",
        "                                                                                \n",
        "              / TARGET OFFSETS (POSTARGS)                                       \n",
        "                                                                                \n",
        "POSTARG1=             0.000000 / POSTARG in axis 1 direction                    \n",
        "POSTARG2=             1.500000 / POSTARG in axis 2 direction                    \n",
        "                                                                                \n",
        "              / DIAGNOSTIC KEYWORDS                                             \n",
        "                                                                                \n",
        "OVERFLOW=                    0 / Number of science data overflows               \n",
        "OPUS_VER= 'OPUS 2014_1a      ' / OPUS software system version number            \n",
        "CAL_VER = '3.3 (03-October-2013)' / CALSTIS code version                        \n",
        "PROCTIME=   5.675177199074E+04 / Pipeline processing time (MJD)                 \n",
        "                                                                                \n",
        "              / SCIENCE INSTRUMENT CONFIGURATION                                \n",
        "                                                                                \n",
        "CFSTATUS= 'SUPPORTED  '        / configuration status (support., avail., eng.)  \n",
        "OBSTYPE = 'SPECTROSCOPIC '     / observation type - imaging or spectroscopic    \n",
        "OBSMODE = 'ACCUM     '         / operating mode                                 \n",
        "PHOTMODE= 'STIS 52X0.5 G230L NUVMAMA 2376 MJD#56727.8684' / observation con     \n",
        "SCLAMP  = 'NONE          '     / lamp status, NONE or name of lamp which is on  \n",
        "LAMPSET = '0.0   '             / spectral cal lamp current value (milliamps)    \n",
        "NRPTEXP =                    1 / number of repeat exposures in set: default 1   \n",
        "SUBARRAY=                    F / data from a subarray (T) or full frame (F)     \n",
        "DETECTOR= 'NUV-MAMA  '         / detector in use: NUV-MAMA, FUV-MAMA, or CCD    \n",
        "OPT_ELEM= 'G230L   '           / optical element in use                         \n",
        "APERTURE= '52X0.5          '   / aperture name                                  \n",
        "PROPAPER= '52X0.5          '   / proposed aperture name                         \n",
        "FILTER  = 'Clear             ' / filter in use                                  \n",
        "APER_FOV= '52x0.5          '   / aperture field of view                         \n",
        "CENWAVE =                 2376 / central wavelength of spectrum                 \n",
        "REPELLER= 'ON '                / repeller voltage: applies only to fuv-mama     \n",
        "                                                                                \n",
        "              / MAMA OFFSETS                                                    \n",
        "                                                                                \n",
        "MOFFSET1=                    2 / axis 1 MAMA offset (low-res pixels)            \n",
        "MOFFSET2=                    7 / axis 2 MAMA offset (low-res pixels)            \n",
        "                                                                                \n",
        "              / LOCAL RATE CHECK IMAGE                                          \n",
        "                                                                                \n",
        "LRC_XSTS=                    F / Local Rate check image exists (T/F)            \n",
        "LRC_FAIL=                    F / Local Rate Check Failed (T/F)                  \n",
        "                                                                                \n",
        "              / READOUT DEFINITION PARAMETERS                                   \n",
        "                                                                                \n",
        "CENTERA1=                  513 / subarray axis1 center pt in unbinned dect. pix \n",
        "CENTERA2=                  513 / subarray axis2 center pt in unbinned dect. pix \n",
        "SIZAXIS1=                 1024 / subarray axis1 size in unbinned detector pixels\n",
        "SIZAXIS2=                 1024 / subarray axis2 size in unbinned detector pixels\n",
        "BINAXIS1=                    1 / axis1 data bin size in unbinned detector pixels\n",
        "BINAXIS2=                    1 / axis2 data bin size in unbinned detector pixels\n",
        "                                                                                \n",
        "              / CALIBRATION SWITCHES: PERFORM, OMIT, COMPLETE                   \n",
        "                                                                                \n",
        "DQICORR = 'COMPLETE'           / data quality initialization                    \n",
        "RPTCORR = 'OMIT    '           / add individual repeat observations             \n",
        "DOPPCORR= 'OMIT    '           / convolve ref. files with orbital Doppler shift \n",
        "LORSCORR= 'COMPLETE'           / Convert MAMA data to Lo-Res before processing  \n",
        "GLINCORR= 'COMPLETE'           / correct for global detector non-linearities    \n",
        "LFLGCORR= 'COMPLETE'           / flag pixels for local and global nonlinearities\n",
        "DARKCORR= 'COMPLETE'           / Subtract dark image                            \n",
        "FLATCORR= 'COMPLETE'           / flat field data                                \n",
        "STATFLAG=                    T / Calculate statistics?                          \n",
        "WAVECORR= 'COMPLETE'           / use wavecal to adjust wavelength zeropoint     \n",
        "X1DCORR = 'COMPLETE'           / Perform 1-D spectral extraction                \n",
        "BACKCORR= 'COMPLETE'           / subtract background (sky and interorder)       \n",
        "SGEOCORR= 'OMIT    '           / correct for small scale geometric distortions  \n",
        "HELCORR = 'COMPLETE'           / convert to heliocenttric wavelengths           \n",
        "DISPCORR= 'COMPLETE'           / apply 2-dimensional dispersion solutions       \n",
        "FLUXCORR= 'COMPLETE'           / convert to absolute flux units                 \n",
        "X2DCORR = 'PERFORM '           / rectify 2-D spectral image                     \n",
        "SC2DCORR= 'OMIT    '           / 2-D scattered light correction algorithm       \n",
        "                                                                                \n",
        "              / CALIBRATION REFERENCE FILES                                     \n",
        "                                                                                \n",
        "BPIXTAB = 'oref$v2s21472o_bpx.fits' / bad pixel table                           \n",
        "DARKFILE= 'oref$tcl1742bo_drk.fits' / dark image file name                      \n",
        "PFLTFILE= 'oref$mbj1658do_pfl.fits' / pixel to pixel flat field file name       \n",
        "DFLTFILE= 'N/A     '           / delta flat field file name                     \n",
        "LFLTFILE= 'oref$h5s1140ko_lfl.fits' / low order flat                            \n",
        "PHOTTAB = 'oref$vb816448o_pht.fits' / Photometric throughput table              \n",
        "IMPHTTAB= 'oref$y2i1649no_imp.fits' / Imaging photometric table                 \n",
        "APERTAB = 'oref$n7p1032ao_apt.fits' / relative aperture throughput table        \n",
        "MLINTAB = 'oref$j9r16559o_lin.fits' / MAMA linearity correction table           \n",
        "SDSTFILE= 'N/A     '           / small scale distortion image                   \n",
        "WAVECAL = 'ocdd030k0_wav.fits     ' / wavecal image file name                   \n",
        "APDESTAB= 'oref$obm1723ro_apd.fits' / aperture description table                \n",
        "SPTRCTAB= 'oref$q8l14502o_1dt.fits' / spectrum trace table                      \n",
        "DISPTAB = 'oref$m7p16111o_dsp.fits' / dispersion coefficient table              \n",
        "INANGTAB= 'oref$l3m1437ro_iac.fits' / incidence angle correction table          \n",
        "LAMPTAB = 'oref$l421050oo_lmp.fits' / template calibration lamp spectra table   \n",
        "SDCTAB  = 'oref$obm1723po_sdc.fits' / 2-D spatial distortion correction table   \n",
        "XTRACTAB= 'oref$l3m1437to_1dx.fits' / parameters for 1-D spectral extraction tab\n",
        "PCTAB   = 'oref$q5417413o_pct.fits' / Photometry correction table               \n",
        "MOFFTAB = 'oref$h4s1350ko_moc.fits' / MAMA offsets table                        \n",
        "WCPTAB  = 'oref$lag1815lo_wcp.fits' / wavecal parameters table                  \n",
        "CDSTAB  = 'oref$k8m0958bo_cds.fits' / Cross-Disperser Scattering table          \n",
        "ECHSCTAB= 'oref$k8m0958co_ech.fits' / Echelle Scattering table                  \n",
        "EXSTAB  = 'oref$k8m0958do_exs.fits' / Echelle Cross-Dispersion Scattering table \n",
        "RIPTAB  = 'oref$vb816447o_rip.fits' / Echelle Ripple table                      \n",
        "HALOTAB = 'oref$k8m0958eo_hal.fits' / Detector Halo table                       \n",
        "TELTAB  = 'oref$k8m0958ho_tel.fits' / Telescope Point Spread Function table     \n",
        "SRWTAB  = 'oref$k8m0958go_srw.fits' / Scattering Reference Wavelengths table    \n",
        "TDSTAB  = 'oref$ub920085o_tds.fits' / time-dependent sensitivity algorithm used \n",
        "TDCTAB  = 'oref$xaf1519so_tdc.fits' / Coefficient table for NUV MAMA dark scalin\n",
        "GACTAB  = '                       ' / grating-aperture correction table         \n",
        "                                                                                \n",
        "              / TARGET ACQUISITION DATASET IDENTIFIERS                          \n",
        "                                                                                \n",
        "ACQNAME = 'ocdd03LP% '         / rootname of acquisition exposure               \n",
        "ACQTYPE = '               '    / type of acquisition                            \n",
        "PEAKNAM1= '          '         / rootname of 1st peakup exposure                \n",
        "PEAKNAM2= '          '         / rootname of 2nd peakup exposure                \n",
        "                                                                                \n",
        "              / OTFR KEYWORDS                                                   \n",
        "                                                                                \n",
        "T_SGSTAR= '                  ' / OMS calculated guide star control              \n",
        "                                                                                \n",
        "              / PATTERN KEYWORDS                                                \n",
        "                                                                                \n",
        "PATTERN1= 'STIS-ALONG-SLIT         ' / primary pattern type                     \n",
        "P1_SHAPE= 'LINE              ' / primary pattern shape                          \n",
        "P1_PURPS= 'DITHER    '         / primary pattern purpose                        \n",
        "P1_NPTS =                    4 / number of points in primary pattern            \n",
        "P1_PSPAC=                  1.0 / point spacing for primary pattern (arc-sec)    \n",
        "P1_LSPAC=             0.000000 / line spacing for primary pattern (arc-sec)     \n",
        "P1_ANGLE=             0.000000 / angle between sides of parallelogram patt (deg)\n",
        "P1_FRAME= 'POS-TARG '          / coordinate frame of primary pattern            \n",
        "P1_ORINT=                 90.0 / orientation of pattern to coordinate frame (deg\n",
        "P1_CENTR= 'YES'                / center pattern relative to pointing (yes/no)   \n",
        "                                                                                \n",
        "              / ARCHIVE SEARCH KEYWORDS                                         \n",
        "                                                                                \n",
        "BANDWID =               1616.0 / bandwidth of the data                          \n",
        "SPECRES =                740.0 / approx. resolving power at central wavelength  \n",
        "CENTRWV =               2376.0 / central wavelength of the data                 \n",
        "MINWAVE =               1568.0 / minimum wavelength in spectrum                 \n",
        "MAXWAVE =               3184.0 / maximum wavelength in spectrum                 \n",
        "PLATESC =        2.4799967E-02 / plate scale (arcsec/pixel)                     \n",
        "                                                                                \n",
        "              / PAPER PRODUCT SUPPORT KEYWORDS                                  \n",
        "                                                                                \n",
        "PROPTTL1= 'Late-Time UV Spectroscopic Signatures from Circumstellar Interaction'\n",
        "PROPTTL2= ' in Type IIn Supernovae                                             '\n",
        "OBSET_ID= '03'                 / observation set id                             \n",
        "TARDESCR= 'STAR;SUPERNOVA;SUPERNOVA TYPE II                                    '\n",
        "MTFLAG  = ' '                  / moving target flag; T if it is a moving target \n",
        "PARALLAX=   0.000000000000E+00 / target parallax from proposal                  \n",
        "MU_RA   =   0.000000000000E+00 / target proper motion from proposal (degrees RA)\n",
        "MU_DEC  =   0.000000000000E+00 / target proper motion from proposal (deg. DEC)  \n",
        "MU_EPOCH= 'J2000  '            / epoch of proper motion from proposal           \n",
        "                                                                                \n",
        "              / ASSOCIATION KEYWORDS                                            \n",
        "                                                                                \n",
        "ASN_ID  = 'OCDD030K0 '         / unique identifier assigned to association      \n",
        "ASN_TAB = 'ocdd030k0_asn.fits     ' / name of the association table             \n",
        "                                                                                \n",
        "              / POINTING INFORMATION                                            \n",
        "                                                                                \n",
        "PA_V3   =           261.602509 / position angle of V3-axis of HST (deg)         \n",
        "HISTORY DQICORR complete ...                                                    \n",
        "HISTORY   values checked for saturation                                         \n",
        "HISTORY   DQ array initialized ...                                              \n",
        "HISTORY   reference table oref$v2s21472o_bpx.fits                               \n",
        "HISTORY Uncertainty array initialized.                                          \n",
        "HISTORY LORSCORR complete; image converted from high-res to low-res.            \n",
        "HISTORY GLINCORR complete ...                                                   \n",
        "HISTORY LFLGCORR complete ...                                                   \n",
        "HISTORY   reference table oref$j9r16559o_lin.fits                               \n",
        "HISTORY     GROUND                                                              \n",
        "HISTORY     T. Danks Gathered Info                                              \n",
        "HISTORY DARKCORR complete ...                                                   \n",
        "HISTORY   reference image oref$tcl1742bo_drk.fits                               \n",
        "HISTORY     INFLIGHT 06/01/2009                                                 \n",
        "HISTORY     Avg of 72 post-SM4 dark frames from 11395, 11402 and 11857--------- \n",
        "HISTORY   reference table oref$xaf1519so_tdc.fits                               \n",
        "HISTORY FLATCORR complete ...                                                   \n",
        "HISTORY   reference image oref$mbj1658do_pfl.fits                               \n",
        "HISTORY     INFLIGHT 17/04/1998 17/05/2002                                      \n",
        "HISTORY     On-orbit NUV P-flat created from proposals 7647,8429,8863,8923      \n",
        "HISTORY   reference image oref$h5s1140ko_lfl.fits                               \n",
        "HISTORY     DUMMY                                                               \n",
        "HISTORY     Dummy file created by R. Katsanis                                   \n",
        "HISTORY WAVECORR complete ...                                                   \n",
        "HISTORY   wavecal = ocdd030k0_w2d_tmp.fits                                      \n",
        "HISTORY X1DCORR performed ...                                                   \n",
        "HISTORY   reference table oref$q8l14502o_1dt.fits                               \n",
        "HISTORY   reference table oref$l3m1437to_1dx.fits                               \n",
        "HISTORY BACKCORR performed ...                                                  \n",
        "HISTORY   reference table oref$l3m1437to_1dx.fits                               \n",
        "HISTORY DISPCORR performed ...                                                  \n",
        "HISTORY   reference table oref$m7p16111o_dsp.fits                               \n",
        "HISTORY   reference table oref$l3m1437ro_iac.fits                               \n",
        "HISTORY   reference table oref$obm1723ro_apd.fits                               \n",
        "HISTORY HELCORR performed (no reference file needed)                            \n",
        "HISTORY FLUXCORR performed ...                                                  \n",
        "HISTORY   reference table oref$vb816448o_pht.fits                               \n",
        "HISTORY   reference table oref$q5417413o_pct.fits                               \n",
        "HISTORY   reference table oref$n7p1032ao_apt.fits                               \n",
        "HISTORY   reference table oref$ub920085o_tds.fits                               \n",
        "XTRACALG= 'UNWEIGHTED'         / extraction algorithm                           \n",
        "HISTORY Heliocentric correction = 12.8017 km/s                                  "
       ]
      }
     ],
     "prompt_number": 161
    },
    {
     "cell_type": "code",
     "collapsed": false,
     "input": [
      "print fits.getval(ifile, 'sdqflags', 1)\n",
      "print ifile\n",
      "tbdata = fits.getdata(ifile.replace('flt', 'x1d'), 1)\n",
      "print tbdata.names"
     ],
     "language": "python",
     "metadata": {},
     "outputs": [
      {
       "output_type": "stream",
       "stream": "stdout",
       "text": [
        "31743\n",
        "2010jl_otfr/ocdd030k0_flt.fits\n",
        "['SPORDER', 'NELEM', 'WAVELENGTH', 'GROSS', 'BACKGROUND', 'NET', 'FLUX', 'ERROR', 'NET_ERROR', 'DQ', 'A2CENTER', 'EXTRSIZE', 'MAXSRCH', 'BK1SIZE', 'BK2SIZE', 'BK1OFFST', 'BK2OFFST', 'EXTRLOCY', 'OFFSET']"
       ]
      },
      {
       "output_type": "stream",
       "stream": "stdout",
       "text": [
        "\n"
       ]
      }
     ],
     "prompt_number": 219
    },
    {
     "cell_type": "markdown",
     "metadata": {},
     "source": [
      "###Check shifts for all files"
     ]
    },
    {
     "cell_type": "code",
     "collapsed": false,
     "input": [
      "for ifile in flist:\n",
      "    print fits.getval(ifile, 'shifta2', 1)"
     ],
     "language": "python",
     "metadata": {},
     "outputs": [
      {
       "output_type": "stream",
       "stream": "stdout",
       "text": [
        "13.1013502291\n",
        "13.107913715"
       ]
      },
      {
       "output_type": "stream",
       "stream": "stdout",
       "text": [
        "\n",
        "13.1135436404"
       ]
      },
      {
       "output_type": "stream",
       "stream": "stdout",
       "text": [
        "\n",
        "13.145236431"
       ]
      },
      {
       "output_type": "stream",
       "stream": "stdout",
       "text": [
        "\n",
        "13.1515387477"
       ]
      },
      {
       "output_type": "stream",
       "stream": "stdout",
       "text": [
        "\n",
        "13.1635163956"
       ]
      },
      {
       "output_type": "stream",
       "stream": "stdout",
       "text": [
        "\n",
        "13.1731290202"
       ]
      },
      {
       "output_type": "stream",
       "stream": "stdout",
       "text": [
        "\n",
        "13.2223110311"
       ]
      },
      {
       "output_type": "stream",
       "stream": "stdout",
       "text": [
        "\n",
        "13.2319791748"
       ]
      },
      {
       "output_type": "stream",
       "stream": "stdout",
       "text": [
        "\n",
        "13.2375692019"
       ]
      },
      {
       "output_type": "stream",
       "stream": "stdout",
       "text": [
        "\n",
        "13.2375692019"
       ]
      },
      {
       "output_type": "stream",
       "stream": "stdout",
       "text": [
        "\n",
        "13.2375692019"
       ]
      },
      {
       "output_type": "stream",
       "stream": "stdout",
       "text": [
        "\n",
        "0.0"
       ]
      },
      {
       "output_type": "stream",
       "stream": "stdout",
       "text": [
        "\n",
        "0.0\n",
        "0.0"
       ]
      },
      {
       "output_type": "stream",
       "stream": "stdout",
       "text": [
        "\n",
        "0.0"
       ]
      },
      {
       "output_type": "stream",
       "stream": "stdout",
       "text": [
        "\n",
        "0.0"
       ]
      },
      {
       "output_type": "stream",
       "stream": "stdout",
       "text": [
        "\n",
        "0.0\n",
        "0.0"
       ]
      },
      {
       "output_type": "stream",
       "stream": "stdout",
       "text": [
        "\n",
        "0.0"
       ]
      },
      {
       "output_type": "stream",
       "stream": "stdout",
       "text": [
        "\n"
       ]
      }
     ],
     "prompt_number": 160
    },
    {
     "cell_type": "code",
     "collapsed": false,
     "input": [
      "flist"
     ],
     "language": "python",
     "metadata": {},
     "outputs": [
      {
       "metadata": {},
       "output_type": "pyout",
       "prompt_number": 209,
       "text": [
        "['2010jl_otfr/ocdd03010_flt.fits',\n",
        " '2010jl_otfr/ocdd03020_flt.fits',\n",
        " '2010jl_otfr/ocdd03030_flt.fits',\n",
        " '2010jl_otfr/ocdd03040_flt.fits',\n",
        " '2010jl_otfr/ocdd03050_flt.fits',\n",
        " '2010jl_otfr/ocdd03060_flt.fits',\n",
        " '2010jl_otfr/ocdd03070_flt.fits',\n",
        " '2010jl_otfr/ocdd03080_flt.fits',\n",
        " '2010jl_otfr/ocdd03090_flt.fits',\n",
        " '2010jl_otfr/ocdd030a0_flt.fits',\n",
        " '2010jl_otfr/ocdd030b0_flt.fits',\n",
        " '2010jl_otfr/ocdd030c0_flt.fits',\n",
        " '2010jl_otfr/ocdd030d0_flt.fits',\n",
        " '2010jl_otfr/ocdd030e0_flt.fits',\n",
        " '2010jl_otfr/ocdd030f0_flt.fits',\n",
        " '2010jl_otfr/ocdd030g0_flt.fits',\n",
        " '2010jl_otfr/ocdd030h0_flt.fits',\n",
        " '2010jl_otfr/ocdd030i0_flt.fits',\n",
        " '2010jl_otfr/ocdd030j0_flt.fits',\n",
        " '2010jl_otfr/ocdd030k0_flt.fits']"
       ]
      }
     ],
     "prompt_number": 209
    },
    {
     "cell_type": "code",
     "collapsed": false,
     "input": [
      "len(tbdata['dq'][0][:10])"
     ],
     "language": "python",
     "metadata": {},
     "outputs": [
      {
       "metadata": {},
       "output_type": "pyout",
       "prompt_number": 212,
       "text": [
        "10"
       ]
      }
     ],
     "prompt_number": 212
    },
    {
     "cell_type": "code",
     "collapsed": false,
     "input": [
      "len(tbdata['dq'][0][-10:])\n",
      "8192*4"
     ],
     "language": "python",
     "metadata": {},
     "outputs": [
      {
       "metadata": {},
       "output_type": "pyout",
       "prompt_number": 218,
       "text": [
        "32768"
       ]
      }
     ],
     "prompt_number": 218
    },
    {
     "cell_type": "code",
     "collapsed": false,
     "input": [
      "dq_flags = [1, 2, 4, 8, 16, 32, 64, 128, 256, 512, 1024, 2048, 4096, 8192, 16384, 32768]\n",
      "not_sdqflag = 0\n",
      "for flag in dq_flags:\n",
      "    if 31743&flag == 0:\n",
      "        not_sdqflag+=flag\n",
      "        \n",
      "print not_sdqflag\n"
     ],
     "language": "python",
     "metadata": {},
     "outputs": [
      {
       "output_type": "stream",
       "stream": "stdout",
       "text": [
        "33792\n"
       ]
      }
     ],
     "prompt_number": 220
    },
    {
     "cell_type": "code",
     "collapsed": false,
     "input": [
      "33792&4"
     ],
     "language": "python",
     "metadata": {},
     "outputs": [
      {
       "metadata": {},
       "output_type": "pyout",
       "prompt_number": 221,
       "text": [
        "0"
       ]
      }
     ],
     "prompt_number": 221
    },
    {
     "cell_type": "code",
     "collapsed": false,
     "input": [],
     "language": "python",
     "metadata": {},
     "outputs": []
    }
   ],
   "metadata": {}
  }
 ]
}